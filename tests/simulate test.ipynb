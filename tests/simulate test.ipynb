{
 "cells": [
  {
   "cell_type": "code",
   "execution_count": 1,
   "metadata": {},
   "outputs": [],
   "source": [
    "# Disable Cache\n",
    "import os, sys\n",
    "sys.dont_write_bytecode = True\n",
    "os.environ[\"NUMBA_DISABLE_JIT\"] = \"1\"\n",
    "\n",
    "import quantfreedom as qf\n",
    "import pandas as pd\n",
    "from quantfreedom.backtester.nb.simulate import simulate_from_signals\n",
    "from quantfreedom.backtester.base.base import rsi_below_entries\n",
    "from quantfreedom.backtester.enums.enums import (\n",
    "    LeverageMode, \n",
    "    SizeType,\n",
    "    OrderType,\n",
    "    SL_BE_or_Trail_BasedOn,\n",
    "    )\n",
    "# qf.clear_cache()\n",
    "\n",
    "prices = pd.read_csv('30min.csv', index_col='time')\n",
    "entries = rsi_below_entries(\n",
    "    timeperiods=[20],\n",
    "    below_ranges=[50],\n",
    "    prices=prices.close\n",
    ")"
   ]
  },
  {
   "cell_type": "code",
   "execution_count": 2,
   "metadata": {},
   "outputs": [
    {
     "ename": "ValueError",
     "evalue": "You can't have sl_to_be and tsl_true_or_false both be true",
     "output_type": "error",
     "traceback": [
      "\u001b[1;31m---------------------------------------------------------------------------\u001b[0m",
      "\u001b[1;31mValueError\u001b[0m                                Traceback (most recent call last)",
      "Cell \u001b[1;32mIn[2], line 1\u001b[0m\n\u001b[1;32m----> 1\u001b[0m df, order_rec, cart \u001b[39m=\u001b[39m simulate_from_signals(\n\u001b[0;32m      2\u001b[0m     open_prices\u001b[39m=\u001b[39;49mprices\u001b[39m.\u001b[39;49mopen\u001b[39m.\u001b[39;49mvalues,\n\u001b[0;32m      3\u001b[0m     high_prices\u001b[39m=\u001b[39;49mprices\u001b[39m.\u001b[39;49mhigh\u001b[39m.\u001b[39;49mvalues,\n\u001b[0;32m      4\u001b[0m     low_prices\u001b[39m=\u001b[39;49mprices\u001b[39m.\u001b[39;49mlow\u001b[39m.\u001b[39;49mvalues,\n\u001b[0;32m      5\u001b[0m     close_prices\u001b[39m=\u001b[39;49mprices\u001b[39m.\u001b[39;49mclose\u001b[39m.\u001b[39;49mvalues,\n\u001b[0;32m      6\u001b[0m     entries\u001b[39m=\u001b[39;49mentries\u001b[39m.\u001b[39;49mvalues,\n\u001b[0;32m      7\u001b[0m     equity\u001b[39m=\u001b[39;49m\u001b[39m1000.\u001b[39;49m,\n\u001b[0;32m      8\u001b[0m     fee_pct\u001b[39m=\u001b[39;49m\u001b[39m.06\u001b[39;49m,\n\u001b[0;32m      9\u001b[0m     mmr\u001b[39m=\u001b[39;49m\u001b[39m.5\u001b[39;49m,\n\u001b[0;32m     10\u001b[0m     lev_mode\u001b[39m=\u001b[39;49mLeverageMode\u001b[39m.\u001b[39;49mLeastFreeCashUsed,\n\u001b[0;32m     11\u001b[0m     size_type\u001b[39m=\u001b[39;49mSizeType\u001b[39m.\u001b[39;49mRiskPercentOfAccount,\n\u001b[0;32m     12\u001b[0m     order_type\u001b[39m=\u001b[39;49mOrderType\u001b[39m.\u001b[39;49mLongEntry,\n\u001b[0;32m     13\u001b[0m     max_equity_risk_pct\u001b[39m=\u001b[39;49m\u001b[39m3.\u001b[39;49m,\n\u001b[0;32m     14\u001b[0m     risk_rewards\u001b[39m=\u001b[39;49m[\u001b[39m5\u001b[39;49m],\n\u001b[0;32m     15\u001b[0m     size_pct\u001b[39m=\u001b[39;49m\u001b[39m1.\u001b[39;49m,\n\u001b[0;32m     16\u001b[0m     tsl_pcts\u001b[39m=\u001b[39;49m[\u001b[39m2\u001b[39;49m],\n\u001b[0;32m     17\u001b[0m     \u001b[39m# gains_pct_filter=100,\u001b[39;49;00m\n\u001b[0;32m     18\u001b[0m     sl_to_be\u001b[39m=\u001b[39;49m\u001b[39mTrue\u001b[39;49;00m,\n\u001b[0;32m     19\u001b[0m     tsl_true_or_false\u001b[39m=\u001b[39;49m\u001b[39mTrue\u001b[39;49;00m,\n\u001b[0;32m     20\u001b[0m     \u001b[39m# tsl_based_on=SL_BE_or_Trail_BasedOn.low_price,\u001b[39;49;00m\n\u001b[0;32m     21\u001b[0m     \u001b[39m# tsl_trail_by_pct=1,\u001b[39;49;00m\n\u001b[0;32m     22\u001b[0m     \u001b[39m# tsl_when_pct_from_avg_entry=1,\u001b[39;49;00m\n\u001b[0;32m     23\u001b[0m )\n\u001b[0;32m     24\u001b[0m pd\u001b[39m.\u001b[39mDataFrame(order_rec)\u001b[39m.\u001b[39mhead(\u001b[39m10\u001b[39m)\n",
      "File \u001b[1;32me:\\coding\\backtesters\\quantfreedom\\quantfreedom\\backtester\\nb\\simulate.py:123\u001b[0m, in \u001b[0;36msimulate_from_signals\u001b[1;34m(entries, open_prices, high_prices, low_prices, close_prices, equity, fee_pct, mmr, lev_mode, order_type, size_type, leverage, max_equity_risk_pct, max_equity_risk_value, max_lev, max_order_size_pct, min_order_size_pct, max_order_size_value, min_order_size_value, size_pct, size_value, sl_pcts, sl_prices, sl_to_be, sl_to_be_based_on, sl_to_be_when_pct_from_avg_entry, sl_to_be_zero_or_entry, sl_to_be_then_trail, sl_to_be_trail_by_when_pct_from_avg_entry, tsl_pcts, tsl_prices, tsl_true_or_false, tsl_based_on, tsl_trail_by_pct, tsl_when_pct_from_avg_entry, risk_rewards, tp_pcts, tp_prices, gains_pct_filter, total_trade_filter)\u001b[0m\n\u001b[0;32m    119\u001b[0m     \u001b[39mraise\u001b[39;00m \u001b[39mValueError\u001b[39;00m(\n\u001b[0;32m    120\u001b[0m         \u001b[39m\"\u001b[39m\u001b[39mmax_order_size_value has to be > min_order_size_value\u001b[39m\u001b[39m\"\u001b[39m)\n\u001b[0;32m    122\u001b[0m \u001b[39mif\u001b[39;00m sl_to_be \u001b[39m==\u001b[39m \u001b[39mTrue\u001b[39;00m \u001b[39mand\u001b[39;00m tsl_true_or_false \u001b[39m==\u001b[39m \u001b[39mTrue\u001b[39;00m:\n\u001b[1;32m--> 123\u001b[0m     \u001b[39mraise\u001b[39;00m \u001b[39mValueError\u001b[39;00m(\n\u001b[0;32m    124\u001b[0m         \u001b[39m\"\u001b[39m\u001b[39mYou can\u001b[39m\u001b[39m'\u001b[39m\u001b[39mt have sl_to_be and tsl_true_or_false both be true\u001b[39m\u001b[39m\"\u001b[39m)\n\u001b[0;32m    126\u001b[0m \u001b[39mif\u001b[39;00m sl_to_be \u001b[39m!=\u001b[39m \u001b[39mTrue\u001b[39;00m \u001b[39mand\u001b[39;00m sl_to_be \u001b[39m!=\u001b[39m \u001b[39mFalse\u001b[39;00m:\n\u001b[0;32m    127\u001b[0m     \u001b[39mraise\u001b[39;00m \u001b[39mValueError\u001b[39;00m(\n\u001b[0;32m    128\u001b[0m         \u001b[39m\"\u001b[39m\u001b[39msl_to_be needs to be true or false\u001b[39m\u001b[39m\"\u001b[39m)\n",
      "\u001b[1;31mValueError\u001b[0m: You can't have sl_to_be and tsl_true_or_false both be true"
     ]
    }
   ],
   "source": [
    "df, order_rec, cart = simulate_from_signals(\n",
    "    open_prices=prices.open.values,\n",
    "    high_prices=prices.high.values,\n",
    "    low_prices=prices.low.values,\n",
    "    close_prices=prices.close.values,\n",
    "    entries=entries.values,\n",
    "    equity=1000.,\n",
    "    fee_pct=.06,\n",
    "    mmr=.5,\n",
    "    lev_mode=LeverageMode.LeastFreeCashUsed,\n",
    "    size_type=SizeType.RiskPercentOfAccount,\n",
    "    order_type=OrderType.LongEntry,\n",
    "    max_equity_risk_pct=3.,\n",
    "    risk_rewards=[5],\n",
    "    size_pct=1.,\n",
    "    tsl_pcts=[2],\n",
    "    # gains_pct_filter=100,\n",
    "    sl_to_be=True,\n",
    "    tsl_true_or_false=True,\n",
    "    # tsl_based_on=SL_BE_or_Trail_BasedOn.low_price,\n",
    "    # tsl_trail_by_pct=1,\n",
    "    # tsl_when_pct_from_avg_entry=1,\n",
    ")\n",
    "pd.DataFrame(order_rec).head(10)"
   ]
  },
  {
   "cell_type": "code",
   "execution_count": null,
   "metadata": {},
   "outputs": [],
   "source": [
    "pd.DataFrame(df)"
   ]
  },
  {
   "cell_type": "code",
   "execution_count": null,
   "metadata": {},
   "outputs": [],
   "source": [
    "pd.DataFrame(cart).T"
   ]
  }
 ],
 "metadata": {
  "kernelspec": {
   "display_name": "qfFree",
   "language": "python",
   "name": "python3"
  },
  "language_info": {
   "codemirror_mode": {
    "name": "ipython",
    "version": 3
   },
   "file_extension": ".py",
   "mimetype": "text/x-python",
   "name": "python",
   "nbconvert_exporter": "python",
   "pygments_lexer": "ipython3",
   "version": "3.10.10"
  },
  "orig_nbformat": 4
 },
 "nbformat": 4,
 "nbformat_minor": 2
}
