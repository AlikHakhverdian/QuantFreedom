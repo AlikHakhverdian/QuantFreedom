{
 "cells": [
  {
   "cell_type": "code",
   "execution_count": 1,
   "metadata": {},
   "outputs": [],
   "source": [
    "import os\n",
    "import sys\n",
    "sys.dont_write_bytecode = True\n",
    "os.environ[\"NUMBA_DISABLE_JIT\"] = \"1\"\n",
    "\n",
    "import quantfreedom as qf\n",
    "import pandas as pd\n",
    "import numpy as np\n",
    "import numba\n",
    "from quantfreedom.backtester.base.base import rsi_below_entries, log_trades_plot\n",
    "from quantfreedom.backtester.nb.simulate import simulate_from_signals\n",
    "from quantfreedom.backtester.enums.enums import (\n",
    "    LeverageMode,\n",
    "    SizeType,\n",
    "    OrderType,\n",
    "    SL_BE_or_Trail_BasedOn,\n",
    "    or_dt,\n",
    "    cart_array_dt,\n",
    ")\n",
    "pd.options.display.float_format = '{:,.2f}'.format\n",
    "# qf.clear_cache()\n",
    "\n",
    "prices = pd.read_csv('30min.csv', index_col='time')\n",
    "entries = rsi_below_entries(\n",
    "    timeperiods=[20],\n",
    "    below_ranges=[50],\n",
    "    prices=prices.close\n",
    ")\n"
   ]
  },
  {
   "cell_type": "code",
   "execution_count": 2,
   "metadata": {},
   "outputs": [
    {
     "ename": "TypingError",
     "evalue": "Failed in nopython mode pipeline (step: nopython frontend)\n\u001b[1mType of variable 'cart_array.146' cannot be determined, operation: unknown operation, location: unknown location (0:0)\n\u001b[1m\nFile \"unknown location\", line 0:\u001b[0m\n\u001b[1m<source missing, REPL/exec in use?>\u001b[0m\n\u001b[0m",
     "output_type": "error",
     "traceback": [
      "\u001b[1;31m---------------------------------------------------------------------------\u001b[0m",
      "\u001b[1;31mTypingError\u001b[0m                               Traceback (most recent call last)",
      "Cell \u001b[1;32mIn[2], line 1\u001b[0m\n\u001b[1;32m----> 1\u001b[0m simulate_from_signals(\n\u001b[0;32m      2\u001b[0m     open_prices\u001b[39m=\u001b[39;49mprices\u001b[39m.\u001b[39;49mopen\u001b[39m.\u001b[39;49mvalues,\n\u001b[0;32m      3\u001b[0m     high_prices\u001b[39m=\u001b[39;49mprices\u001b[39m.\u001b[39;49mhigh\u001b[39m.\u001b[39;49mvalues,\n\u001b[0;32m      4\u001b[0m     low_prices\u001b[39m=\u001b[39;49mprices\u001b[39m.\u001b[39;49mlow\u001b[39m.\u001b[39;49mvalues,\n\u001b[0;32m      5\u001b[0m     close_prices\u001b[39m=\u001b[39;49mprices\u001b[39m.\u001b[39;49mclose\u001b[39m.\u001b[39;49mvalues,\n\u001b[0;32m      6\u001b[0m     entries\u001b[39m=\u001b[39;49mentries\u001b[39m.\u001b[39;49mvalues,\n\u001b[0;32m      7\u001b[0m     equity\u001b[39m=\u001b[39;49m\u001b[39m1000.\u001b[39;49m,\n\u001b[0;32m      8\u001b[0m     fee_pct\u001b[39m=\u001b[39;49m\u001b[39m.06\u001b[39;49m,\n\u001b[0;32m      9\u001b[0m     mmr\u001b[39m=\u001b[39;49m\u001b[39m.5\u001b[39;49m,\n\u001b[0;32m     10\u001b[0m     lev_mode\u001b[39m=\u001b[39;49mLeverageMode\u001b[39m.\u001b[39;49mLeastFreeCashUsed,\n\u001b[0;32m     11\u001b[0m     size_type\u001b[39m=\u001b[39;49mSizeType\u001b[39m.\u001b[39;49mRiskPercentOfAccount,\n\u001b[0;32m     12\u001b[0m     order_type\u001b[39m=\u001b[39;49mOrderType\u001b[39m.\u001b[39;49mLongEntry,\n\u001b[0;32m     13\u001b[0m     max_equity_risk_pct\u001b[39m=\u001b[39;49m\u001b[39m3.\u001b[39;49m,\n\u001b[0;32m     14\u001b[0m     risk_rewards\u001b[39m=\u001b[39;49m[\u001b[39m3\u001b[39;49m,\u001b[39m4\u001b[39;49m,\u001b[39m5\u001b[39;49m],\n\u001b[0;32m     15\u001b[0m     size_pct\u001b[39m=\u001b[39;49m\u001b[39m1.\u001b[39;49m,\n\u001b[0;32m     16\u001b[0m     tsl_pcts_init\u001b[39m=\u001b[39;49m[\u001b[39m3\u001b[39;49m, \u001b[39m4\u001b[39;49m, \u001b[39m5\u001b[39;49m],\n\u001b[0;32m     17\u001b[0m     tsl_true_or_false\u001b[39m=\u001b[39;49m\u001b[39mTrue\u001b[39;49;00m,\n\u001b[0;32m     18\u001b[0m     tsl_based_on\u001b[39m=\u001b[39;49mSL_BE_or_Trail_BasedOn\u001b[39m.\u001b[39;49mlow_price,\n\u001b[0;32m     19\u001b[0m     tsl_trail_by_pct\u001b[39m=\u001b[39;49m\u001b[39m1\u001b[39;49m,\n\u001b[0;32m     20\u001b[0m     tsl_when_pct_from_avg_entry\u001b[39m=\u001b[39;49m[\u001b[39m3\u001b[39;49m,\u001b[39m4\u001b[39;49m,\u001b[39m5\u001b[39;49m],\n\u001b[0;32m     21\u001b[0m     gains_pct_filter\u001b[39m=\u001b[39;49m\u001b[39m63\u001b[39;49m,\n\u001b[0;32m     22\u001b[0m )\n",
      "File \u001b[1;32me:\\Coding\\virtual environments\\qfFree\\lib\\site-packages\\numba\\core\\dispatcher.py:468\u001b[0m, in \u001b[0;36m_DispatcherBase._compile_for_args\u001b[1;34m(self, *args, **kws)\u001b[0m\n\u001b[0;32m    464\u001b[0m         msg \u001b[39m=\u001b[39m (\u001b[39mf\u001b[39m\u001b[39m\"\u001b[39m\u001b[39m{\u001b[39;00m\u001b[39mstr\u001b[39m(e)\u001b[39m.\u001b[39mrstrip()\u001b[39m}\u001b[39;00m\u001b[39m \u001b[39m\u001b[39m\\n\u001b[39;00m\u001b[39m\\n\u001b[39;00m\u001b[39mThis error may have been caused \u001b[39m\u001b[39m\"\u001b[39m\n\u001b[0;32m    465\u001b[0m                \u001b[39mf\u001b[39m\u001b[39m\"\u001b[39m\u001b[39mby the following argument(s):\u001b[39m\u001b[39m\\n\u001b[39;00m\u001b[39m{\u001b[39;00margs_str\u001b[39m}\u001b[39;00m\u001b[39m\\n\u001b[39;00m\u001b[39m\"\u001b[39m)\n\u001b[0;32m    466\u001b[0m         e\u001b[39m.\u001b[39mpatch_message(msg)\n\u001b[1;32m--> 468\u001b[0m     error_rewrite(e, \u001b[39m'\u001b[39;49m\u001b[39mtyping\u001b[39;49m\u001b[39m'\u001b[39;49m)\n\u001b[0;32m    469\u001b[0m \u001b[39mexcept\u001b[39;00m errors\u001b[39m.\u001b[39mUnsupportedError \u001b[39mas\u001b[39;00m e:\n\u001b[0;32m    470\u001b[0m     \u001b[39m# Something unsupported is present in the user code, add help info\u001b[39;00m\n\u001b[0;32m    471\u001b[0m     error_rewrite(e, \u001b[39m'\u001b[39m\u001b[39munsupported_error\u001b[39m\u001b[39m'\u001b[39m)\n",
      "File \u001b[1;32me:\\Coding\\virtual environments\\qfFree\\lib\\site-packages\\numba\\core\\dispatcher.py:409\u001b[0m, in \u001b[0;36m_DispatcherBase._compile_for_args.<locals>.error_rewrite\u001b[1;34m(e, issue_type)\u001b[0m\n\u001b[0;32m    407\u001b[0m     \u001b[39mraise\u001b[39;00m e\n\u001b[0;32m    408\u001b[0m \u001b[39melse\u001b[39;00m:\n\u001b[1;32m--> 409\u001b[0m     \u001b[39mraise\u001b[39;00m e\u001b[39m.\u001b[39mwith_traceback(\u001b[39mNone\u001b[39;00m)\n",
      "\u001b[1;31mTypingError\u001b[0m: Failed in nopython mode pipeline (step: nopython frontend)\n\u001b[1mType of variable 'cart_array.146' cannot be determined, operation: unknown operation, location: unknown location (0:0)\n\u001b[1m\nFile \"unknown location\", line 0:\u001b[0m\n\u001b[1m<source missing, REPL/exec in use?>\u001b[0m\n\u001b[0m"
     ]
    }
   ],
   "source": [
    "simulate_from_signals(\n",
    "    open_prices=prices.open.values,\n",
    "    high_prices=prices.high.values,\n",
    "    low_prices=prices.low.values,\n",
    "    close_prices=prices.close.values,\n",
    "    entries=entries.values,\n",
    "    equity=1000.,\n",
    "    fee_pct=.06,\n",
    "    mmr=.5,\n",
    "    lev_mode=LeverageMode.LeastFreeCashUsed,\n",
    "    size_type=SizeType.RiskPercentOfAccount,\n",
    "    order_type=OrderType.LongEntry,\n",
    "    max_equity_risk_pct=3.,\n",
    "    risk_rewards=[3,4,5],\n",
    "    size_pct=1.,\n",
    "    tsl_pcts_init=[3, 4, 5],\n",
    "    tsl_true_or_false=True,\n",
    "    tsl_based_on=SL_BE_or_Trail_BasedOn.low_price,\n",
    "    tsl_trail_by_pct=1,\n",
    "    tsl_when_pct_from_avg_entry=[3,4,5],\n",
    "    gains_pct_filter=63,\n",
    ")\n"
   ]
  },
  {
   "cell_type": "code",
   "execution_count": 3,
   "metadata": {},
   "outputs": [
    {
     "ename": "NameError",
     "evalue": "name 'order_rec' is not defined",
     "output_type": "error",
     "traceback": [
      "\u001b[1;31m---------------------------------------------------------------------------\u001b[0m",
      "\u001b[1;31mNameError\u001b[0m                                 Traceback (most recent call last)",
      "Cell \u001b[1;32mIn[3], line 1\u001b[0m\n\u001b[1;32m----> 1\u001b[0m df_or \u001b[39m=\u001b[39m pd\u001b[39m.\u001b[39mDataFrame(order_rec)\n\u001b[0;32m      2\u001b[0m \u001b[39mfor\u001b[39;00m i \u001b[39min\u001b[39;00m \u001b[39mrange\u001b[39m(\u001b[39mlen\u001b[39m(OrderType\u001b[39m.\u001b[39m_fields)):\n\u001b[0;32m      3\u001b[0m     df_or\u001b[39m.\u001b[39mreplace({\u001b[39m'\u001b[39m\u001b[39morder_type\u001b[39m\u001b[39m'\u001b[39m: {i: OrderType\u001b[39m.\u001b[39m_fields[i]}}, inplace\u001b[39m=\u001b[39m\u001b[39mTrue\u001b[39;00m)\n",
      "\u001b[1;31mNameError\u001b[0m: name 'order_rec' is not defined"
     ]
    }
   ],
   "source": [
    "df_or = pd.DataFrame(order_rec)\n",
    "for i in range(len(OrderType._fields)):\n",
    "    df_or.replace({'order_type': {i: OrderType._fields[i]}}, inplace=True)\n",
    "df_or.head(20)\n",
    "    "
   ]
  },
  {
   "cell_type": "code",
   "execution_count": null,
   "metadata": {},
   "outputs": [],
   "source": [
    "pd.DataFrame(df)\n"
   ]
  },
  {
   "cell_type": "code",
   "execution_count": null,
   "metadata": {},
   "outputs": [],
   "source": [
    "df_cart = pd.DataFrame(cart).dropna(axis='columns', thresh=1)\n",
    "for i in range(len(SL_BE_or_Trail_BasedOn._fields)):\n",
    "    df_cart.replace({'tsl_based_on': {i: SL_BE_or_Trail_BasedOn._fields[i]}}, inplace=True)\n",
    "    df_cart.replace({'sl_to_be_based_on': {i: SL_BE_or_Trail_BasedOn._fields[i]}}, inplace=True)\n",
    "df_cart.T"
   ]
  },
  {
   "cell_type": "code",
   "execution_count": null,
   "metadata": {},
   "outputs": [],
   "source": [
    "log_trades_plot(\n",
    "    open_prices=prices.open,\n",
    "    high_prices=prices.high,\n",
    "    low_prices=prices.low,\n",
    "    close_prices=prices.close,\n",
    "    order_records=order_rec[3:15],\n",
    ")\n"
   ]
  }
 ],
 "metadata": {
  "kernelspec": {
   "display_name": "qfFree",
   "language": "python",
   "name": "python3"
  },
  "language_info": {
   "codemirror_mode": {
    "name": "ipython",
    "version": 3
   },
   "file_extension": ".py",
   "mimetype": "text/x-python",
   "name": "python",
   "nbconvert_exporter": "python",
   "pygments_lexer": "ipython3",
   "version": "3.10.10"
  },
  "orig_nbformat": 4
 },
 "nbformat": 4,
 "nbformat_minor": 2
}
