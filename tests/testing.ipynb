{
 "cells": [
  {
   "cell_type": "code",
   "execution_count": 4,
   "metadata": {},
   "outputs": [],
   "source": [
    "import os\n",
    "import sys\n",
    "sys.dont_write_bytecode = True\n",
    "os.environ[\"NUMBA_DISABLE_JIT\"] = \"1\"\n",
    "import plotly.express as px\n",
    "import plotly.graph_objects as go\n",
    "\n",
    "\n",
    "import pandas as pd\n",
    "import numpy as np\n",
    "from quantfreedom.utils.caching import clear_cache\n",
    "from quantfreedom.backtester.base.base import  plot_trades_all_info\n",
    "from quantfreedom.backtester.nb.simulate import simulate_up_to_6\n",
    "from quantfreedom.backtester.enums.enums import (\n",
    "    LeverageMode,\n",
    "    SizeType,\n",
    "    OrderType,\n",
    "    SL_BE_or_Trail_BasedOn,\n",
    ")\n",
    "from quantfreedom.backtester.indicators.talib_ind import from_talib\n",
    "from quantfreedom.backtester.evaluators.evaluators import eval_is_below\n",
    "\n",
    "pd.options.display.float_format = '{:,.2f}'.format\n",
    "\n",
    "prices = pd.read_csv(\n",
    "    'E:/Coding/backtesters/QuantFreedom/tests/data/30min.csv', index_col='time')\n",
    "\n",
    "rsi_ind = from_talib(\n",
    "    func_name='rsi',\n",
    "    df_prices=prices,\n",
    "    cart_product=False,\n",
    "    combos=False,\n",
    "    timeperiod=15,\n",
    ")\n",
    "rsi_eval = eval_is_below(\n",
    "    rsi_ind,\n",
    "    np.arange(40, 61, 10),\n",
    ")\n"
   ]
  },
  {
   "cell_type": "code",
   "execution_count": 5,
   "metadata": {},
   "outputs": [],
   "source": [
    "final_array, order_records = simulate_up_to_6(\n",
    "    open_prices=prices.open.values,\n",
    "    high_prices=prices.high.values,\n",
    "    low_prices=prices.low.values,\n",
    "    close_prices=prices.close.values,\n",
    "    entries=rsi_eval.values,\n",
    "    equity=1000.,\n",
    "    fee_pct=.06,\n",
    "    mmr=.5,\n",
    "    lev_mode=LeverageMode.LeastFreeCashUsed,\n",
    "    size_type=SizeType.RiskPercentOfAccount,\n",
    "    order_type=OrderType.LongEntry,\n",
    "    max_equity_risk_pct=4,\n",
    "    risk_rewards=[3,5,6],\n",
    "    size_pct=1.,\n",
    "    # sl_pcts=[2,3,4],\n",
    "    tsl_true_or_false=True,\n",
    "    tsl_pcts_init=np.arange(2,5,1),\n",
    "    tsl_based_on=SL_BE_or_Trail_BasedOn.low_price,\n",
    "    tsl_trail_by_pct=np.arange(1,4,1),\n",
    "    tsl_when_pct_from_avg_entry=np.arange(1,4,1),\n",
    ")\n"
   ]
  },
  {
   "cell_type": "code",
   "execution_count": 22,
   "metadata": {},
   "outputs": [
    {
     "data": {
      "application/vnd.plotly.v1+json": {
       "config": {
        "plotlyServerURL": "https://plot.ly"
       },
       "data": [
        {
         "cells": {
          "align": [
           "left",
           "center"
          ],
          "font": {
           "color": "darkslategray",
           "size": 11
          },
          "line": {
           "color": "darkslategray"
          },
          "values": [
           [
            0,
            1,
            2,
            3,
            4,
            5,
            6,
            7,
            8,
            9,
            10,
            11,
            12,
            13,
            14,
            15,
            16,
            17,
            18,
            19
           ],
           [
            0,
            0,
            0,
            0,
            0,
            0,
            0,
            0,
            0,
            0,
            0,
            0,
            0,
            0,
            0,
            0,
            0,
            0,
            0,
            0
           ],
           [
            31,
            32,
            32,
            33,
            34,
            35,
            36,
            183,
            184,
            193,
            220,
            231,
            232,
            233,
            234,
            235,
            237,
            239,
            240,
            248
           ],
           [
            471.9652633566165,
            471.9652633566165,
            943.930526713233,
            462.52595808948666,
            462.52595808948666,
            462.5259580894842,
            462.5259580894843,
            null,
            null,
            null,
            null,
            null,
            null,
            null,
            null,
            null,
            null,
            null,
            null,
            null
           ],
           [
            10850,
            10725,
            10571.395133256085,
            10577.5,
            10523,
            10516,
            10489,
            null,
            null,
            null,
            null,
            null,
            null,
            null,
            null,
            null,
            null,
            null,
            null,
            null
           ],
           [
            10850,
            10787.137891077637,
            10787.137891077637,
            10577.5,
            10550.179616596763,
            10538.76175061348,
            10526.277100599931,
            10526.277100599931,
            10526.277100599931,
            10526.277100599931,
            10526.277100599931,
            10526.277100599931,
            10526.277100599931,
            10526.277100599931,
            10526.277100599931,
            10526.277100599931,
            10526.277100599931,
            10526.277100599931,
            10526.277100599931,
            10526.277100599931
           ],
           [
            null,
            null,
            1.1213894657353207,
            null,
            null,
            null,
            null,
            null,
            null,
            null,
            null,
            null,
            null,
            null,
            null,
            null,
            null,
            null,
            null,
            null
           ],
           [
            0,
            0,
            6,
            0,
            0,
            0,
            0,
            12,
            12,
            12,
            12,
            12,
            12,
            12,
            12,
            12,
            12,
            12,
            12,
            12
           ],
           [
            null,
            null,
            -20,
            null,
            null,
            null,
            null,
            null,
            null,
            null,
            null,
            null,
            null,
            null,
            null,
            null,
            null,
            null,
            null,
            null
           ],
           [
            1000,
            1000,
            980.0000000000001,
            980.0000000000001,
            980.0000000000001,
            980.0000000000001,
            980.0000000000001,
            980.0000000000001,
            980.0000000000001,
            980.0000000000001,
            980.0000000000001,
            980.0000000000001,
            980.0000000000001,
            980.0000000000001,
            980.0000000000001,
            980.0000000000001,
            980.0000000000001,
            980.0000000000001,
            980.0000000000001,
            980.0000000000001
           ],
           [
            null,
            null,
            null,
            null,
            null,
            null,
            null,
            null,
            null,
            null,
            null,
            null,
            null,
            null,
            null,
            null,
            null,
            null,
            null,
            null
           ],
           [
            10633,
            10571.395133256085,
            10571.395133256085,
            10365.95,
            10339.176024264827,
            10327.98651560121,
            10315.751558587932,
            10547.46,
            10557.36,
            10590.03,
            10601.415,
            10609.83,
            10612.8,
            10617.75,
            10618.245,
            10618.74,
            10627.65,
            10629.63,
            10646.955,
            10647.945
           ],
           [
            11553.111266760056,
            11486.175512027958,
            11486.175512027958,
            11262.95248148889,
            11233.861658511185,
            11221.703881908988,
            11208.410190597186,
            11208.410190597186,
            11208.410190597186,
            11208.410190597186,
            11208.410190597186,
            11208.410190597186,
            11208.410190597186,
            11208.410190597186,
            11208.410190597186,
            11208.410190597186,
            11208.410190597186,
            11208.410190597186,
            11208.410190597186,
            11208.410190597186
           ]
          ]
         },
         "header": {
          "align": [
           "left",
           "center"
          ],
          "fill": {
           "color": "grey"
          },
          "font": {
           "color": "white",
           "size": 12
          },
          "line": {
           "color": "darkslategray"
          },
          "values": [
           "order_id",
           "settings_id",
           "bar",
           "size_value",
           "price",
           "avg_entry",
           "fees_paid",
           "order_type",
           "real_pnl",
           "equity",
           "sl_prices",
           "tsl_prices",
           "tp_prices"
          ]
         },
         "type": "table"
        }
       ],
       "layout": {
        "template": {
         "data": {
          "bar": [
           {
            "error_x": {
             "color": "#2a3f5f"
            },
            "error_y": {
             "color": "#2a3f5f"
            },
            "marker": {
             "line": {
              "color": "#E5ECF6",
              "width": 0.5
             },
             "pattern": {
              "fillmode": "overlay",
              "size": 10,
              "solidity": 0.2
             }
            },
            "type": "bar"
           }
          ],
          "barpolar": [
           {
            "marker": {
             "line": {
              "color": "#E5ECF6",
              "width": 0.5
             },
             "pattern": {
              "fillmode": "overlay",
              "size": 10,
              "solidity": 0.2
             }
            },
            "type": "barpolar"
           }
          ],
          "carpet": [
           {
            "aaxis": {
             "endlinecolor": "#2a3f5f",
             "gridcolor": "white",
             "linecolor": "white",
             "minorgridcolor": "white",
             "startlinecolor": "#2a3f5f"
            },
            "baxis": {
             "endlinecolor": "#2a3f5f",
             "gridcolor": "white",
             "linecolor": "white",
             "minorgridcolor": "white",
             "startlinecolor": "#2a3f5f"
            },
            "type": "carpet"
           }
          ],
          "choropleth": [
           {
            "colorbar": {
             "outlinewidth": 0,
             "ticks": ""
            },
            "type": "choropleth"
           }
          ],
          "contour": [
           {
            "colorbar": {
             "outlinewidth": 0,
             "ticks": ""
            },
            "colorscale": [
             [
              0,
              "#0d0887"
             ],
             [
              0.1111111111111111,
              "#46039f"
             ],
             [
              0.2222222222222222,
              "#7201a8"
             ],
             [
              0.3333333333333333,
              "#9c179e"
             ],
             [
              0.4444444444444444,
              "#bd3786"
             ],
             [
              0.5555555555555556,
              "#d8576b"
             ],
             [
              0.6666666666666666,
              "#ed7953"
             ],
             [
              0.7777777777777778,
              "#fb9f3a"
             ],
             [
              0.8888888888888888,
              "#fdca26"
             ],
             [
              1,
              "#f0f921"
             ]
            ],
            "type": "contour"
           }
          ],
          "contourcarpet": [
           {
            "colorbar": {
             "outlinewidth": 0,
             "ticks": ""
            },
            "type": "contourcarpet"
           }
          ],
          "heatmap": [
           {
            "colorbar": {
             "outlinewidth": 0,
             "ticks": ""
            },
            "colorscale": [
             [
              0,
              "#0d0887"
             ],
             [
              0.1111111111111111,
              "#46039f"
             ],
             [
              0.2222222222222222,
              "#7201a8"
             ],
             [
              0.3333333333333333,
              "#9c179e"
             ],
             [
              0.4444444444444444,
              "#bd3786"
             ],
             [
              0.5555555555555556,
              "#d8576b"
             ],
             [
              0.6666666666666666,
              "#ed7953"
             ],
             [
              0.7777777777777778,
              "#fb9f3a"
             ],
             [
              0.8888888888888888,
              "#fdca26"
             ],
             [
              1,
              "#f0f921"
             ]
            ],
            "type": "heatmap"
           }
          ],
          "heatmapgl": [
           {
            "colorbar": {
             "outlinewidth": 0,
             "ticks": ""
            },
            "colorscale": [
             [
              0,
              "#0d0887"
             ],
             [
              0.1111111111111111,
              "#46039f"
             ],
             [
              0.2222222222222222,
              "#7201a8"
             ],
             [
              0.3333333333333333,
              "#9c179e"
             ],
             [
              0.4444444444444444,
              "#bd3786"
             ],
             [
              0.5555555555555556,
              "#d8576b"
             ],
             [
              0.6666666666666666,
              "#ed7953"
             ],
             [
              0.7777777777777778,
              "#fb9f3a"
             ],
             [
              0.8888888888888888,
              "#fdca26"
             ],
             [
              1,
              "#f0f921"
             ]
            ],
            "type": "heatmapgl"
           }
          ],
          "histogram": [
           {
            "marker": {
             "pattern": {
              "fillmode": "overlay",
              "size": 10,
              "solidity": 0.2
             }
            },
            "type": "histogram"
           }
          ],
          "histogram2d": [
           {
            "colorbar": {
             "outlinewidth": 0,
             "ticks": ""
            },
            "colorscale": [
             [
              0,
              "#0d0887"
             ],
             [
              0.1111111111111111,
              "#46039f"
             ],
             [
              0.2222222222222222,
              "#7201a8"
             ],
             [
              0.3333333333333333,
              "#9c179e"
             ],
             [
              0.4444444444444444,
              "#bd3786"
             ],
             [
              0.5555555555555556,
              "#d8576b"
             ],
             [
              0.6666666666666666,
              "#ed7953"
             ],
             [
              0.7777777777777778,
              "#fb9f3a"
             ],
             [
              0.8888888888888888,
              "#fdca26"
             ],
             [
              1,
              "#f0f921"
             ]
            ],
            "type": "histogram2d"
           }
          ],
          "histogram2dcontour": [
           {
            "colorbar": {
             "outlinewidth": 0,
             "ticks": ""
            },
            "colorscale": [
             [
              0,
              "#0d0887"
             ],
             [
              0.1111111111111111,
              "#46039f"
             ],
             [
              0.2222222222222222,
              "#7201a8"
             ],
             [
              0.3333333333333333,
              "#9c179e"
             ],
             [
              0.4444444444444444,
              "#bd3786"
             ],
             [
              0.5555555555555556,
              "#d8576b"
             ],
             [
              0.6666666666666666,
              "#ed7953"
             ],
             [
              0.7777777777777778,
              "#fb9f3a"
             ],
             [
              0.8888888888888888,
              "#fdca26"
             ],
             [
              1,
              "#f0f921"
             ]
            ],
            "type": "histogram2dcontour"
           }
          ],
          "mesh3d": [
           {
            "colorbar": {
             "outlinewidth": 0,
             "ticks": ""
            },
            "type": "mesh3d"
           }
          ],
          "parcoords": [
           {
            "line": {
             "colorbar": {
              "outlinewidth": 0,
              "ticks": ""
             }
            },
            "type": "parcoords"
           }
          ],
          "pie": [
           {
            "automargin": true,
            "type": "pie"
           }
          ],
          "scatter": [
           {
            "fillpattern": {
             "fillmode": "overlay",
             "size": 10,
             "solidity": 0.2
            },
            "type": "scatter"
           }
          ],
          "scatter3d": [
           {
            "line": {
             "colorbar": {
              "outlinewidth": 0,
              "ticks": ""
             }
            },
            "marker": {
             "colorbar": {
              "outlinewidth": 0,
              "ticks": ""
             }
            },
            "type": "scatter3d"
           }
          ],
          "scattercarpet": [
           {
            "marker": {
             "colorbar": {
              "outlinewidth": 0,
              "ticks": ""
             }
            },
            "type": "scattercarpet"
           }
          ],
          "scattergeo": [
           {
            "marker": {
             "colorbar": {
              "outlinewidth": 0,
              "ticks": ""
             }
            },
            "type": "scattergeo"
           }
          ],
          "scattergl": [
           {
            "marker": {
             "colorbar": {
              "outlinewidth": 0,
              "ticks": ""
             }
            },
            "type": "scattergl"
           }
          ],
          "scattermapbox": [
           {
            "marker": {
             "colorbar": {
              "outlinewidth": 0,
              "ticks": ""
             }
            },
            "type": "scattermapbox"
           }
          ],
          "scatterpolar": [
           {
            "marker": {
             "colorbar": {
              "outlinewidth": 0,
              "ticks": ""
             }
            },
            "type": "scatterpolar"
           }
          ],
          "scatterpolargl": [
           {
            "marker": {
             "colorbar": {
              "outlinewidth": 0,
              "ticks": ""
             }
            },
            "type": "scatterpolargl"
           }
          ],
          "scatterternary": [
           {
            "marker": {
             "colorbar": {
              "outlinewidth": 0,
              "ticks": ""
             }
            },
            "type": "scatterternary"
           }
          ],
          "surface": [
           {
            "colorbar": {
             "outlinewidth": 0,
             "ticks": ""
            },
            "colorscale": [
             [
              0,
              "#0d0887"
             ],
             [
              0.1111111111111111,
              "#46039f"
             ],
             [
              0.2222222222222222,
              "#7201a8"
             ],
             [
              0.3333333333333333,
              "#9c179e"
             ],
             [
              0.4444444444444444,
              "#bd3786"
             ],
             [
              0.5555555555555556,
              "#d8576b"
             ],
             [
              0.6666666666666666,
              "#ed7953"
             ],
             [
              0.7777777777777778,
              "#fb9f3a"
             ],
             [
              0.8888888888888888,
              "#fdca26"
             ],
             [
              1,
              "#f0f921"
             ]
            ],
            "type": "surface"
           }
          ],
          "table": [
           {
            "cells": {
             "fill": {
              "color": "#EBF0F8"
             },
             "line": {
              "color": "white"
             }
            },
            "header": {
             "fill": {
              "color": "#C8D4E3"
             },
             "line": {
              "color": "white"
             }
            },
            "type": "table"
           }
          ]
         },
         "layout": {
          "annotationdefaults": {
           "arrowcolor": "#2a3f5f",
           "arrowhead": 0,
           "arrowwidth": 1
          },
          "autotypenumbers": "strict",
          "coloraxis": {
           "colorbar": {
            "outlinewidth": 0,
            "ticks": ""
           }
          },
          "colorscale": {
           "diverging": [
            [
             0,
             "#8e0152"
            ],
            [
             0.1,
             "#c51b7d"
            ],
            [
             0.2,
             "#de77ae"
            ],
            [
             0.3,
             "#f1b6da"
            ],
            [
             0.4,
             "#fde0ef"
            ],
            [
             0.5,
             "#f7f7f7"
            ],
            [
             0.6,
             "#e6f5d0"
            ],
            [
             0.7,
             "#b8e186"
            ],
            [
             0.8,
             "#7fbc41"
            ],
            [
             0.9,
             "#4d9221"
            ],
            [
             1,
             "#276419"
            ]
           ],
           "sequential": [
            [
             0,
             "#0d0887"
            ],
            [
             0.1111111111111111,
             "#46039f"
            ],
            [
             0.2222222222222222,
             "#7201a8"
            ],
            [
             0.3333333333333333,
             "#9c179e"
            ],
            [
             0.4444444444444444,
             "#bd3786"
            ],
            [
             0.5555555555555556,
             "#d8576b"
            ],
            [
             0.6666666666666666,
             "#ed7953"
            ],
            [
             0.7777777777777778,
             "#fb9f3a"
            ],
            [
             0.8888888888888888,
             "#fdca26"
            ],
            [
             1,
             "#f0f921"
            ]
           ],
           "sequentialminus": [
            [
             0,
             "#0d0887"
            ],
            [
             0.1111111111111111,
             "#46039f"
            ],
            [
             0.2222222222222222,
             "#7201a8"
            ],
            [
             0.3333333333333333,
             "#9c179e"
            ],
            [
             0.4444444444444444,
             "#bd3786"
            ],
            [
             0.5555555555555556,
             "#d8576b"
            ],
            [
             0.6666666666666666,
             "#ed7953"
            ],
            [
             0.7777777777777778,
             "#fb9f3a"
            ],
            [
             0.8888888888888888,
             "#fdca26"
            ],
            [
             1,
             "#f0f921"
            ]
           ]
          },
          "colorway": [
           "#636efa",
           "#EF553B",
           "#00cc96",
           "#ab63fa",
           "#FFA15A",
           "#19d3f3",
           "#FF6692",
           "#B6E880",
           "#FF97FF",
           "#FECB52"
          ],
          "font": {
           "color": "#2a3f5f"
          },
          "geo": {
           "bgcolor": "white",
           "lakecolor": "white",
           "landcolor": "#E5ECF6",
           "showlakes": true,
           "showland": true,
           "subunitcolor": "white"
          },
          "hoverlabel": {
           "align": "left"
          },
          "hovermode": "closest",
          "mapbox": {
           "style": "light"
          },
          "paper_bgcolor": "white",
          "plot_bgcolor": "#E5ECF6",
          "polar": {
           "angularaxis": {
            "gridcolor": "white",
            "linecolor": "white",
            "ticks": ""
           },
           "bgcolor": "#E5ECF6",
           "radialaxis": {
            "gridcolor": "white",
            "linecolor": "white",
            "ticks": ""
           }
          },
          "scene": {
           "xaxis": {
            "backgroundcolor": "#E5ECF6",
            "gridcolor": "white",
            "gridwidth": 2,
            "linecolor": "white",
            "showbackground": true,
            "ticks": "",
            "zerolinecolor": "white"
           },
           "yaxis": {
            "backgroundcolor": "#E5ECF6",
            "gridcolor": "white",
            "gridwidth": 2,
            "linecolor": "white",
            "showbackground": true,
            "ticks": "",
            "zerolinecolor": "white"
           },
           "zaxis": {
            "backgroundcolor": "#E5ECF6",
            "gridcolor": "white",
            "gridwidth": 2,
            "linecolor": "white",
            "showbackground": true,
            "ticks": "",
            "zerolinecolor": "white"
           }
          },
          "shapedefaults": {
           "line": {
            "color": "#2a3f5f"
           }
          },
          "ternary": {
           "aaxis": {
            "gridcolor": "white",
            "linecolor": "white",
            "ticks": ""
           },
           "baxis": {
            "gridcolor": "white",
            "linecolor": "white",
            "ticks": ""
           },
           "bgcolor": "#E5ECF6",
           "caxis": {
            "gridcolor": "white",
            "linecolor": "white",
            "ticks": ""
           }
          },
          "title": {
           "x": 0.05
          },
          "xaxis": {
           "automargin": true,
           "gridcolor": "white",
           "linecolor": "white",
           "ticks": "",
           "title": {
            "standoff": 15
           },
           "zerolinecolor": "white",
           "zerolinewidth": 2
          },
          "yaxis": {
           "automargin": true,
           "gridcolor": "white",
           "linecolor": "white",
           "ticks": "",
           "title": {
            "standoff": 15
           },
           "zerolinecolor": "white",
           "zerolinewidth": 2
          }
         }
        }
       }
      }
     },
     "metadata": {},
     "output_type": "display_data"
    }
   ],
   "source": [
    "headerColor = 'grey'\n",
    "rowEvenColor = 'lightgrey'\n",
    "rowOddColor = 'white'\n",
    "\n",
    "fig = go.Figure(\n",
    "    data=[\n",
    "        go.Table(\n",
    "            header=dict(\n",
    "                values=(order_records.dtype.names),\n",
    "                line_color=\"darkslategray\",\n",
    "                fill_color=headerColor,\n",
    "                align=[\"left\", \"center\"],\n",
    "                font=dict(color=\"white\", size=12),\n",
    "            ),\n",
    "            cells=dict(\n",
    "                values=pd.DataFrame(order_records[:20]).T.values,\n",
    "                line_color=\"darkslategray\",\n",
    "                # 2-D list of colors for alternating rows\n",
    "                # fill_color=[\n",
    "                #     [\n",
    "                #         rowOddColor,\n",
    "                #         rowEvenColor,\n",
    "                #         rowOddColor,\n",
    "                #         rowEvenColor,\n",
    "                #         rowOddColor,\n",
    "                #     ]\n",
    "                #     * 5\n",
    "                # ],\n",
    "                align=[\"left\", \"center\"],\n",
    "                font=dict(color=\"darkslategray\", size=11),\n",
    "            ),\n",
    "        )\n",
    "    ]\n",
    ")\n",
    "\n",
    "fig.show()\n"
   ]
  },
  {
   "cell_type": "code",
   "execution_count": 18,
   "metadata": {},
   "outputs": [
    {
     "data": {
      "text/plain": [
       "array([[0.00000000e+00, 0.00000000e+00, 3.10000000e+01, ...,\n",
       "                   nan, 1.06330000e+04, 1.15531113e+04],\n",
       "       [1.00000000e+00, 0.00000000e+00, 3.20000000e+01, ...,\n",
       "                   nan, 1.05713951e+04, 1.14861755e+04],\n",
       "       [2.00000000e+00, 0.00000000e+00, 3.20000000e+01, ...,\n",
       "                   nan, 1.05713951e+04, 1.14861755e+04],\n",
       "       ...,\n",
       "       [3.68000000e+03, 2.00000000e+00, 6.94300000e+03, ...,\n",
       "                   nan, 5.03827606e+04, 6.55188462e+04],\n",
       "       [3.68100000e+03, 2.00000000e+00, 6.94400000e+03, ...,\n",
       "                   nan, 5.05559067e+04, 6.57440093e+04],\n",
       "       [3.68200000e+03, 2.00000000e+00, 6.95600000e+03, ...,\n",
       "                   nan, 5.26724550e+04, 6.57440093e+04]])"
      ]
     },
     "execution_count": 18,
     "metadata": {},
     "output_type": "execute_result"
    }
   ],
   "source": [
    "pd.DataFrame(order_records).values"
   ]
  },
  {
   "cell_type": "code",
   "execution_count": 8,
   "metadata": {},
   "outputs": [
    {
     "data": {
      "text/plain": [
       "array([(   0, 0,   31, 471.96526336, 10850.        , 10850.        ,        nan,  0.,  nan, 1000.        , nan, 10633.        , 11553.11126676),\n",
       "       (   1, 0,   32, 471.96526336, 10725.        , 10787.13789108,        nan,  0.,  nan, 1000.        , nan, 10571.39513326, 11486.17551203),\n",
       "       (   2, 0,   32, 943.93052671, 10571.39513326, 10787.13789108, 1.12138947,  6., -20.,  980.        , nan, 10571.39513326, 11486.17551203),\n",
       "       ...,\n",
       "       (3680, 2, 6943, 658.17390615, 52890.        , 52482.04226899,        nan,  0.,  nan, 2710.09687595, nan, 50382.76057823, 65518.8462369 ),\n",
       "       (3681, 2, 6944, 658.17390615, 53211.        , 52662.40284145,        nan,  0.,  nan, 2710.09687595, nan, 50555.90672779, 65744.00928513),\n",
       "       (3682, 2, 6956,          nan,            nan, 52662.40284145,        nan, 12.,  nan, 2710.09687595, nan, 52672.455     , 65744.00928513)],\n",
       "      dtype={'names': ['order_id', 'settings_id', 'bar', 'size_value', 'price', 'avg_entry', 'fees_paid', 'order_type', 'real_pnl', 'equity', 'sl_prices', 'tsl_prices', 'tp_prices'], 'formats': ['<i4', '<i4', '<i4', '<f8', '<f8', '<f8', '<f8', '<f8', '<f8', '<f8', '<f8', '<f8', '<f8'], 'offsets': [0, 4, 8, 16, 24, 32, 40, 48, 56, 64, 72, 80, 88], 'itemsize': 96, 'aligned': True})"
      ]
     },
     "execution_count": 8,
     "metadata": {},
     "output_type": "execute_result"
    }
   ],
   "source": [
    "order_records.T"
   ]
  }
 ],
 "metadata": {
  "kernelspec": {
   "display_name": "qfFree",
   "language": "python",
   "name": "python3"
  },
  "language_info": {
   "codemirror_mode": {
    "name": "ipython",
    "version": 3
   },
   "file_extension": ".py",
   "mimetype": "text/x-python",
   "name": "python",
   "nbconvert_exporter": "python",
   "pygments_lexer": "ipython3",
   "version": "3.10.10"
  },
  "orig_nbformat": 4
 },
 "nbformat": 4,
 "nbformat_minor": 2
}
