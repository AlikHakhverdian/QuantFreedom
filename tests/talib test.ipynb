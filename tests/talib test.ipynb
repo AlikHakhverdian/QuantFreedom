{
 "cells": [
  {
   "cell_type": "code",
   "execution_count": 7,
   "metadata": {},
   "outputs": [],
   "source": [
    "from talib import abstract\n",
    "import pandas as pd\n",
    "import numpy as np\n",
    "from talib.abstract import *\n",
    "from quantfreedom._typing import (\n",
    "    plFrame, plSeries, Union\n",
    ")\n",
    "df = pd.read_csv('30min.csv', index_col='time')\n",
    "df.high = 6"
   ]
  },
  {
   "cell_type": "code",
   "execution_count": 5,
   "metadata": {},
   "outputs": [],
   "source": [
    "def testing(\n",
    "    func_name: list,\n",
    "    prices,\n",
    "    **kwargs,\n",
    "):\n",
    "    np.empty()\n",
    "    func_name = func_name.upper()\n",
    "    talib_func = getattr(abstract, func_name)\n",
    "    return talib_func(prices, **kwargs)\n",
    "    return talib_func\n",
    "\n"
   ]
  },
  {
   "cell_type": "code",
   "execution_count": 9,
   "metadata": {},
   "outputs": [
    {
     "data": {
      "text/plain": [
       "{'name': 'RSI',\n",
       " 'group': 'Momentum Indicators',\n",
       " 'display_name': 'Relative Strength Index',\n",
       " 'function_flags': ['Function has an unstable period'],\n",
       " 'input_names': OrderedDict([('price', 'close')]),\n",
       " 'parameters': OrderedDict([('timeperiod', 14)]),\n",
       " 'output_flags': OrderedDict([('real', ['Line'])]),\n",
       " 'output_names': ['real']}"
      ]
     },
     "execution_count": 9,
     "metadata": {},
     "output_type": "execute_result"
    }
   ],
   "source": [
    "Function('rsi').info"
   ]
  },
  {
   "cell_type": "code",
   "execution_count": 10,
   "metadata": {},
   "outputs": [
    {
     "data": {
      "text/plain": [
       "{'name': 'MACD',\n",
       " 'group': 'Momentum Indicators',\n",
       " 'display_name': 'Moving Average Convergence/Divergence',\n",
       " 'function_flags': None,\n",
       " 'input_names': OrderedDict([('price', 'close')]),\n",
       " 'parameters': OrderedDict([('fastperiod', 12),\n",
       "              ('slowperiod', 26),\n",
       "              ('signalperiod', 9)]),\n",
       " 'output_flags': OrderedDict([('macd', ['Line']),\n",
       "              ('macdsignal', ['Dashed Line']),\n",
       "              ('macdhist', ['Histogram'])]),\n",
       " 'output_names': ['macd', 'macdsignal', 'macdhist']}"
      ]
     },
     "execution_count": 10,
     "metadata": {},
     "output_type": "execute_result"
    }
   ],
   "source": [
    "Function('macd').info"
   ]
  },
  {
   "cell_type": "code",
   "execution_count": null,
   "metadata": {},
   "outputs": [],
   "source": [
    "str(rsi)"
   ]
  },
  {
   "cell_type": "code",
   "execution_count": null,
   "metadata": {},
   "outputs": [],
   "source": [
    "import numpy as np\n",
    "# note that all ndarrays must be the same length!\n",
    "inputs = {\n",
    "    'open': np.random.random(100),\n",
    "    'high': np.random.random(100),\n",
    "    'low': np.random.random(100),\n",
    "    'close': np.random.random(100),\n",
    "    'volume': np.random.random(100)\n",
    "}"
   ]
  },
  {
   "cell_type": "code",
   "execution_count": null,
   "metadata": {},
   "outputs": [],
   "source": [
    "from talib.abstract import *\n",
    "output = SMA(inputs, timeperiod=25) # calculate on close prices by default\n",
    "output = SMA(inputs, timeperiod=25, price='open') # calculate on opens\n",
    "# upper, middle, lower = BBANDS(inputs, 20, 2, 2)\n",
    "# slowk, slowd = STOCH(inputs, 5, 3, 0, 3, 0) # uses high, low, close by default\n",
    "# slowk, slowd = STOCH(inputs, 5, 3, 0, 3, 0, prices=['high', 'low', 'open'])"
   ]
  },
  {
   "cell_type": "code",
   "execution_count": null,
   "metadata": {},
   "outputs": [],
   "source": [
    "new_df = pd.DataFrame(inputs)"
   ]
  },
  {
   "cell_type": "code",
   "execution_count": null,
   "metadata": {},
   "outputs": [],
   "source": [
    "SMA(new_df, timeperiod=25).to_numpy() # calculate on close prices by default"
   ]
  },
  {
   "cell_type": "code",
   "execution_count": null,
   "metadata": {},
   "outputs": [],
   "source": [
    "SMA(new_df, timeperiod=25, prices='open').to_numpy() # calculate on close prices by default"
   ]
  },
  {
   "cell_type": "code",
   "execution_count": null,
   "metadata": {},
   "outputs": [],
   "source": [
    "RSI(new_df, timeperiod=25, price='open').to_numpy()"
   ]
  },
  {
   "cell_type": "code",
   "execution_count": null,
   "metadata": {},
   "outputs": [],
   "source": [
    "RSI(new_df, timeperiod=25, price='high').to_numpy()"
   ]
  }
 ],
 "metadata": {
  "kernelspec": {
   "display_name": "qfFree",
   "language": "python",
   "name": "python3"
  },
  "language_info": {
   "codemirror_mode": {
    "name": "ipython",
    "version": 3
   },
   "file_extension": ".py",
   "mimetype": "text/x-python",
   "name": "python",
   "nbconvert_exporter": "python",
   "pygments_lexer": "ipython3",
   "version": "3.10.10"
  },
  "orig_nbformat": 4
 },
 "nbformat": 4,
 "nbformat_minor": 2
}
