{
 "cells": [
  {
   "cell_type": "code",
   "execution_count": 1,
   "metadata": {},
   "outputs": [],
   "source": [
    "from talib import abstract\n",
    "import pandas as pd\n",
    "import numpy as np\n",
    "from talib.abstract import *\n",
    "from quantfreedom._typing import (\n",
    "    plFrame, plSeries, Union\n",
    ")\n",
    "df = pd.read_csv('30min.csv', index_col='time')"
   ]
  },
  {
   "cell_type": "code",
   "execution_count": 2,
   "metadata": {},
   "outputs": [],
   "source": [
    "def testing(\n",
    "    func_name: list,\n",
    "    prices,\n",
    "    **kwargs,\n",
    "):\n",
    "    np.empty()\n",
    "    func_name = func_name.upper()\n",
    "    talib_func = getattr(abstract, func_name)\n",
    "    return talib_func(prices, **kwargs)"
   ]
  },
  {
   "cell_type": "code",
   "execution_count": 3,
   "metadata": {},
   "outputs": [
    {
     "data": {
      "text/plain": [
       "{'name': 'RSI',\n",
       " 'group': 'Momentum Indicators',\n",
       " 'display_name': 'Relative Strength Index',\n",
       " 'function_flags': ['Function has an unstable period'],\n",
       " 'input_names': OrderedDict([('price', 'close')]),\n",
       " 'parameters': OrderedDict([('timeperiod', 14)]),\n",
       " 'output_flags': OrderedDict([('real', ['Line'])]),\n",
       " 'output_names': ['real']}"
      ]
     },
     "execution_count": 3,
     "metadata": {},
     "output_type": "execute_result"
    }
   ],
   "source": [
    "Function('rsi').info"
   ]
  },
  {
   "cell_type": "code",
   "execution_count": 4,
   "metadata": {},
   "outputs": [
    {
     "data": {
      "text/plain": [
       "{'name': 'MACD',\n",
       " 'group': 'Momentum Indicators',\n",
       " 'display_name': 'Moving Average Convergence/Divergence',\n",
       " 'function_flags': None,\n",
       " 'input_names': OrderedDict([('price', 'close')]),\n",
       " 'parameters': OrderedDict([('fastperiod', 12),\n",
       "              ('slowperiod', 26),\n",
       "              ('signalperiod', 9)]),\n",
       " 'output_flags': OrderedDict([('macd', ['Line']),\n",
       "              ('macdsignal', ['Dashed Line']),\n",
       "              ('macdhist', ['Histogram'])]),\n",
       " 'output_names': ['macd', 'macdsignal', 'macdhist']}"
      ]
     },
     "execution_count": 4,
     "metadata": {},
     "output_type": "execute_result"
    }
   ],
   "source": [
    "Function('macd').info"
   ]
  },
  {
   "cell_type": "code",
   "execution_count": 5,
   "metadata": {},
   "outputs": [
    {
     "data": {
      "text/plain": [
       "{'name': 'STOCH',\n",
       " 'group': 'Momentum Indicators',\n",
       " 'display_name': 'Stochastic',\n",
       " 'function_flags': None,\n",
       " 'input_names': OrderedDict([('prices', ['high', 'low', 'close'])]),\n",
       " 'parameters': OrderedDict([('fastk_period', 5),\n",
       "              ('slowk_period', 3),\n",
       "              ('slowk_matype', 0),\n",
       "              ('slowd_period', 3),\n",
       "              ('slowd_matype', 0)]),\n",
       " 'output_flags': OrderedDict([('slowk', ['Dashed Line']),\n",
       "              ('slowd', ['Dashed Line'])]),\n",
       " 'output_names': ['slowk', 'slowd']}"
      ]
     },
     "execution_count": 5,
     "metadata": {},
     "output_type": "execute_result"
    }
   ],
   "source": [
    "Function('stoch').info"
   ]
  }
 ],
 "metadata": {
  "kernelspec": {
   "display_name": "qfFree",
   "language": "python",
   "name": "python3"
  },
  "language_info": {
   "codemirror_mode": {
    "name": "ipython",
    "version": 3
   },
   "file_extension": ".py",
   "mimetype": "text/x-python",
   "name": "python",
   "nbconvert_exporter": "python",
   "pygments_lexer": "ipython3",
   "version": "3.10.10"
  },
  "orig_nbformat": 4
 },
 "nbformat": 4,
 "nbformat_minor": 2
}
