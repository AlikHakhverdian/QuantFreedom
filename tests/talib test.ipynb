{
 "cells": [
  {
   "cell_type": "code",
   "execution_count": 49,
   "metadata": {},
   "outputs": [],
   "source": [
    "# https://ta-lib.github.io/ta-lib-python/index.html\n",
    "from talib import abstract\n",
    "import pandas as pd\n",
    "import numpy as np\n",
    "import talib\n",
    "from talib.abstract import *\n",
    "from quantfreedom._typing import (\n",
    "    plFrame, plSeries, Union, pdFrame, pdSeries,\n",
    ")\n",
    "df = pd.read_csv('30min.csv', index_col='time')"
   ]
  },
  {
   "cell_type": "code",
   "execution_count": 71,
   "metadata": {},
   "outputs": [
    {
     "ename": "KeyError",
     "evalue": "'real'",
     "output_type": "error",
     "traceback": [
      "\u001b[1;31m---------------------------------------------------------------------------\u001b[0m",
      "\u001b[1;31mKeyError\u001b[0m                                  Traceback (most recent call last)",
      "File \u001b[1;32me:\\Coding\\virtual environments\\qfFree\\lib\\site-packages\\pandas\\core\\indexes\\base.py:3802\u001b[0m, in \u001b[0;36mIndex.get_loc\u001b[1;34m(self, key, method, tolerance)\u001b[0m\n\u001b[0;32m   3801\u001b[0m \u001b[39mtry\u001b[39;00m:\n\u001b[1;32m-> 3802\u001b[0m     \u001b[39mreturn\u001b[39;00m \u001b[39mself\u001b[39;49m\u001b[39m.\u001b[39;49m_engine\u001b[39m.\u001b[39;49mget_loc(casted_key)\n\u001b[0;32m   3803\u001b[0m \u001b[39mexcept\u001b[39;00m \u001b[39mKeyError\u001b[39;00m \u001b[39mas\u001b[39;00m err:\n",
      "File \u001b[1;32me:\\Coding\\virtual environments\\qfFree\\lib\\site-packages\\pandas\\_libs\\index.pyx:138\u001b[0m, in \u001b[0;36mpandas._libs.index.IndexEngine.get_loc\u001b[1;34m()\u001b[0m\n",
      "File \u001b[1;32me:\\Coding\\virtual environments\\qfFree\\lib\\site-packages\\pandas\\_libs\\index.pyx:165\u001b[0m, in \u001b[0;36mpandas._libs.index.IndexEngine.get_loc\u001b[1;34m()\u001b[0m\n",
      "File \u001b[1;32mpandas\\_libs\\hashtable_class_helper.pxi:5745\u001b[0m, in \u001b[0;36mpandas._libs.hashtable.PyObjectHashTable.get_item\u001b[1;34m()\u001b[0m\n",
      "File \u001b[1;32mpandas\\_libs\\hashtable_class_helper.pxi:5753\u001b[0m, in \u001b[0;36mpandas._libs.hashtable.PyObjectHashTable.get_item\u001b[1;34m()\u001b[0m\n",
      "\u001b[1;31mKeyError\u001b[0m: 'real'",
      "\nThe above exception was the direct cause of the following exception:\n",
      "\u001b[1;31mKeyError\u001b[0m                                  Traceback (most recent call last)",
      "Cell \u001b[1;32mIn[71], line 201\u001b[0m\n\u001b[0;32m    197\u001b[0m         ind_settings_tup \u001b[39m=\u001b[39m ()\n\u001b[0;32m    198\u001b[0m     \u001b[39mreturn\u001b[39;00m final_df_dict\n\u001b[1;32m--> 201\u001b[0m dfs \u001b[39m=\u001b[39m testing(\n\u001b[0;32m    202\u001b[0m     func_name\u001b[39m=\u001b[39;49m\u001b[39m'\u001b[39;49m\u001b[39mrsi\u001b[39;49m\u001b[39m'\u001b[39;49m,\n\u001b[0;32m    203\u001b[0m     fastk_period\u001b[39m=\u001b[39;49m[\u001b[39m6\u001b[39;49m, \u001b[39m7\u001b[39;49m],\n\u001b[0;32m    204\u001b[0m     slowk_period\u001b[39m=\u001b[39;49m\u001b[39m2\u001b[39;49m,\n\u001b[0;32m    205\u001b[0m     slowd_period\u001b[39m=\u001b[39;49m\u001b[39m3\u001b[39;49m,\n\u001b[0;32m    206\u001b[0m     price\u001b[39m=\u001b[39;49m\u001b[39m'\u001b[39;49m\u001b[39mopen\u001b[39;49m\u001b[39m'\u001b[39;49m,\n\u001b[0;32m    207\u001b[0m     cart_product\u001b[39m=\u001b[39;49m\u001b[39mFalse\u001b[39;49;00m,\n\u001b[0;32m    208\u001b[0m     combos\u001b[39m=\u001b[39;49m\u001b[39mFalse\u001b[39;49;00m,\n\u001b[0;32m    209\u001b[0m     df_prices\u001b[39m=\u001b[39;49mdf,\n\u001b[0;32m    210\u001b[0m )\n\u001b[0;32m    211\u001b[0m dfs[\u001b[39m'\u001b[39m\u001b[39mreal\u001b[39m\u001b[39m'\u001b[39m]\n",
      "Cell \u001b[1;32mIn[71], line 159\u001b[0m, in \u001b[0;36mtesting\u001b[1;34m(func_name, df_prices, cart_product, combos, **kwargs)\u001b[0m\n\u001b[0;32m    155\u001b[0m \u001b[39mif\u001b[39;00m in_names_key \u001b[39m==\u001b[39m \u001b[39m'\u001b[39m\u001b[39mprice\u001b[39m\u001b[39m'\u001b[39m:\n\u001b[0;32m    156\u001b[0m     \u001b[39m# these are the names called by the fun like talib('rsi').real - real is the output name\u001b[39;00m\n\u001b[0;32m    157\u001b[0m     \u001b[39mfor\u001b[39;00m out_name \u001b[39min\u001b[39;00m output_names:\n\u001b[0;32m    158\u001b[0m         \u001b[39m# setting temp df of result out name\u001b[39;00m\n\u001b[1;32m--> 159\u001b[0m         temp_df \u001b[39m=\u001b[39m Function(func_name)(\n\u001b[0;32m    160\u001b[0m             df_prices, \u001b[39m*\u001b[39;49m\n\u001b[0;32m    161\u001b[0m             ind_settings_tup, price\u001b[39m=\u001b[39;49minput_names_dict[in_names_key]\n\u001b[0;32m    162\u001b[0m         )[out_name]\n\u001b[0;32m    164\u001b[0m         \u001b[39m# creating multindex for new results\u001b[39;00m\n\u001b[0;32m    165\u001b[0m         param_keys \u001b[39m=\u001b[39m \u001b[39mlist\u001b[39m(info[\u001b[39m'\u001b[39m\u001b[39mparameters\u001b[39m\u001b[39m'\u001b[39m]\u001b[39m.\u001b[39mkeys())\n",
      "File \u001b[1;32me:\\Coding\\virtual environments\\qfFree\\lib\\site-packages\\pandas\\core\\series.py:981\u001b[0m, in \u001b[0;36mSeries.__getitem__\u001b[1;34m(self, key)\u001b[0m\n\u001b[0;32m    978\u001b[0m     \u001b[39mreturn\u001b[39;00m \u001b[39mself\u001b[39m\u001b[39m.\u001b[39m_values[key]\n\u001b[0;32m    980\u001b[0m \u001b[39melif\u001b[39;00m key_is_scalar:\n\u001b[1;32m--> 981\u001b[0m     \u001b[39mreturn\u001b[39;00m \u001b[39mself\u001b[39;49m\u001b[39m.\u001b[39;49m_get_value(key)\n\u001b[0;32m    983\u001b[0m \u001b[39mif\u001b[39;00m is_hashable(key):\n\u001b[0;32m    984\u001b[0m     \u001b[39m# Otherwise index.get_value will raise InvalidIndexError\u001b[39;00m\n\u001b[0;32m    985\u001b[0m     \u001b[39mtry\u001b[39;00m:\n\u001b[0;32m    986\u001b[0m         \u001b[39m# For labels that don't resolve as scalars like tuples and frozensets\u001b[39;00m\n",
      "File \u001b[1;32me:\\Coding\\virtual environments\\qfFree\\lib\\site-packages\\pandas\\core\\series.py:1089\u001b[0m, in \u001b[0;36mSeries._get_value\u001b[1;34m(self, label, takeable)\u001b[0m\n\u001b[0;32m   1086\u001b[0m     \u001b[39mreturn\u001b[39;00m \u001b[39mself\u001b[39m\u001b[39m.\u001b[39m_values[label]\n\u001b[0;32m   1088\u001b[0m \u001b[39m# Similar to Index.get_value, but we do not fall back to positional\u001b[39;00m\n\u001b[1;32m-> 1089\u001b[0m loc \u001b[39m=\u001b[39m \u001b[39mself\u001b[39;49m\u001b[39m.\u001b[39;49mindex\u001b[39m.\u001b[39;49mget_loc(label)\n\u001b[0;32m   1090\u001b[0m \u001b[39mreturn\u001b[39;00m \u001b[39mself\u001b[39m\u001b[39m.\u001b[39mindex\u001b[39m.\u001b[39m_get_values_for_loc(\u001b[39mself\u001b[39m, loc, label)\n",
      "File \u001b[1;32me:\\Coding\\virtual environments\\qfFree\\lib\\site-packages\\pandas\\core\\indexes\\base.py:3804\u001b[0m, in \u001b[0;36mIndex.get_loc\u001b[1;34m(self, key, method, tolerance)\u001b[0m\n\u001b[0;32m   3802\u001b[0m     \u001b[39mreturn\u001b[39;00m \u001b[39mself\u001b[39m\u001b[39m.\u001b[39m_engine\u001b[39m.\u001b[39mget_loc(casted_key)\n\u001b[0;32m   3803\u001b[0m \u001b[39mexcept\u001b[39;00m \u001b[39mKeyError\u001b[39;00m \u001b[39mas\u001b[39;00m err:\n\u001b[1;32m-> 3804\u001b[0m     \u001b[39mraise\u001b[39;00m \u001b[39mKeyError\u001b[39;00m(key) \u001b[39mfrom\u001b[39;00m \u001b[39merr\u001b[39;00m\n\u001b[0;32m   3805\u001b[0m \u001b[39mexcept\u001b[39;00m \u001b[39mTypeError\u001b[39;00m:\n\u001b[0;32m   3806\u001b[0m     \u001b[39m# If we have a listlike key, _check_indexing_error will raise\u001b[39;00m\n\u001b[0;32m   3807\u001b[0m     \u001b[39m#  InvalidIndexError. Otherwise we fall through and re-raise\u001b[39;00m\n\u001b[0;32m   3808\u001b[0m     \u001b[39m#  the TypeError.\u001b[39;00m\n\u001b[0;32m   3809\u001b[0m     \u001b[39mself\u001b[39m\u001b[39m.\u001b[39m_check_indexing_error(key)\n",
      "\u001b[1;31mKeyError\u001b[0m: 'real'"
     ]
    }
   ],
   "source": [
    "def testing(\n",
    "    func_name: str,\n",
    "    df_prices: pdFrame,\n",
    "    cart_product: bool,\n",
    "    combos: bool,\n",
    "    **kwargs,\n",
    "):\n",
    "    users_args_list = []\n",
    "    biggest = 1\n",
    "    info = Function(func_name).info\n",
    "    input_names_dict = {}\n",
    "    in_names_key = ''\n",
    "    output_names = info['output_names']\n",
    "\n",
    "    for in_names_key, in_names_values in info['input_names'].items():\n",
    "        filled = False\n",
    "        if isinstance(in_names_values, list):\n",
    "            for kwarg_keys, kwarg_values in kwargs.items():\n",
    "                if in_names_key == kwarg_keys:\n",
    "                    if not isinstance(kwarg_values, list):\n",
    "                        raise ValueError(\n",
    "                            f'{in_names_key} must be a list of strings')\n",
    "\n",
    "                    if isinstance(kwarg_values, list):\n",
    "                        if not all(isinstance(x, str) for x in kwarg_values):\n",
    "                            raise ValueError(\n",
    "                                f'{in_names_key} your list has to be made up of strings')\n",
    "\n",
    "                        if len(kwarg_values) == 1:\n",
    "                            raise ValueError(\n",
    "                                f'{in_names_key} your list length must be greater than 1')\n",
    "\n",
    "                        if len(kwarg_values) != len(in_names_values):\n",
    "                            raise ValueError(\n",
    "                                f'{in_names_key} your list length must be {len(in_names_values)}')\n",
    "\n",
    "                    input_names_dict[in_names_key] = kwarg_values\n",
    "                    filled = True\n",
    "                    break\n",
    "\n",
    "            if not filled:\n",
    "                input_names_dict[in_names_key] = in_names_values\n",
    "\n",
    "        elif isinstance(in_names_values, str):\n",
    "            for kwarg_keys, kwarg_values in kwargs.items():\n",
    "                if in_names_key == kwarg_keys:\n",
    "                    if not isinstance(kwarg_values, str):\n",
    "                        raise ValueError(\n",
    "                            f'{in_names_key} must be a string and not a list of strings')\n",
    "\n",
    "                    input_names_dict[in_names_key] = kwarg_values\n",
    "                    filled = True\n",
    "                    break\n",
    "                elif in_names_key == 'price' and kwarg_keys == 'prices':\n",
    "                    raise ValueError(\n",
    "                            f'you need to provide price instead of prices')\n",
    "                elif in_names_key == 'prices' and kwarg_keys == 'price':\n",
    "                    raise ValueError(\n",
    "                            f'you need to provide prices instead of price')\n",
    "\n",
    "            if filled:\n",
    "                input_names_dict[in_names_key] = in_names_values\n",
    "\n",
    "    if bool(info['parameters']):\n",
    "        param_dict = {}\n",
    "        for param_names_key, param_names_values in info['parameters'].items():\n",
    "            filled = False\n",
    "            for kwarg_keys, kwarg_values in kwargs.items():\n",
    "                if param_names_key == kwarg_keys:\n",
    "                    if not isinstance(kwarg_values, (int, float, list)):\n",
    "                        raise ValueError(\n",
    "                            f'{param_names_key} must be a int float or a list of ints or floats')\n",
    "\n",
    "                    if isinstance(kwarg_values, (int, float)):\n",
    "                        users_args_list.append(np.asarray([kwarg_values]))\n",
    "\n",
    "                    elif isinstance(kwarg_values, list):\n",
    "                        if cart_product == False and combos == False and len(info['parameters']) > 1:\n",
    "                            raise ValueError(\n",
    "                                f'{param_names_key} you can\\'t have list items as args with indicators that have mutiple params without doing a combo or cart product')\n",
    "                        if not all(isinstance(x, (int, float)) for x in kwarg_values):\n",
    "                            raise ValueError(\n",
    "                                f'{param_names_key} your list has to be filled with ints or floats')\n",
    "                        if len(kwarg_values) == 1:\n",
    "                            raise ValueError(\n",
    "                                f'{param_names_key} your list length must be greater than 1')\n",
    "                        if combos:\n",
    "                            if biggest == 1 and len(kwarg_values) > 1:\n",
    "                                biggest = len(kwarg_values)\n",
    "                            if biggest != len(kwarg_values):\n",
    "                                raise ValueError(\n",
    "                                    f'{param_names_key} when using combos all listed items must be same length')\n",
    "\n",
    "                        users_args_list.append(np.asarray(kwarg_values))\n",
    "                    param_dict[param_names_key] = kwarg_values\n",
    "                    filled = True\n",
    "                    break\n",
    "\n",
    "            if not filled:\n",
    "                param_dict[param_names_key] = param_names_values\n",
    "                users_args_list.append(np.asarray([param_names_values]))\n",
    "    else:\n",
    "        param_dict = ()\n",
    "\n",
    "    if combos and biggest != 1:\n",
    "        final_tuple = []\n",
    "        for x in users_args_list:\n",
    "            if x.size == 1:\n",
    "                final_tuple.append(np.broadcast_to(x, biggest))\n",
    "            else:\n",
    "                final_tuple.append(x)\n",
    "        final_tuple = tuple(final_tuple)\n",
    "\n",
    "    elif cart_product and biggest != 1:\n",
    "        users_args_tuple = tuple(users_args_list)\n",
    "        n = 1\n",
    "        for x in users_args_tuple:\n",
    "            n *= x.size\n",
    "        final_tuple = np.empty((n, len(users_args_tuple)))\n",
    "\n",
    "        for i in range(len(users_args_tuple)):\n",
    "            m = int(n / users_args_tuple[i].size)\n",
    "            final_tuple[:n, i] = np.repeat(users_args_tuple[i], m)\n",
    "            n //= users_args_tuple[i].size\n",
    "\n",
    "        n = users_args_tuple[-1].size\n",
    "        for k in range(len(users_args_tuple)-2, -1, -1):\n",
    "            n *= users_args_tuple[k].size\n",
    "            m = int(n / users_args_tuple[k].size)\n",
    "            for j in range(1, users_args_tuple[k].size):\n",
    "                final_tuple[j*m:(j+1)*m, k+1:] = final_tuple[0:m, k+1:]\n",
    "                final_tuple = final_tuple.T\n",
    "                \n",
    "    elif biggest == 1 and (cart_product or combos):\n",
    "        raise ValueError(f'You have to have a list for paramaters {list(info[\"parameters\"].keys())} to use cart product or combos')\n",
    "    else:\n",
    "        final_tuple = tuple(users_args_list)\n",
    "\n",
    "    ind_settings_tup = ()\n",
    "    ind_setings_len = final_tuple[0].size\n",
    "    final_df_dict = {}\n",
    "\n",
    "    for o_names in output_names:\n",
    "        final_df_dict[o_names] = pd.DataFrame()\n",
    "\n",
    "    # c is the indicator result of the array within the tuple (array[x], array[x])\n",
    "    for c in range(ind_setings_len):\n",
    "        # x is the array object in the tuple (x,x)\n",
    "        for x in final_tuple:\n",
    "            if type(x[c]) == np.int32:\n",
    "                ind_settings_tup = ind_settings_tup + (int(x[c]),)\n",
    "            if type(x[c]) == np.float32:\n",
    "                ind_settings_tup = ind_settings_tup + (float(x[c]),)\n",
    "        \n",
    "        if in_names_key == 'price':\n",
    "            # these are the names called by the fun like talib('rsi').real - real is the output name\n",
    "            for out_name in output_names:\n",
    "                # setting temp df of result out name\n",
    "                temp_df = Function(func_name)(\n",
    "                    df_prices, *\n",
    "                    ind_settings_tup, price=input_names_dict[in_names_key]\n",
    "                )[out_name]\n",
    "\n",
    "                # creating multindex for new results\n",
    "                param_keys = list(info['parameters'].keys())\n",
    "                param_keys.insert(0, out_name + '_count')\n",
    "                temp_df.columns = pd.MultiIndex.from_tuples(\n",
    "                    [(c,) + ind_settings_tup],\n",
    "                    names=param_keys\n",
    "                )\n",
    "\n",
    "                # getting df from within list and concating to it\n",
    "                final_df_dict[out_name] = pd.concat(\n",
    "                    [final_df_dict[out_name], temp_df], axis=1)\n",
    "        \n",
    "        elif in_names_key == 'prices':\n",
    "            # these are the names called by the fun like talib('rsi').real - real is the output name\n",
    "            for out_name in output_names:\n",
    "                # setting temp df of result out name\n",
    "                temp_df = Function(func_name)(\n",
    "                    df_prices, *\n",
    "                    ind_settings_tup, prices=input_names_dict[in_names_key]\n",
    "                )[out_name].to_frame()\n",
    "\n",
    "                # creating multindex for new results\n",
    "                param_keys = list(info['parameters'].keys())\n",
    "                param_keys.insert(0, out_name + '_count')\n",
    "                temp_df.columns = pd.MultiIndex.from_tuples(\n",
    "                    tuples=[(c,) + ind_settings_tup],\n",
    "                    names=param_keys\n",
    "                )\n",
    "\n",
    "                # getting df from within list and concating to it\n",
    "                final_df_dict[out_name] = pd.concat(\n",
    "                    [final_df_dict[out_name], temp_df], axis=1)\n",
    "\n",
    "        ind_settings_tup = ()\n",
    "    return final_df_dict\n",
    "\n",
    "\n",
    "dfs = testing(\n",
    "    func_name='rsi',\n",
    "    fastk_period=[6, 7],\n",
    "    slowk_period=2,\n",
    "    slowd_period=3,\n",
    "    price='open',\n",
    "    cart_product=False,\n",
    "    combos=False,\n",
    "    df_prices=df,\n",
    ")\n",
    "dfs['real']"
   ]
  },
  {
   "cell_type": "code",
   "execution_count": 3,
   "metadata": {},
   "outputs": [
    {
     "data": {
      "text/plain": [
       "(3, 4, 5, 6, 1)"
      ]
     },
     "execution_count": 3,
     "metadata": {},
     "output_type": "execute_result"
    }
   ],
   "source": [
    "(3,4,5,6) + (1,)"
   ]
  },
  {
   "cell_type": "code",
   "execution_count": 4,
   "metadata": {},
   "outputs": [
    {
     "data": {
      "text/html": [
       "<div>\n",
       "<style scoped>\n",
       "    .dataframe tbody tr th:only-of-type {\n",
       "        vertical-align: middle;\n",
       "    }\n",
       "\n",
       "    .dataframe tbody tr th {\n",
       "        vertical-align: top;\n",
       "    }\n",
       "\n",
       "    .dataframe thead tr th {\n",
       "        text-align: left;\n",
       "    }\n",
       "\n",
       "    .dataframe thead tr:last-of-type th {\n",
       "        text-align: right;\n",
       "    }\n",
       "</style>\n",
       "<table border=\"1\" class=\"dataframe\">\n",
       "  <thead>\n",
       "    <tr>\n",
       "      <th>slowd</th>\n",
       "      <th>0</th>\n",
       "      <th>1</th>\n",
       "    </tr>\n",
       "    <tr>\n",
       "      <th>fastk_period</th>\n",
       "      <th>6</th>\n",
       "      <th>3</th>\n",
       "    </tr>\n",
       "    <tr>\n",
       "      <th>slowk_period</th>\n",
       "      <th>2</th>\n",
       "      <th>2</th>\n",
       "    </tr>\n",
       "    <tr>\n",
       "      <th>slowk_matype</th>\n",
       "      <th>0</th>\n",
       "      <th>0</th>\n",
       "    </tr>\n",
       "    <tr>\n",
       "      <th>slowd_period</th>\n",
       "      <th>3</th>\n",
       "      <th>3</th>\n",
       "    </tr>\n",
       "    <tr>\n",
       "      <th>slowd_matype</th>\n",
       "      <th>0</th>\n",
       "      <th>0</th>\n",
       "    </tr>\n",
       "    <tr>\n",
       "      <th>time</th>\n",
       "      <th></th>\n",
       "      <th></th>\n",
       "    </tr>\n",
       "  </thead>\n",
       "  <tbody>\n",
       "    <tr>\n",
       "      <th>2020-10-01 00:00:00</th>\n",
       "      <td>NaN</td>\n",
       "      <td>NaN</td>\n",
       "    </tr>\n",
       "    <tr>\n",
       "      <th>2020-10-01 00:30:00</th>\n",
       "      <td>NaN</td>\n",
       "      <td>NaN</td>\n",
       "    </tr>\n",
       "    <tr>\n",
       "      <th>2020-10-01 01:00:00</th>\n",
       "      <td>NaN</td>\n",
       "      <td>NaN</td>\n",
       "    </tr>\n",
       "    <tr>\n",
       "      <th>2020-10-01 01:30:00</th>\n",
       "      <td>NaN</td>\n",
       "      <td>NaN</td>\n",
       "    </tr>\n",
       "    <tr>\n",
       "      <th>2020-10-01 02:00:00</th>\n",
       "      <td>NaN</td>\n",
       "      <td>NaN</td>\n",
       "    </tr>\n",
       "    <tr>\n",
       "      <th>...</th>\n",
       "      <td>...</td>\n",
       "      <td>...</td>\n",
       "    </tr>\n",
       "    <tr>\n",
       "      <th>2021-02-22 21:30:00</th>\n",
       "      <td>NaN</td>\n",
       "      <td>171.620055</td>\n",
       "    </tr>\n",
       "    <tr>\n",
       "      <th>2021-02-22 22:00:00</th>\n",
       "      <td>NaN</td>\n",
       "      <td>147.176834</td>\n",
       "    </tr>\n",
       "    <tr>\n",
       "      <th>2021-02-22 22:30:00</th>\n",
       "      <td>NaN</td>\n",
       "      <td>121.018253</td>\n",
       "    </tr>\n",
       "    <tr>\n",
       "      <th>2021-02-22 23:00:00</th>\n",
       "      <td>NaN</td>\n",
       "      <td>69.134137</td>\n",
       "    </tr>\n",
       "    <tr>\n",
       "      <th>2021-02-22 23:30:00</th>\n",
       "      <td>NaN</td>\n",
       "      <td>40.455450</td>\n",
       "    </tr>\n",
       "  </tbody>\n",
       "</table>\n",
       "<p>13920 rows × 2 columns</p>\n",
       "</div>"
      ],
      "text/plain": [
       "slowd                 0           1\n",
       "fastk_period          6           3\n",
       "slowk_period          2           2\n",
       "slowk_matype          0           0\n",
       "slowd_period          3           3\n",
       "slowd_matype          0           0\n",
       "time                               \n",
       "2020-10-01 00:00:00 NaN         NaN\n",
       "2020-10-01 00:30:00 NaN         NaN\n",
       "2020-10-01 01:00:00 NaN         NaN\n",
       "2020-10-01 01:30:00 NaN         NaN\n",
       "2020-10-01 02:00:00 NaN         NaN\n",
       "...                  ..         ...\n",
       "2021-02-22 21:30:00 NaN  171.620055\n",
       "2021-02-22 22:00:00 NaN  147.176834\n",
       "2021-02-22 22:30:00 NaN  121.018253\n",
       "2021-02-22 23:00:00 NaN   69.134137\n",
       "2021-02-22 23:30:00 NaN   40.455450\n",
       "\n",
       "[13920 rows x 2 columns]"
      ]
     },
     "execution_count": 4,
     "metadata": {},
     "output_type": "execute_result"
    }
   ],
   "source": [
    "dfs['slowd']"
   ]
  },
  {
   "cell_type": "code",
   "execution_count": 5,
   "metadata": {},
   "outputs": [
    {
     "ename": "KeyError",
     "evalue": "0",
     "output_type": "error",
     "traceback": [
      "\u001b[1;31m---------------------------------------------------------------------------\u001b[0m",
      "\u001b[1;31mKeyError\u001b[0m                                  Traceback (most recent call last)",
      "Cell \u001b[1;32mIn[5], line 1\u001b[0m\n\u001b[1;32m----> 1\u001b[0m dfs[\u001b[39m0\u001b[39;49m]\n",
      "\u001b[1;31mKeyError\u001b[0m: 0"
     ]
    }
   ],
   "source": [
    "dfs[0]"
   ]
  },
  {
   "cell_type": "code",
   "execution_count": null,
   "metadata": {},
   "outputs": [],
   "source": [
    "dfs[0]"
   ]
  },
  {
   "cell_type": "code",
   "execution_count": 55,
   "metadata": {},
   "outputs": [
    {
     "data": {
      "text/plain": [
       "{'name': 'AVGPRICE',\n",
       " 'group': 'Price Transform',\n",
       " 'display_name': 'Average Price',\n",
       " 'function_flags': ['Output scale same as input'],\n",
       " 'input_names': OrderedDict([('prices', ['open', 'high', 'low', 'close'])]),\n",
       " 'parameters': OrderedDict(),\n",
       " 'output_flags': OrderedDict([('real', ['Line'])]),\n",
       " 'output_names': ['real']}"
      ]
     },
     "execution_count": 55,
     "metadata": {},
     "output_type": "execute_result"
    }
   ],
   "source": [
    "Function('AVGPRICE').info"
   ]
  },
  {
   "cell_type": "code",
   "execution_count": 14,
   "metadata": {},
   "outputs": [
    {
     "data": {
      "text/plain": [
       "{'name': 'STOCH',\n",
       " 'group': 'Momentum Indicators',\n",
       " 'display_name': 'Stochastic',\n",
       " 'function_flags': None,\n",
       " 'input_names': OrderedDict([('prices', ['high', 'low', 'close'])]),\n",
       " 'parameters': OrderedDict([('fastk_period', 5),\n",
       "              ('slowk_period', 3),\n",
       "              ('slowk_matype', 0),\n",
       "              ('slowd_period', 3),\n",
       "              ('slowd_matype', 0)]),\n",
       " 'output_flags': OrderedDict([('slowk', ['Dashed Line']),\n",
       "              ('slowd', ['Dashed Line'])]),\n",
       " 'output_names': ['slowk', 'slowd']}"
      ]
     },
     "execution_count": 14,
     "metadata": {},
     "output_type": "execute_result"
    }
   ],
   "source": [
    "Function('stoch').info"
   ]
  },
  {
   "cell_type": "code",
   "execution_count": null,
   "metadata": {},
   "outputs": [],
   "source": [
    "hey = ['hey', 'high', 'yes']\n",
    "hey.insert(0, 'meme')\n",
    "hey"
   ]
  },
  {
   "cell_type": "code",
   "execution_count": null,
   "metadata": {},
   "outputs": [],
   "source": [
    "temp = (3,) + (2, 3, 5)\n",
    "temp"
   ]
  },
  {
   "cell_type": "code",
   "execution_count": null,
   "metadata": {},
   "outputs": [],
   "source": [
    "test = Function('stoch')(df, *(9,1,5))['slowk'].to_frame()\n",
    "test.columns = pd.MultiIndex.from_tuples([temp], names=hey)\n",
    "test"
   ]
  },
  {
   "cell_type": "code",
   "execution_count": null,
   "metadata": {},
   "outputs": [],
   "source": [
    "test2 = pd.DataFrame(Function('stoch')(df, *(5, 2, 8))['slowd'])\n",
    "test2.columns = pd.MultiIndex.from_tuples(\n",
    "    [(30, 64, 94)], names=['hey', 'high', 'yes'])\n",
    "test2\n"
   ]
  },
  {
   "cell_type": "code",
   "execution_count": null,
   "metadata": {},
   "outputs": [],
   "source": [
    "pd.concat([test, test2], axis=1)"
   ]
  },
  {
   "cell_type": "code",
   "execution_count": null,
   "metadata": {},
   "outputs": [],
   "source": [
    "list_list = [pd.DataFrame(), pd.DataFrame()]\n",
    "empty = pd.DataFrame()\n",
    "list_list[0] = pd.concat([list_list[0], test])\n",
    "list_list[0]"
   ]
  },
  {
   "cell_type": "code",
   "execution_count": null,
   "metadata": {},
   "outputs": [],
   "source": [
    "pd.MultiIndex.from_arrays([[2,3], ['hey', 'high']], names=('hey', 'high'))"
   ]
  },
  {
   "cell_type": "code",
   "execution_count": 64,
   "metadata": {},
   "outputs": [
    {
     "ename": "AttributeError",
     "evalue": "'tuple' object has no attribute 'to_frame'",
     "output_type": "error",
     "traceback": [
      "\u001b[1;31m---------------------------------------------------------------------------\u001b[0m",
      "\u001b[1;31mAttributeError\u001b[0m                            Traceback (most recent call last)",
      "Cell \u001b[1;32mIn[64], line 1\u001b[0m\n\u001b[1;32m----> 1\u001b[0m talib\u001b[39m.\u001b[39;49mSTOCH(df\u001b[39m.\u001b[39;49mclose, df\u001b[39m.\u001b[39;49mopen, df\u001b[39m.\u001b[39;49mopen)\u001b[39m.\u001b[39;49mto_frame()\n",
      "\u001b[1;31mAttributeError\u001b[0m: 'tuple' object has no attribute 'to_frame'"
     ]
    }
   ],
   "source": [
    "talib.STOCH(df.close, df.open, df.open).to_frame()"
   ]
  },
  {
   "cell_type": "code",
   "execution_count": 56,
   "metadata": {},
   "outputs": [
    {
     "data": {
      "text/html": [
       "<div>\n",
       "<style scoped>\n",
       "    .dataframe tbody tr th:only-of-type {\n",
       "        vertical-align: middle;\n",
       "    }\n",
       "\n",
       "    .dataframe tbody tr th {\n",
       "        vertical-align: top;\n",
       "    }\n",
       "\n",
       "    .dataframe thead th {\n",
       "        text-align: right;\n",
       "    }\n",
       "</style>\n",
       "<table border=\"1\" class=\"dataframe\">\n",
       "  <thead>\n",
       "    <tr style=\"text-align: right;\">\n",
       "      <th></th>\n",
       "      <th>0</th>\n",
       "    </tr>\n",
       "    <tr>\n",
       "      <th>time</th>\n",
       "      <th></th>\n",
       "    </tr>\n",
       "  </thead>\n",
       "  <tbody>\n",
       "    <tr>\n",
       "      <th>2020-10-01 00:00:00</th>\n",
       "      <td>10781.375</td>\n",
       "    </tr>\n",
       "    <tr>\n",
       "      <th>2020-10-01 00:30:00</th>\n",
       "      <td>10783.125</td>\n",
       "    </tr>\n",
       "    <tr>\n",
       "      <th>2020-10-01 01:00:00</th>\n",
       "      <td>10785.000</td>\n",
       "    </tr>\n",
       "    <tr>\n",
       "      <th>2020-10-01 01:30:00</th>\n",
       "      <td>10810.875</td>\n",
       "    </tr>\n",
       "    <tr>\n",
       "      <th>2020-10-01 02:00:00</th>\n",
       "      <td>10820.000</td>\n",
       "    </tr>\n",
       "    <tr>\n",
       "      <th>...</th>\n",
       "      <td>...</td>\n",
       "    </tr>\n",
       "    <tr>\n",
       "      <th>2021-02-22 21:30:00</th>\n",
       "      <td>54542.000</td>\n",
       "    </tr>\n",
       "    <tr>\n",
       "      <th>2021-02-22 22:00:00</th>\n",
       "      <td>54592.875</td>\n",
       "    </tr>\n",
       "    <tr>\n",
       "      <th>2021-02-22 22:30:00</th>\n",
       "      <td>54119.625</td>\n",
       "    </tr>\n",
       "    <tr>\n",
       "      <th>2021-02-22 23:00:00</th>\n",
       "      <td>53775.125</td>\n",
       "    </tr>\n",
       "    <tr>\n",
       "      <th>2021-02-22 23:30:00</th>\n",
       "      <td>53855.250</td>\n",
       "    </tr>\n",
       "  </tbody>\n",
       "</table>\n",
       "<p>6960 rows × 1 columns</p>\n",
       "</div>"
      ],
      "text/plain": [
       "                             0\n",
       "time                          \n",
       "2020-10-01 00:00:00  10781.375\n",
       "2020-10-01 00:30:00  10783.125\n",
       "2020-10-01 01:00:00  10785.000\n",
       "2020-10-01 01:30:00  10810.875\n",
       "2020-10-01 02:00:00  10820.000\n",
       "...                        ...\n",
       "2021-02-22 21:30:00  54542.000\n",
       "2021-02-22 22:00:00  54592.875\n",
       "2021-02-22 22:30:00  54119.625\n",
       "2021-02-22 23:00:00  53775.125\n",
       "2021-02-22 23:30:00  53855.250\n",
       "\n",
       "[6960 rows x 1 columns]"
      ]
     },
     "execution_count": 56,
     "metadata": {},
     "output_type": "execute_result"
    }
   ],
   "source": [
    "Function('AVGPRICE')(df).to_frame()"
   ]
  },
  {
   "cell_type": "code",
   "execution_count": 70,
   "metadata": {},
   "outputs": [
    {
     "data": {
      "text/plain": [
       "time\n",
       "2020-10-01 00:00:00          NaN\n",
       "2020-10-01 00:30:00          NaN\n",
       "2020-10-01 01:00:00          NaN\n",
       "2020-10-01 01:30:00          NaN\n",
       "2020-10-01 02:00:00          NaN\n",
       "                         ...    \n",
       "2021-02-22 21:30:00    88.730291\n",
       "2021-02-22 22:00:00    85.454038\n",
       "2021-02-22 22:30:00    63.341889\n",
       "2021-02-22 23:00:00    35.650502\n",
       "2021-02-22 23:30:00    31.639017\n",
       "Name: slowk, Length: 6960, dtype: float64"
      ]
     },
     "execution_count": 70,
     "metadata": {},
     "output_type": "execute_result"
    }
   ],
   "source": [
    "Function('stoch')(df)['slowk']"
   ]
  },
  {
   "cell_type": "code",
   "execution_count": 69,
   "metadata": {},
   "outputs": [
    {
     "ename": "KeyError",
     "evalue": "'real'",
     "output_type": "error",
     "traceback": [
      "\u001b[1;31m---------------------------------------------------------------------------\u001b[0m",
      "\u001b[1;31mKeyError\u001b[0m                                  Traceback (most recent call last)",
      "File \u001b[1;32me:\\Coding\\virtual environments\\qfFree\\lib\\site-packages\\pandas\\core\\indexes\\base.py:3802\u001b[0m, in \u001b[0;36mIndex.get_loc\u001b[1;34m(self, key, method, tolerance)\u001b[0m\n\u001b[0;32m   3801\u001b[0m \u001b[39mtry\u001b[39;00m:\n\u001b[1;32m-> 3802\u001b[0m     \u001b[39mreturn\u001b[39;00m \u001b[39mself\u001b[39;49m\u001b[39m.\u001b[39;49m_engine\u001b[39m.\u001b[39;49mget_loc(casted_key)\n\u001b[0;32m   3803\u001b[0m \u001b[39mexcept\u001b[39;00m \u001b[39mKeyError\u001b[39;00m \u001b[39mas\u001b[39;00m err:\n",
      "File \u001b[1;32me:\\Coding\\virtual environments\\qfFree\\lib\\site-packages\\pandas\\_libs\\index.pyx:138\u001b[0m, in \u001b[0;36mpandas._libs.index.IndexEngine.get_loc\u001b[1;34m()\u001b[0m\n",
      "File \u001b[1;32me:\\Coding\\virtual environments\\qfFree\\lib\\site-packages\\pandas\\_libs\\index.pyx:165\u001b[0m, in \u001b[0;36mpandas._libs.index.IndexEngine.get_loc\u001b[1;34m()\u001b[0m\n",
      "File \u001b[1;32mpandas\\_libs\\hashtable_class_helper.pxi:5745\u001b[0m, in \u001b[0;36mpandas._libs.hashtable.PyObjectHashTable.get_item\u001b[1;34m()\u001b[0m\n",
      "File \u001b[1;32mpandas\\_libs\\hashtable_class_helper.pxi:5753\u001b[0m, in \u001b[0;36mpandas._libs.hashtable.PyObjectHashTable.get_item\u001b[1;34m()\u001b[0m\n",
      "\u001b[1;31mKeyError\u001b[0m: 'real'",
      "\nThe above exception was the direct cause of the following exception:\n",
      "\u001b[1;31mKeyError\u001b[0m                                  Traceback (most recent call last)",
      "Cell \u001b[1;32mIn[69], line 1\u001b[0m\n\u001b[1;32m----> 1\u001b[0m Function(\u001b[39m'\u001b[39;49m\u001b[39mrsi\u001b[39;49m\u001b[39m'\u001b[39;49m)(df)[\u001b[39m'\u001b[39;49m\u001b[39mreal\u001b[39;49m\u001b[39m'\u001b[39;49m]\n",
      "File \u001b[1;32me:\\Coding\\virtual environments\\qfFree\\lib\\site-packages\\pandas\\core\\series.py:981\u001b[0m, in \u001b[0;36mSeries.__getitem__\u001b[1;34m(self, key)\u001b[0m\n\u001b[0;32m    978\u001b[0m     \u001b[39mreturn\u001b[39;00m \u001b[39mself\u001b[39m\u001b[39m.\u001b[39m_values[key]\n\u001b[0;32m    980\u001b[0m \u001b[39melif\u001b[39;00m key_is_scalar:\n\u001b[1;32m--> 981\u001b[0m     \u001b[39mreturn\u001b[39;00m \u001b[39mself\u001b[39;49m\u001b[39m.\u001b[39;49m_get_value(key)\n\u001b[0;32m    983\u001b[0m \u001b[39mif\u001b[39;00m is_hashable(key):\n\u001b[0;32m    984\u001b[0m     \u001b[39m# Otherwise index.get_value will raise InvalidIndexError\u001b[39;00m\n\u001b[0;32m    985\u001b[0m     \u001b[39mtry\u001b[39;00m:\n\u001b[0;32m    986\u001b[0m         \u001b[39m# For labels that don't resolve as scalars like tuples and frozensets\u001b[39;00m\n",
      "File \u001b[1;32me:\\Coding\\virtual environments\\qfFree\\lib\\site-packages\\pandas\\core\\series.py:1089\u001b[0m, in \u001b[0;36mSeries._get_value\u001b[1;34m(self, label, takeable)\u001b[0m\n\u001b[0;32m   1086\u001b[0m     \u001b[39mreturn\u001b[39;00m \u001b[39mself\u001b[39m\u001b[39m.\u001b[39m_values[label]\n\u001b[0;32m   1088\u001b[0m \u001b[39m# Similar to Index.get_value, but we do not fall back to positional\u001b[39;00m\n\u001b[1;32m-> 1089\u001b[0m loc \u001b[39m=\u001b[39m \u001b[39mself\u001b[39;49m\u001b[39m.\u001b[39;49mindex\u001b[39m.\u001b[39;49mget_loc(label)\n\u001b[0;32m   1090\u001b[0m \u001b[39mreturn\u001b[39;00m \u001b[39mself\u001b[39m\u001b[39m.\u001b[39mindex\u001b[39m.\u001b[39m_get_values_for_loc(\u001b[39mself\u001b[39m, loc, label)\n",
      "File \u001b[1;32me:\\Coding\\virtual environments\\qfFree\\lib\\site-packages\\pandas\\core\\indexes\\base.py:3804\u001b[0m, in \u001b[0;36mIndex.get_loc\u001b[1;34m(self, key, method, tolerance)\u001b[0m\n\u001b[0;32m   3802\u001b[0m     \u001b[39mreturn\u001b[39;00m \u001b[39mself\u001b[39m\u001b[39m.\u001b[39m_engine\u001b[39m.\u001b[39mget_loc(casted_key)\n\u001b[0;32m   3803\u001b[0m \u001b[39mexcept\u001b[39;00m \u001b[39mKeyError\u001b[39;00m \u001b[39mas\u001b[39;00m err:\n\u001b[1;32m-> 3804\u001b[0m     \u001b[39mraise\u001b[39;00m \u001b[39mKeyError\u001b[39;00m(key) \u001b[39mfrom\u001b[39;00m \u001b[39merr\u001b[39;00m\n\u001b[0;32m   3805\u001b[0m \u001b[39mexcept\u001b[39;00m \u001b[39mTypeError\u001b[39;00m:\n\u001b[0;32m   3806\u001b[0m     \u001b[39m# If we have a listlike key, _check_indexing_error will raise\u001b[39;00m\n\u001b[0;32m   3807\u001b[0m     \u001b[39m#  InvalidIndexError. Otherwise we fall through and re-raise\u001b[39;00m\n\u001b[0;32m   3808\u001b[0m     \u001b[39m#  the TypeError.\u001b[39;00m\n\u001b[0;32m   3809\u001b[0m     \u001b[39mself\u001b[39m\u001b[39m.\u001b[39m_check_indexing_error(key)\n",
      "\u001b[1;31mKeyError\u001b[0m: 'real'"
     ]
    }
   ],
   "source": [
    "Function('rsi')(df)['real']"
   ]
  }
 ],
 "metadata": {
  "kernelspec": {
   "display_name": "qfFree",
   "language": "python",
   "name": "python3"
  },
  "language_info": {
   "codemirror_mode": {
    "name": "ipython",
    "version": 3
   },
   "file_extension": ".py",
   "mimetype": "text/x-python",
   "name": "python",
   "nbconvert_exporter": "python",
   "pygments_lexer": "ipython3",
   "version": "3.10.10"
  },
  "orig_nbformat": 4
 },
 "nbformat": 4,
 "nbformat_minor": 2
}
