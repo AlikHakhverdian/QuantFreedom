{
 "cells": [
  {
   "cell_type": "code",
   "execution_count": 1,
   "metadata": {},
   "outputs": [],
   "source": [
    "import quantfreedom as qf\n",
    "import numpy as np\n",
    "import pandas as pd\n",
    "\n",
    "from quantfreedom.backtester.indicators.talib_ind import from_talib\n",
    "from quantfreedom._typing import (\n",
    "    pdFrame, pdSeries\n",
    ")\n",
    "prices = pd.read_csv('30min.csv', index_col='time')\n",
    "rsi_ind = from_talib(\n",
    "    func_name='rsi',\n",
    "    df_prices=prices,\n",
    "    cart_product=False,\n",
    "    combos=False,\n",
    "    timeperiod=[15, 20],\n",
    ")\n"
   ]
  },
  {
   "cell_type": "code",
   "execution_count": 2,
   "metadata": {},
   "outputs": [],
   "source": [
    "tester = 'asd'\n",
    "if tester.lower() in ('open', 'high', 'low', 'close'):\n",
    "    print('yes')"
   ]
  },
  {
   "cell_type": "code",
   "execution_count": 3,
   "metadata": {},
   "outputs": [
    {
     "data": {
      "text/plain": [
       "array([[0., 0., 0., 0., 0.],\n",
       "       [0., 0., 0., 0., 0.]])"
      ]
     },
     "execution_count": 3,
     "metadata": {},
     "output_type": "execute_result"
    }
   ],
   "source": [
    "np.zeros((2,5))"
   ]
  },
  {
   "cell_type": "code",
   "execution_count": 62,
   "metadata": {},
   "outputs": [
    {
     "data": {
      "text/plain": [
       "[('1', 'first choice'), ('2', 'second choice'), ('3', 'third choice')]"
      ]
     },
     "execution_count": 62,
     "metadata": {},
     "output_type": "execute_result"
    }
   ],
   "source": [
    "my_choices=[\n",
    "         ('1','first choice'),\n",
    "         ('2','second choice'),\n",
    "         ('3','third choice')\n",
    "]\n",
    "my_choices"
   ]
  },
  {
   "cell_type": "code",
   "execution_count": 63,
   "metadata": {},
   "outputs": [
    {
     "data": {
      "text/plain": [
       "MultiIndex([( (0, 39),  'green'),\n",
       "            ( (0, 39), 'purple'),\n",
       "            ((1, 584),  'green'),\n",
       "            ((1, 584), 'purple'),\n",
       "            ((2, 485),  'green'),\n",
       "            ((2, 485), 'purple')],\n",
       "           names=['number', 'color'])"
      ]
     },
     "execution_count": 63,
     "metadata": {},
     "output_type": "execute_result"
    }
   ],
   "source": [
    "numbers = [(0,39), (1,584), (2,485)]\n",
    "colors = ['green', 'purple']\n",
    "pd.MultiIndex.from_product([numbers, colors],\n",
    "                           names=['number', 'color'])"
   ]
  },
  {
   "cell_type": "code",
   "execution_count": 78,
   "metadata": {},
   "outputs": [
    {
     "data": {
      "text/plain": [
       "array([False, False,  True,  True,  True,  True,  True,  True, False,\n",
       "       False])"
      ]
     },
     "execution_count": 78,
     "metadata": {},
     "output_type": "execute_result"
    }
   ],
   "source": [
    "asdf1 = np.random.random_integers(0,30, size=10)\n",
    "asdf2 = np.random.random_integers(0,30, size=10)\n",
    "np.where(asdf1 < asdf2, True, False)"
   ]
  },
  {
   "cell_type": "code",
   "execution_count": 83,
   "metadata": {},
   "outputs": [
    {
     "data": {
      "text/plain": [
       "10"
      ]
     },
     "execution_count": 83,
     "metadata": {},
     "output_type": "execute_result"
    }
   ],
   "source": [
    "len(asdf1)"
   ]
  },
  {
   "cell_type": "code",
   "execution_count": 67,
   "metadata": {},
   "outputs": [
    {
     "data": {
      "text/plain": [
       "MultiIndex([(0,  39),\n",
       "            (1, 584),\n",
       "            (2, 485)],\n",
       "           names=['number', 'color'])"
      ]
     },
     "execution_count": 67,
     "metadata": {},
     "output_type": "execute_result"
    }
   ],
   "source": [
    "numbers = [(0,39), (1,584), (2,485)]\n",
    "pd.MultiIndex.from_tuples(numbers,\n",
    "                           names=['number', 'color'])"
   ]
  },
  {
   "cell_type": "code",
   "execution_count": 47,
   "metadata": {},
   "outputs": [
    {
     "data": {
      "text/plain": [
       "array([[False, False,  True,  True, False,  True,  True,  True,  True],\n",
       "       [False,  True, False, False,  True,  True, False,  True,  True],\n",
       "       [False, False,  True, False, False,  True, False, False,  True],\n",
       "       [False, False, False, False, False, False, False,  True, False],\n",
       "       [ True, False,  True,  True, False,  True,  True,  True,  True],\n",
       "       [False, False, False,  True, False, False,  True, False,  True],\n",
       "       [False, False, False, False, False, False,  True, False, False],\n",
       "       [False, False, False, False, False,  True, False, False,  True],\n",
       "       [False, False, False, False, False, False,  True, False, False],\n",
       "       [False,  True, False, False,  True, False, False,  True, False]])"
      ]
     },
     "execution_count": 47,
     "metadata": {},
     "output_type": "execute_result"
    }
   ],
   "source": [
    "ema_300 = np.random.random_integers(1,60, size=(10,3))\n",
    "user_args = np.array([10,20,30])\n",
    "new_array = np.empty((ema_300.shape[0], ema_300.shape[1] * user_args.size), np.bool_)\n",
    "start = 0\n",
    "end = ema_300.shape[1]\n",
    "\n",
    "for col in range(user_args.size):\n",
    "    new_array[:, start : end] = np.where(ema_300 < user_args[col], True, False)\n",
    "    start = end\n",
    "    end += ema_300.shape[1]\n",
    "new_array"
   ]
  },
  {
   "cell_type": "code",
   "execution_count": 18,
   "metadata": {},
   "outputs": [
    {
     "data": {
      "text/plain": [
       "array([[False,  True, False],\n",
       "       [False,  True,  True],\n",
       "       [False, False,  True],\n",
       "       [False, False, False],\n",
       "       [False,  True,  True],\n",
       "       [ True, False, False],\n",
       "       [False, False, False],\n",
       "       [False, False,  True],\n",
       "       [False,  True,  True],\n",
       "       [ True,  True,  True]])"
      ]
     },
     "execution_count": 18,
     "metadata": {},
     "output_type": "execute_result"
    }
   ],
   "source": [
    "np.where(asdf < 20, True, False)"
   ]
  },
  {
   "cell_type": "code",
   "execution_count": 86,
   "metadata": {},
   "outputs": [
    {
     "data": {
      "text/plain": [
       "((0, 1, 2, 3, 4), (0, 5, 6, 7, 8))"
      ]
     },
     "execution_count": 86,
     "metadata": {},
     "output_type": "execute_result"
    }
   ],
   "source": [
    "yes = () + ((0,)+(1,2,3,4),)\n",
    "yes = yes + ((0,)+(5,6,7,8),)\n",
    "yes"
   ]
  },
  {
   "cell_type": "code",
   "execution_count": 4,
   "metadata": {},
   "outputs": [],
   "source": [
    "temp_bigger_df_array = np.asarray(np.random.random_integers(0,1, size=(10,6)),dtype=np.bool_)\n",
    "temp_smaller_df_array = np.asarray(np.random.random_integers(0,1, size=(10,6)),dtype=np.bool_)\n",
    "combine_array = np.full((10,6), 8)"
   ]
  },
  {
   "cell_type": "code",
   "execution_count": 8,
   "metadata": {},
   "outputs": [
    {
     "data": {
      "text/plain": [
       "array([[ True, False, False,  True,  True,  True],\n",
       "       [False, False,  True,  True, False, False],\n",
       "       [False,  True, False,  True,  True, False],\n",
       "       [ True,  True,  True,  True, False,  True],\n",
       "       [ True,  True, False,  True,  True,  True],\n",
       "       [False,  True, False,  True,  True, False],\n",
       "       [ True,  True, False, False,  True,  True],\n",
       "       [False,  True, False, False,  True,  True],\n",
       "       [False,  True, False,  True,  True, False],\n",
       "       [ True, False, False,  True,  True,  True]])"
      ]
     },
     "execution_count": 8,
     "metadata": {},
     "output_type": "execute_result"
    }
   ],
   "source": [
    "temp_bigger_df_array"
   ]
  },
  {
   "cell_type": "code",
   "execution_count": 5,
   "metadata": {},
   "outputs": [
    {
     "data": {
      "text/plain": [
       "array([[1, 8, 8, 8, 8, 8],\n",
       "       [0, 8, 8, 8, 8, 8],\n",
       "       [0, 8, 8, 8, 8, 8],\n",
       "       [1, 8, 8, 8, 8, 8],\n",
       "       [0, 8, 8, 8, 8, 8],\n",
       "       [0, 8, 8, 8, 8, 8],\n",
       "       [0, 8, 8, 8, 8, 8],\n",
       "       [0, 8, 8, 8, 8, 8],\n",
       "       [0, 8, 8, 8, 8, 8],\n",
       "       [0, 8, 8, 8, 8, 8]])"
      ]
     },
     "execution_count": 5,
     "metadata": {},
     "output_type": "execute_result"
    }
   ],
   "source": [
    "combine_array[:, 0] = np.logical_and(\n",
    "                temp_bigger_df_array[:,0] == True,\n",
    "                temp_smaller_df_array[:, 0] == True)\n",
    "combine_array"
   ]
  },
  {
   "cell_type": "code",
   "execution_count": 6,
   "metadata": {},
   "outputs": [
    {
     "data": {
      "text/plain": [
       "array([ True, False, False,  True,  True, False,  True, False, False,\n",
       "        True])"
      ]
     },
     "execution_count": 6,
     "metadata": {},
     "output_type": "execute_result"
    }
   ],
   "source": [
    "temp_bigger_df_array[:,0]"
   ]
  },
  {
   "cell_type": "code",
   "execution_count": 7,
   "metadata": {},
   "outputs": [
    {
     "data": {
      "text/plain": [
       "array([ True,  True,  True,  True, False, False, False,  True,  True,\n",
       "       False])"
      ]
     },
     "execution_count": 7,
     "metadata": {},
     "output_type": "execute_result"
    }
   ],
   "source": [
    "temp_smaller_df_array[:, 0]"
   ]
  }
 ],
 "metadata": {
  "kernelspec": {
   "display_name": "qfFree",
   "language": "python",
   "name": "python3"
  },
  "language_info": {
   "codemirror_mode": {
    "name": "ipython",
    "version": 3
   },
   "file_extension": ".py",
   "mimetype": "text/x-python",
   "name": "python",
   "nbconvert_exporter": "python",
   "pygments_lexer": "ipython3",
   "version": "3.10.10"
  },
  "orig_nbformat": 4
 },
 "nbformat": 4,
 "nbformat_minor": 2
}
