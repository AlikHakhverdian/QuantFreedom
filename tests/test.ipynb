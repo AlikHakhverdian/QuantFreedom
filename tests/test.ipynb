{
 "cells": [
  {
   "cell_type": "code",
   "execution_count": 10,
   "metadata": {},
   "outputs": [],
   "source": [
    "import quantfreedom as qf\n",
    "import numpy as np\n",
    "import pandas as pd\n",
    "\n",
    "from quantfreedom.backtester.indicators.talib_ind import from_talib\n",
    "from quantfreedom._typing import (\n",
    "    pdFrame, pdSeries\n",
    ")\n",
    "prices = pd.read_csv('30min.csv', index_col='time')\n",
    "rsi_ind = from_talib(\n",
    "    func_name='rsi',\n",
    "    df_prices=prices,\n",
    "    cart_product=False,\n",
    "    combos=False,\n",
    "    timeperiod=[15, 20],\n",
    ")\n"
   ]
  },
  {
   "cell_type": "code",
   "execution_count": 9,
   "metadata": {},
   "outputs": [],
   "source": [
    "tester = 'asd'\n",
    "if tester.lower() in ('open', 'high', 'low', 'close'):\n",
    "    print('yes')"
   ]
  },
  {
   "cell_type": "code",
   "execution_count": 11,
   "metadata": {},
   "outputs": [
    {
     "data": {
      "text/plain": [
       "array([[0., 0., 0., 0., 0.],\n",
       "       [0., 0., 0., 0., 0.]])"
      ]
     },
     "execution_count": 11,
     "metadata": {},
     "output_type": "execute_result"
    }
   ],
   "source": [
    "np.zeros((2,5))"
   ]
  },
  {
   "cell_type": "code",
   "execution_count": 57,
   "metadata": {},
   "outputs": [],
   "source": [
    "temp_bigger_df_array = np.asarray(np.random.random_integers(0,1, size=(10,6)),dtype=np.bool_)\n",
    "temp_smaller_df_array = np.asarray(np.random.random_integers(0,1, size=(10,6)),dtype=np.bool_)\n",
    "combine_array = np.full((10,6), 8)"
   ]
  },
  {
   "cell_type": "code",
   "execution_count": 58,
   "metadata": {},
   "outputs": [
    {
     "data": {
      "text/plain": [
       "array([[1, 8, 8, 8, 8, 8],\n",
       "       [0, 8, 8, 8, 8, 8],\n",
       "       [0, 8, 8, 8, 8, 8],\n",
       "       [1, 8, 8, 8, 8, 8],\n",
       "       [1, 8, 8, 8, 8, 8],\n",
       "       [0, 8, 8, 8, 8, 8],\n",
       "       [0, 8, 8, 8, 8, 8],\n",
       "       [0, 8, 8, 8, 8, 8],\n",
       "       [0, 8, 8, 8, 8, 8],\n",
       "       [0, 8, 8, 8, 8, 8]])"
      ]
     },
     "execution_count": 58,
     "metadata": {},
     "output_type": "execute_result"
    }
   ],
   "source": [
    "combine_array[:, 0] = np.logical_and(\n",
    "                temp_bigger_df_array[:,0] == True,\n",
    "                temp_smaller_df_array[:, 0] == True)\n",
    "combine_array"
   ]
  },
  {
   "cell_type": "code",
   "execution_count": 59,
   "metadata": {},
   "outputs": [
    {
     "data": {
      "text/plain": [
       "array([ True, False, False,  True,  True, False,  True, False, False,\n",
       "        True])"
      ]
     },
     "execution_count": 59,
     "metadata": {},
     "output_type": "execute_result"
    }
   ],
   "source": [
    "temp_bigger_df_array[:,0]"
   ]
  },
  {
   "cell_type": "code",
   "execution_count": 60,
   "metadata": {},
   "outputs": [
    {
     "data": {
      "text/plain": [
       "array([ True,  True, False,  True,  True,  True, False, False, False,\n",
       "       False])"
      ]
     },
     "execution_count": 60,
     "metadata": {},
     "output_type": "execute_result"
    }
   ],
   "source": [
    "temp_smaller_df_array[:, 0]"
   ]
  }
 ],
 "metadata": {
  "kernelspec": {
   "display_name": "qfFree",
   "language": "python",
   "name": "python3"
  },
  "language_info": {
   "codemirror_mode": {
    "name": "ipython",
    "version": 3
   },
   "file_extension": ".py",
   "mimetype": "text/x-python",
   "name": "python",
   "nbconvert_exporter": "python",
   "pygments_lexer": "ipython3",
   "version": "3.10.10"
  },
  "orig_nbformat": 4
 },
 "nbformat": 4,
 "nbformat_minor": 2
}
