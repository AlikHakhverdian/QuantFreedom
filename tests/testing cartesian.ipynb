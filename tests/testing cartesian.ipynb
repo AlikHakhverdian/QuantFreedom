{
 "cells": [
  {
   "cell_type": "code",
   "execution_count": 1,
   "metadata": {},
   "outputs": [],
   "source": [
    "import ccxt  # noqa: E402\n",
    "import pandas as pd\n",
    "import numpy as np"
   ]
  },
  {
   "cell_type": "code",
   "execution_count": 6,
   "metadata": {},
   "outputs": [],
   "source": [
    "def main(\n",
    "    exchange: str,\n",
    "    start: str,\n",
    "    end: str,\n",
    "    symbol: str,\n",
    "    timeframe: str,\n",
    "):\n",
    "    exchange = getattr(ccxt, exchange)()\n",
    "    markets = exchange.load_markets()\n",
    "    # exchange.verbose = True  # uncomment for debugging purposes if necessary\n",
    "    start = exchange.parse8601(start)\n",
    "    end = exchange.parse8601(end)\n",
    "    symbol = symbol\n",
    "    timeframe = timeframe\n",
    "    all_ohlcvs = []\n",
    "    while True:\n",
    "        try:\n",
    "            ohlcvs = exchange.fetch_ohlcv(\n",
    "                symbol=symbol,\n",
    "                timeframe=timeframe,\n",
    "                since=start,\n",
    "                params={'end': end}\n",
    "            )\n",
    "            all_ohlcvs += ohlcvs\n",
    "            if len(ohlcvs):\n",
    "                print('Fetched', len(ohlcvs), symbol, timeframe,\n",
    "                      'candles from', exchange.iso8601(ohlcvs[0][0]))\n",
    "                end = ohlcvs[0][0] - 1\n",
    "            else:\n",
    "                break\n",
    "        except Exception as e:\n",
    "            print(type(e).__name__, str(e))\n",
    "    data = pd.DataFrame(all_ohlcvs, columns=[\n",
    "                        'time', 'open', 'high', 'low', 'close', 'volume'])\n",
    "    data['time'] = pd.to_datetime(data['time'], unit='ms')\n",
    "    data.set_index('time', inplace=True)\n",
    "    data.sort_index(ascending=True, inplace=True)\n",
    "    return data\n"
   ]
  },
  {
   "cell_type": "code",
   "execution_count": 7,
   "metadata": {},
   "outputs": [
    {
     "name": "stdout",
     "output_type": "stream",
     "text": [
      "Fetched 200 BTCUSDT 4h candles from 2023-01-26T20:00:00.000Z\n",
      "Fetched 200 BTCUSDT 4h candles from 2022-12-24T12:00:00.000Z\n",
      "Fetched 141 BTCUSDT 4h candles from 2022-12-01T00:00:00.000Z\n"
     ]
    },
    {
     "data": {
      "text/html": [
       "<div>\n",
       "<style scoped>\n",
       "    .dataframe tbody tr th:only-of-type {\n",
       "        vertical-align: middle;\n",
       "    }\n",
       "\n",
       "    .dataframe tbody tr th {\n",
       "        vertical-align: top;\n",
       "    }\n",
       "\n",
       "    .dataframe thead th {\n",
       "        text-align: right;\n",
       "    }\n",
       "</style>\n",
       "<table border=\"1\" class=\"dataframe\">\n",
       "  <thead>\n",
       "    <tr style=\"text-align: right;\">\n",
       "      <th></th>\n",
       "      <th>open</th>\n",
       "      <th>high</th>\n",
       "      <th>low</th>\n",
       "      <th>close</th>\n",
       "      <th>volume</th>\n",
       "    </tr>\n",
       "    <tr>\n",
       "      <th>time</th>\n",
       "      <th></th>\n",
       "      <th></th>\n",
       "      <th></th>\n",
       "      <th></th>\n",
       "      <th></th>\n",
       "    </tr>\n",
       "  </thead>\n",
       "  <tbody>\n",
       "    <tr>\n",
       "      <th>2022-12-01 00:00:00</th>\n",
       "      <td>17146.5</td>\n",
       "      <td>17215.0</td>\n",
       "      <td>17070.5</td>\n",
       "      <td>17133.0</td>\n",
       "      <td>13430.852</td>\n",
       "    </tr>\n",
       "    <tr>\n",
       "      <th>2022-12-01 04:00:00</th>\n",
       "      <td>17133.0</td>\n",
       "      <td>17153.0</td>\n",
       "      <td>17054.5</td>\n",
       "      <td>17056.5</td>\n",
       "      <td>9267.438</td>\n",
       "    </tr>\n",
       "    <tr>\n",
       "      <th>2022-12-01 08:00:00</th>\n",
       "      <td>17056.5</td>\n",
       "      <td>17124.0</td>\n",
       "      <td>17034.0</td>\n",
       "      <td>17095.5</td>\n",
       "      <td>9888.619</td>\n",
       "    </tr>\n",
       "    <tr>\n",
       "      <th>2022-12-01 12:00:00</th>\n",
       "      <td>17095.5</td>\n",
       "      <td>17390.0</td>\n",
       "      <td>16888.5</td>\n",
       "      <td>16969.5</td>\n",
       "      <td>56350.766</td>\n",
       "    </tr>\n",
       "    <tr>\n",
       "      <th>2022-12-01 16:00:00</th>\n",
       "      <td>16969.5</td>\n",
       "      <td>16992.0</td>\n",
       "      <td>16892.0</td>\n",
       "      <td>16945.0</td>\n",
       "      <td>14983.775</td>\n",
       "    </tr>\n",
       "    <tr>\n",
       "      <th>...</th>\n",
       "      <td>...</td>\n",
       "      <td>...</td>\n",
       "      <td>...</td>\n",
       "      <td>...</td>\n",
       "      <td>...</td>\n",
       "    </tr>\n",
       "    <tr>\n",
       "      <th>2023-02-28 08:00:00</th>\n",
       "      <td>23223.0</td>\n",
       "      <td>23418.1</td>\n",
       "      <td>23197.5</td>\n",
       "      <td>23385.4</td>\n",
       "      <td>12895.067</td>\n",
       "    </tr>\n",
       "    <tr>\n",
       "      <th>2023-02-28 12:00:00</th>\n",
       "      <td>23385.4</td>\n",
       "      <td>23570.8</td>\n",
       "      <td>23303.9</td>\n",
       "      <td>23512.7</td>\n",
       "      <td>31478.974</td>\n",
       "    </tr>\n",
       "    <tr>\n",
       "      <th>2023-02-28 16:00:00</th>\n",
       "      <td>23512.7</td>\n",
       "      <td>23592.9</td>\n",
       "      <td>23202.0</td>\n",
       "      <td>23252.5</td>\n",
       "      <td>23919.927</td>\n",
       "    </tr>\n",
       "    <tr>\n",
       "      <th>2023-02-28 20:00:00</th>\n",
       "      <td>23252.5</td>\n",
       "      <td>23345.8</td>\n",
       "      <td>23010.0</td>\n",
       "      <td>23129.9</td>\n",
       "      <td>29404.724</td>\n",
       "    </tr>\n",
       "    <tr>\n",
       "      <th>2023-03-01 00:00:00</th>\n",
       "      <td>23129.9</td>\n",
       "      <td>23485.0</td>\n",
       "      <td>23015.0</td>\n",
       "      <td>23429.7</td>\n",
       "      <td>22748.467</td>\n",
       "    </tr>\n",
       "  </tbody>\n",
       "</table>\n",
       "<p>541 rows × 5 columns</p>\n",
       "</div>"
      ],
      "text/plain": [
       "                        open     high      low    close     volume\n",
       "time                                                              \n",
       "2022-12-01 00:00:00  17146.5  17215.0  17070.5  17133.0  13430.852\n",
       "2022-12-01 04:00:00  17133.0  17153.0  17054.5  17056.5   9267.438\n",
       "2022-12-01 08:00:00  17056.5  17124.0  17034.0  17095.5   9888.619\n",
       "2022-12-01 12:00:00  17095.5  17390.0  16888.5  16969.5  56350.766\n",
       "2022-12-01 16:00:00  16969.5  16992.0  16892.0  16945.0  14983.775\n",
       "...                      ...      ...      ...      ...        ...\n",
       "2023-02-28 08:00:00  23223.0  23418.1  23197.5  23385.4  12895.067\n",
       "2023-02-28 12:00:00  23385.4  23570.8  23303.9  23512.7  31478.974\n",
       "2023-02-28 16:00:00  23512.7  23592.9  23202.0  23252.5  23919.927\n",
       "2023-02-28 20:00:00  23252.5  23345.8  23010.0  23129.9  29404.724\n",
       "2023-03-01 00:00:00  23129.9  23485.0  23015.0  23429.7  22748.467\n",
       "\n",
       "[541 rows x 5 columns]"
      ]
     },
     "execution_count": 7,
     "metadata": {},
     "output_type": "execute_result"
    }
   ],
   "source": [
    "main(\n",
    "    exchange='bybit',\n",
    "    start='2022-12-01T00:00:00Z',\n",
    "    end='2023-03-01T00:00:00Z',\n",
    "    symbol='BTCUSDT',\n",
    "    timeframe='4h',\n",
    ")\n"
   ]
  },
  {
   "cell_type": "code",
   "execution_count": 17,
   "metadata": {},
   "outputs": [
    {
     "data": {
      "text/plain": [
       "[[1677628800000, 23129.9, 23485.0, 23015.0, 23429.7, 22748.467],\n",
       " [1677643200000, 23429.7, 23838.0, 23413.7, 23707.9, 35260.205],\n",
       " [1677657600000, 23707.9, 24028.4, 23659.4, 23733.8, 29677.149],\n",
       " [1677672000000, 23733.8, 23886.0, 23554.7, 23698.5, 40310.905],\n",
       " [1677686400000, 23698.5, 23737.9, 23317.2, 23350.1, 25933.332],\n",
       " [1677700800000, 23350.1, 23674.4, 23286.2, 23630.0, 20399.273],\n",
       " [1677715200000, 23630.0, 23788.2, 23422.0, 23495.1, 16942.583],\n",
       " [1677729600000, 23495.1, 23539.5, 23333.3, 23388.4, 10289.275],\n",
       " [1677744000000, 23388.4, 23476.8, 23337.2, 23412.4, 12200.634],\n",
       " [1677758400000, 23412.4, 23428.1, 23186.4, 23355.0, 30763.622],\n",
       " [1677772800000, 23355.0, 23502.4, 23223.1, 23464.6, 22404.164],\n",
       " [1677787200000, 23464.6, 23567.0, 23380.5, 23462.5, 15567.296],\n",
       " [1677801600000, 23462.5, 23469.9, 21905.0, 22320.0, 95414.816]]"
      ]
     },
     "execution_count": 17,
     "metadata": {},
     "output_type": "execute_result"
    }
   ],
   "source": [
    "exchange = ccxt.bybit()\n",
    "markets = exchange.load_markets()\n",
    "# exchange.verbose = True  # uncomment for debugging purposes if necessary\n",
    "since = exchange.parse8601('2023-03-01T00:00:00Z')\n",
    "end = exchange.parse8601('2023-03-03T00:00:00Z')\n",
    "symbol = 'BTCUSDT'\n",
    "timeframe = '4h'\n",
    "params = {\n",
    "    'end': end,\n",
    "}\n",
    "exchange.fetch_ohlcv(\n",
    "    symbol=symbol,\n",
    "    timeframe=timeframe,\n",
    "    since=since,\n",
    "    params=params\n",
    ")\n"
   ]
  },
  {
   "cell_type": "code",
   "execution_count": 16,
   "metadata": {},
   "outputs": [
    {
     "data": {
      "text/plain": [
       "1677628800000"
      ]
     },
     "execution_count": 16,
     "metadata": {},
     "output_type": "execute_result"
    }
   ],
   "source": [
    "since"
   ]
  },
  {
   "cell_type": "code",
   "execution_count": 14,
   "metadata": {},
   "outputs": [
    {
     "data": {
      "text/plain": [
       "1672531200000"
      ]
     },
     "execution_count": 14,
     "metadata": {},
     "output_type": "execute_result"
    }
   ],
   "source": [
    "exchange.parse8601('2023-01-01T00:00:00Z')"
   ]
  },
  {
   "cell_type": "code",
   "execution_count": 4,
   "metadata": {},
   "outputs": [
    {
     "name": "stdout",
     "output_type": "stream",
     "text": [
      "Fetched 200 BTCUSDT 4h candles from 2023-01-01T00:00:00.000Z\n",
      "Fetched 199 BTCUSDT 4h candles from 2023-02-03T08:00:00.000Z\n",
      "Fetched 31 BTCUSDT 4h candles from 2023-03-08T12:00:00.000Z\n",
      "Fetched 430 BTCUSDT 4h candles in total\n"
     ]
    }
   ],
   "source": [
    "main()"
   ]
  },
  {
   "cell_type": "code",
   "execution_count": 1,
   "metadata": {},
   "outputs": [
    {
     "name": "stdout",
     "output_type": "stream",
     "text": [
      "['ace', 'alpaca', 'ascendex', 'bequant', 'bigone', 'binance', 'binancecoinm', 'binanceus', 'binanceusdm', 'bit2c', 'bitbank', 'bitbay', 'bitbns', 'bitcoincom', 'bitfinex', 'bitfinex2', 'bitflyer', 'bitforex', 'bitget', 'bithumb', 'bitmart', 'bitmex', 'bitopro', 'bitpanda', 'bitrue', 'bitso', 'bitstamp', 'bitstamp1', 'bittrex', 'bitvavo', 'bkex', 'bl3p', 'blockchaincom', 'btcalpha', 'btcbox', 'btcex', 'btcmarkets', 'btctradeua', 'btcturk', 'buda', 'bybit', 'cex', 'coinbase', 'coinbaseprime', 'coinbasepro', 'coincheck', 'coinex', 'coinfalcon', 'coinmate', 'coinone', 'coinspot', 'cryptocom', 'currencycom', 'delta', 'deribit', 'digifinex', 'exmo', 'flowbtc', 'fmfwio', 'gate', 'gateio', 'gemini', 'hitbtc', 'hitbtc3', 'hollaex', 'huobi', 'huobijp', 'huobipro', 'idex', 'independentreserve', 'indodax', 'itbit', 'kraken', 'krakenfutures', 'kucoin', 'kucoinfutures', 'kuna', 'latoken', 'lbank', 'lbank2', 'luno', 'lykke', 'mercado', 'mexc', 'mexc3', 'ndax', 'novadax', 'oceanex', 'okcoin', 'okex', 'okex5', 'okx', 'paymium', 'phemex', 'poloniex', 'poloniexfutures', 'probit', 'ripio', 'stex', 'tidex', 'timex', 'tokocrypto', 'upbit', 'wavesexchange', 'wazirx', 'whitebit', 'woo', 'yobit', 'zaif', 'zb', 'zonda']\n"
     ]
    }
   ],
   "source": [
    "# import os\n",
    "# os.environ[\"NUMBA_DISABLE_JIT\"] = \"1\"\n",
    "# os.environ[\"NUMBA_DEBUGINFO\"] = \"1\"\n",
    "# os.environ[\"KMP_DUPLICATE_LIB_OK\"]=\"TRUE\"\n",
    "\n",
    "import numpy as np\n",
    "import pandas as pd\n",
    "import ccxt\n",
    "\n",
    "np.set_printoptions(precision=4)\n",
    "\n",
    "# data = vbt.CCXTData.download(\n",
    "#     \"BTCUSDT\",\n",
    "#     start='2020-10-01 UTC',\n",
    "#     end='2021-02-23 UTC',\n",
    "#     timeframe='30m',\n",
    "#     exchange='bybit',\n",
    "# )\n",
    "# data.save('test_long_cartesian.pickle')\n",
    "print (ccxt.exchanges)"
   ]
  },
  {
   "cell_type": "code",
   "execution_count": null,
   "metadata": {},
   "outputs": [],
   "source": [
    "exchange = ccxt.bybit()  # default id\n",
    "exchange.fetchOHLCV(\n",
    "    symbol='BTCUSDT',\n",
    "    timeframe='30m',\n",
    "    # params={\n",
    "    #     # 'category': 'linear',\n",
    "    #     'start': 1669852800000,\n",
    "    #     'end': 1670852800000,  \n",
    "    # }\n",
    "    )\n",
    "# exchange.fetch_ohlcv('BTCUSDT', '4h', '2023-01-01T00:00:00Z')"
   ]
  },
  {
   "cell_type": "code",
   "execution_count": 2,
   "metadata": {},
   "outputs": [],
   "source": [
    "rsi = vbt.RSI.run(\n",
    "    close,\n",
    "    window=[15, 20],\n",
    "    param_product=True\n",
    ")\n",
    "entries = rsi.rsi_below([20, 22]).shift(1).fillna(False)"
   ]
  },
  {
   "cell_type": "code",
   "execution_count": 3,
   "metadata": {},
   "outputs": [],
   "source": [
    "account_state = AccountAndTradeState_QF(\n",
    "    available_balance=100.,\n",
    "    equity=100.,\n",
    ")\n",
    "order = OrderEverything_QF(\n",
    "    lev_mode=np.array([LeverageMode_QF.LeastFreeCashUsed]),\n",
    "    order_type=np.array([OrderType_QF.LongEntry]),\n",
    "    size_type=np.array([SizeType_QF.RiskPercentOfAccount]),\n",
    "    size_pct=np.array([1.]),\n",
    "    max_equity_risk_pct=np.arange(5, 6.1, 1),\n",
    ")\n",
    "all_stops = AllStops_QF(\n",
    "    sl_pcts=np.arange(5, 6.1, .25),\n",
    "    risk_rewards = np.arange(5, 6.1, .5),\n",
    ")"
   ]
  },
  {
   "cell_type": "code",
   "execution_count": 4,
   "metadata": {},
   "outputs": [
    {
     "ename": "TypingError",
     "evalue": "Failed in nopython mode pipeline (step: nopython frontend)\n\u001b[1m\u001b[1m\u001b[1m\u001b[1m\u001b[1m\u001b[1m\u001b[1m\u001b[1m\u001b[1m\u001b[1mFailed in nopython mode pipeline (step: nopython frontend)\n\u001b[1m\u001b[1m\u001b[1m\u001b[1mFailed in nopython mode pipeline (step: nopython frontend)\n\u001b[1m\u001b[1m\u001b[1m\u001b[1mFailed in nopython mode pipeline (step: nopython frontend)\n\u001b[1m\u001b[1m\u001b[1m\u001b[1m\u001b[1m\u001b[1m\u001b[1m\u001b[1m\u001b[1m\u001b[1mFailed in nopython mode pipeline (step: nopython frontend)\n\u001b[1m\u001b[1m\u001b[1mNo implementation of function Function(<class 'numba.core.types.functions.NamedTupleClass'>) found for signature:\n \n >>> NamedTupleClass(lev_mode=float64, order_type=float64, price=float64, size_type=float64, allow_partial=float64, available_balance=float64, average_entry=float64, cash_borrowed=float64, cash_used=float64, equity=float64, fee=float64, fees_paid=float64, leverage=float64, liq_price=float64, log=float64, max_equity_risk=float64, max_equity_risk_pct=float64, max_lev=float64, max_order_pct_size=float64, max_order_size=float64, min_order_pct_size=float64, min_order_size=float64, mmr=float64, pct_chg=float64, position=float64, raise_reject=float64, realized_pnl=float64, reject_prob=float64, risk_rewards=float64, size=float64, size_pct=float64, sl_pcts=float64, sl_prices=float64, slippage_pct=float64, status=float64, status_info=float64, tp_pcts=float64, tp_prices=float64, tsl_pcts=float64, tsl_prices=float64)\n \nThere are 2 candidate implementations:\n\u001b[1m - Of which 2 did not match due to:\n Overload in function 'NamedTupleClass': File: numba\\core\\typing\\templates.py: Line 174.\n   With argument(s): '(lev_mode=float64, order_type=float64, price=float64, size_type=float64, allow_partial=float64, available_balance=float64, average_entry=float64, cash_borrowed=float64, cash_used=float64, equity=float64, fee=float64, fees_paid=float64, leverage=float64, liq_price=float64, log=float64, max_equity_risk=float64, max_equity_risk_pct=float64, max_lev=float64, max_order_pct_size=float64, max_order_size=float64, min_order_pct_size=float64, min_order_size=float64, mmr=float64, pct_chg=float64, position=float64, raise_reject=float64, realized_pnl=float64, reject_prob=float64, risk_rewards=float64, size=float64, size_pct=float64, sl_pcts=float64, sl_prices=float64, slippage_pct=float64, status=float64, status_info=float64, tp_pcts=float64, tp_prices=float64, tsl_pcts=float64, tsl_prices=float64)':\u001b[0m\n\u001b[1m  Rejected as the implementation raised a specific error:\n    TypeError: In '<class 'vectorbt.qf.portfolio.enums.enums_qf.ResultEverything_QF'>': got an unexpected keyword argument 'risk_rewards'\u001b[0m\n  raised from C:\\Users\\User\\AppData\\Local\\Programs\\Python\\Python39\\lib\\inspect.py:3034\n\u001b[0m\n\u001b[0m\u001b[1mDuring: resolving callee type: class(<class 'vectorbt.qf.portfolio.enums.enums_qf.ResultEverything_QF'>)\u001b[0m\n\u001b[0m\u001b[1mDuring: typing of call at e:\\vbt\\quantfreedomvbt\\vectorbt\\qf\\portfolio\\nb\\helper_funcs.py (159)\n\u001b[0m\n\u001b[1m\nFile \"..\\..\\..\\vbt\\quantfreedomvbt\\vectorbt\\qf\\portfolio\\nb\\helper_funcs.py\", line 159:\u001b[0m\n\u001b[1mdef order_not_filled_nb_qf(\n    <source elided>\n\n\u001b[1m    order = ResultEverything_QF(\n\u001b[0m    \u001b[1m^\u001b[0m\u001b[0m\n\n\u001b[0m\u001b[1mDuring: resolving callee type: type(CPUDispatcher(<function order_not_filled_nb_qf at 0x000001DF6CDEC1F0>))\u001b[0m\n\u001b[0m\u001b[1mDuring: typing of call at e:\\vbt\\quantfreedomvbt\\vectorbt\\qf\\portfolio\\nb\\buy_funcs.py (113)\n\u001b[0m\n\u001b[0m\u001b[1mDuring: resolving callee type: type(CPUDispatcher(<function order_not_filled_nb_qf at 0x000001DF6CDEC1F0>))\u001b[0m\n\u001b[0m\u001b[1mDuring: typing of call at e:\\vbt\\quantfreedomvbt\\vectorbt\\qf\\portfolio\\nb\\buy_funcs.py (156)\n\u001b[0m\n\u001b[0m\u001b[1mDuring: resolving callee type: type(CPUDispatcher(<function order_not_filled_nb_qf at 0x000001DF6CDEC1F0>))\u001b[0m\n\u001b[0m\u001b[1mDuring: typing of call at e:\\vbt\\quantfreedomvbt\\vectorbt\\qf\\portfolio\\nb\\buy_funcs.py (167)\n\u001b[0m\n\u001b[0m\u001b[1mDuring: resolving callee type: type(CPUDispatcher(<function order_not_filled_nb_qf at 0x000001DF6CDEC1F0>))\u001b[0m\n\u001b[0m\u001b[1mDuring: typing of call at e:\\vbt\\quantfreedomvbt\\vectorbt\\qf\\portfolio\\nb\\buy_funcs.py (221)\n\u001b[0m\n\u001b[0m\u001b[1mDuring: resolving callee type: type(CPUDispatcher(<function order_not_filled_nb_qf at 0x000001DF6CDEC1F0>))\u001b[0m\n\u001b[0m\u001b[1mDuring: typing of call at e:\\vbt\\quantfreedomvbt\\vectorbt\\qf\\portfolio\\nb\\buy_funcs.py (113)\n\u001b[0m\n\u001b[1m\nFile \"..\\..\\..\\vbt\\quantfreedomvbt\\vectorbt\\qf\\portfolio\\nb\\buy_funcs.py\", line 113:\u001b[0m\n\u001b[1mdef long_increase_nb_qf(\n    <source elided>\n        if 0 < possible_loss > account_risk_amount:\n\u001b[1m            return account_state, order_not_filled_nb_qf(\n\u001b[0m            \u001b[1m^\u001b[0m\u001b[0m\n\n\u001b[0m\u001b[1mDuring: resolving callee type: type(CPUDispatcher(<function long_increase_nb_qf at 0x000001DF6CDEC040>))\u001b[0m\n\u001b[0m\u001b[1mDuring: typing of call at e:\\vbt\\quantfreedomvbt\\vectorbt\\qf\\portfolio\\nb\\execute_funcs.py (1252)\n\u001b[0m\n\u001b[0m\u001b[1mDuring: resolving callee type: type(CPUDispatcher(<function long_increase_nb_qf at 0x000001DF6CDEC040>))\u001b[0m\n\u001b[0m\u001b[1mDuring: typing of call at e:\\vbt\\quantfreedomvbt\\vectorbt\\qf\\portfolio\\nb\\execute_funcs.py (1252)\n\u001b[0m\n\u001b[1m\nFile \"..\\..\\..\\vbt\\quantfreedomvbt\\vectorbt\\qf\\portfolio\\nb\\execute_funcs.py\", line 1252:\u001b[0m\n\u001b[1mdef execute_order_nb_qf(\n    <source elided>\n    if order.order_type == OrderType_QF.LongEntry and not np.isnan(order.lev_mode):\n\u001b[1m        new_account_state, order_result, new_all_stops = long_increase_nb_qf(\n\u001b[0m        \u001b[1m^\u001b[0m\u001b[0m\n\n\u001b[0m\u001b[1mDuring: resolving callee type: type(CPUDispatcher(<function execute_order_nb_qf at 0x000001DF6CE09E50>))\u001b[0m\n\u001b[0m\u001b[1mDuring: typing of call at e:\\vbt\\quantfreedomvbt\\vectorbt\\qf\\portfolio\\nb\\execute_funcs.py (1330)\n\u001b[0m\n\u001b[0m\u001b[1mDuring: resolving callee type: type(CPUDispatcher(<function execute_order_nb_qf at 0x000001DF6CE09E50>))\u001b[0m\n\u001b[0m\u001b[1mDuring: typing of call at e:\\vbt\\quantfreedomvbt\\vectorbt\\qf\\portfolio\\nb\\execute_funcs.py (1330)\n\u001b[0m\n\u001b[1m\nFile \"..\\..\\..\\vbt\\quantfreedomvbt\\vectorbt\\qf\\portfolio\\nb\\execute_funcs.py\", line 1330:\u001b[0m\n\u001b[1mdef process_order_nb_qf(\n    <source elided>\n    # Execute the order\n\u001b[1m    new_account_state, order_result, new_all_stops = execute_order_nb_qf(\n\u001b[0m    \u001b[1m^\u001b[0m\u001b[0m\n\n\u001b[0m\u001b[1mDuring: resolving callee type: type(CPUDispatcher(<function process_order_nb_qf at 0x000001DF6CE22040>))\u001b[0m\n\u001b[0m\u001b[1mDuring: typing of call at e:\\vbt\\quantfreedomvbt\\vectorbt\\qf\\portfolio\\nb\\execute_funcs.py (552)\n\u001b[0m\n\u001b[0m\u001b[1mDuring: resolving callee type: type(CPUDispatcher(<function process_order_nb_qf at 0x000001DF6CE22040>))\u001b[0m\n\u001b[0m\u001b[1mDuring: typing of call at e:\\vbt\\quantfreedomvbt\\vectorbt\\qf\\portfolio\\nb\\execute_funcs.py (552)\n\u001b[0m\n\u001b[0m\u001b[1mDuring: resolving callee type: type(CPUDispatcher(<function process_order_nb_qf at 0x000001DF6CE22040>))\u001b[0m\n\u001b[0m\u001b[1mDuring: typing of call at e:\\vbt\\quantfreedomvbt\\vectorbt\\qf\\portfolio\\nb\\execute_funcs.py (552)\n\u001b[0m\n\u001b[0m\u001b[1mDuring: resolving callee type: type(CPUDispatcher(<function process_order_nb_qf at 0x000001DF6CE22040>))\u001b[0m\n\u001b[0m\u001b[1mDuring: typing of call at e:\\vbt\\quantfreedomvbt\\vectorbt\\qf\\portfolio\\nb\\execute_funcs.py (552)\n\u001b[0m\n\u001b[0m\u001b[1mDuring: resolving callee type: type(CPUDispatcher(<function process_order_nb_qf at 0x000001DF6CE22040>))\u001b[0m\n\u001b[0m\u001b[1mDuring: typing of call at e:\\vbt\\quantfreedomvbt\\vectorbt\\qf\\portfolio\\nb\\execute_funcs.py (552)\n\u001b[0m\n\u001b[1m\nFile \"..\\..\\..\\vbt\\quantfreedomvbt\\vectorbt\\qf\\portfolio\\nb\\execute_funcs.py\", line 552:\u001b[0m\n\u001b[1mdef cart_tester(\n    <source elided>\n                if current_indicator_entries[bar]:\n\u001b[1m                    account_state, order_result, all_stops=process_order_nb_qf(\n\u001b[0m                    \u001b[1m^\u001b[0m\u001b[0m\n",
     "output_type": "error",
     "traceback": [
      "\u001b[1;31m---------------------------------------------------------------------------\u001b[0m",
      "\u001b[1;31mTypingError\u001b[0m                               Traceback (most recent call last)",
      "Cell \u001b[1;32mIn[4], line 1\u001b[0m\n\u001b[1;32m----> 1\u001b[0m df_array, order_records, _ \u001b[39m=\u001b[39m cart_from_signals(\n\u001b[0;32m      2\u001b[0m     \u001b[39mopen\u001b[39;49m\u001b[39m=\u001b[39;49m\u001b[39mopen\u001b[39;49m,\n\u001b[0;32m      3\u001b[0m     high\u001b[39m=\u001b[39;49mhigh,\n\u001b[0;32m      4\u001b[0m     low\u001b[39m=\u001b[39;49mlow,\n\u001b[0;32m      5\u001b[0m     close\u001b[39m=\u001b[39;49mclose,\n\u001b[0;32m      6\u001b[0m     entries\u001b[39m=\u001b[39;49mentries,\n\u001b[0;32m      7\u001b[0m     order\u001b[39m=\u001b[39;49morder,\n\u001b[0;32m      8\u001b[0m     account_state\u001b[39m=\u001b[39;49maccount_state,\n\u001b[0;32m      9\u001b[0m     all_stops\u001b[39m=\u001b[39;49mall_stops,\n\u001b[0;32m     10\u001b[0m )\n",
      "File \u001b[1;32me:\\vbt\\quantfreedomvbt\\vectorbt\\qf\\portfolio\\base\\base.py:49\u001b[0m, in \u001b[0;36mcart_from_signals\u001b[1;34m(open, high, low, close, entries, order, all_stops, account_state)\u001b[0m\n\u001b[0;32m     47\u001b[0m     mydict[all_stops\u001b[39m.\u001b[39m_fields[all_stops_n]] \u001b[39m=\u001b[39m out[i]\n\u001b[0;32m     48\u001b[0m     all_stops_n \u001b[39m+\u001b[39m\u001b[39m=\u001b[39m \u001b[39m1\u001b[39m\n\u001b[1;32m---> 49\u001b[0m \u001b[39mreturn\u001b[39;00m cart_tester(\n\u001b[0;32m     50\u001b[0m     \u001b[39mopen\u001b[39;49m\u001b[39m=\u001b[39;49m\u001b[39mopen\u001b[39;49m\u001b[39m.\u001b[39;49mvalues,\n\u001b[0;32m     51\u001b[0m     high\u001b[39m=\u001b[39;49mhigh\u001b[39m.\u001b[39;49mvalues,\n\u001b[0;32m     52\u001b[0m     low\u001b[39m=\u001b[39;49mlow\u001b[39m.\u001b[39;49mvalues,\n\u001b[0;32m     53\u001b[0m     close\u001b[39m=\u001b[39;49mclose\u001b[39m.\u001b[39;49mvalues,\n\u001b[0;32m     54\u001b[0m     entries\u001b[39m=\u001b[39;49mentries\u001b[39m.\u001b[39;49mvalues,\n\u001b[0;32m     55\u001b[0m     og_account_state\u001b[39m=\u001b[39;49maccount_state,\n\u001b[0;32m     56\u001b[0m     \u001b[39m# the orders with each indv array\u001b[39;49;00m\n\u001b[0;32m     57\u001b[0m     lev_mode\u001b[39m=\u001b[39;49mmydict[\u001b[39m'\u001b[39;49m\u001b[39mlev_mode\u001b[39;49m\u001b[39m'\u001b[39;49m],\n\u001b[0;32m     58\u001b[0m     order_type\u001b[39m=\u001b[39;49mmydict[\u001b[39m'\u001b[39;49m\u001b[39morder_type\u001b[39;49m\u001b[39m'\u001b[39;49m],\n\u001b[0;32m     59\u001b[0m     size_type\u001b[39m=\u001b[39;49mmydict[\u001b[39m'\u001b[39;49m\u001b[39msize_type\u001b[39;49m\u001b[39m'\u001b[39;49m],\n\u001b[0;32m     60\u001b[0m     allow_partial\u001b[39m=\u001b[39;49mmydict[\u001b[39m'\u001b[39;49m\u001b[39mallow_partial\u001b[39;49m\u001b[39m'\u001b[39;49m],\n\u001b[0;32m     61\u001b[0m     available_balance\u001b[39m=\u001b[39;49mmydict[\u001b[39m'\u001b[39;49m\u001b[39mavailable_balance\u001b[39;49m\u001b[39m'\u001b[39;49m],\n\u001b[0;32m     62\u001b[0m     average_entry\u001b[39m=\u001b[39;49mmydict[\u001b[39m'\u001b[39;49m\u001b[39maverage_entry\u001b[39;49m\u001b[39m'\u001b[39;49m],\n\u001b[0;32m     63\u001b[0m     cash_borrowed\u001b[39m=\u001b[39;49mmydict[\u001b[39m'\u001b[39;49m\u001b[39mcash_borrowed\u001b[39;49m\u001b[39m'\u001b[39;49m],\n\u001b[0;32m     64\u001b[0m     cash_used\u001b[39m=\u001b[39;49mmydict[\u001b[39m'\u001b[39;49m\u001b[39mcash_used\u001b[39;49m\u001b[39m'\u001b[39;49m],\n\u001b[0;32m     65\u001b[0m     equity\u001b[39m=\u001b[39;49mmydict[\u001b[39m'\u001b[39;49m\u001b[39mequity\u001b[39;49m\u001b[39m'\u001b[39;49m],\n\u001b[0;32m     66\u001b[0m     fee\u001b[39m=\u001b[39;49mmydict[\u001b[39m'\u001b[39;49m\u001b[39mfee\u001b[39;49m\u001b[39m'\u001b[39;49m],\n\u001b[0;32m     67\u001b[0m     fees_paid\u001b[39m=\u001b[39;49mmydict[\u001b[39m'\u001b[39;49m\u001b[39mfees_paid\u001b[39;49m\u001b[39m'\u001b[39;49m],\n\u001b[0;32m     68\u001b[0m     leverage\u001b[39m=\u001b[39;49mmydict[\u001b[39m'\u001b[39;49m\u001b[39mleverage\u001b[39;49m\u001b[39m'\u001b[39;49m],\n\u001b[0;32m     69\u001b[0m     liq_price\u001b[39m=\u001b[39;49mmydict[\u001b[39m'\u001b[39;49m\u001b[39mliq_price\u001b[39;49m\u001b[39m'\u001b[39;49m],\n\u001b[0;32m     70\u001b[0m     log\u001b[39m=\u001b[39;49mmydict[\u001b[39m'\u001b[39;49m\u001b[39mlog\u001b[39;49m\u001b[39m'\u001b[39;49m],\n\u001b[0;32m     71\u001b[0m     max_equity_risk\u001b[39m=\u001b[39;49mmydict[\u001b[39m'\u001b[39;49m\u001b[39mmax_equity_risk\u001b[39;49m\u001b[39m'\u001b[39;49m],\n\u001b[0;32m     72\u001b[0m     max_equity_risk_pct\u001b[39m=\u001b[39;49mmydict[\u001b[39m'\u001b[39;49m\u001b[39mmax_equity_risk_pct\u001b[39;49m\u001b[39m'\u001b[39;49m],\n\u001b[0;32m     73\u001b[0m     max_lev\u001b[39m=\u001b[39;49mmydict[\u001b[39m'\u001b[39;49m\u001b[39mmax_lev\u001b[39;49m\u001b[39m'\u001b[39;49m],\n\u001b[0;32m     74\u001b[0m     max_order_pct_size\u001b[39m=\u001b[39;49mmydict[\u001b[39m'\u001b[39;49m\u001b[39mmax_order_pct_size\u001b[39;49m\u001b[39m'\u001b[39;49m],\n\u001b[0;32m     75\u001b[0m     max_order_size\u001b[39m=\u001b[39;49mmydict[\u001b[39m'\u001b[39;49m\u001b[39mmax_order_size\u001b[39;49m\u001b[39m'\u001b[39;49m],\n\u001b[0;32m     76\u001b[0m     min_order_pct_size\u001b[39m=\u001b[39;49mmydict[\u001b[39m'\u001b[39;49m\u001b[39mmin_order_pct_size\u001b[39;49m\u001b[39m'\u001b[39;49m],\n\u001b[0;32m     77\u001b[0m     min_order_size\u001b[39m=\u001b[39;49mmydict[\u001b[39m'\u001b[39;49m\u001b[39mmin_order_size\u001b[39;49m\u001b[39m'\u001b[39;49m],\n\u001b[0;32m     78\u001b[0m     mmr\u001b[39m=\u001b[39;49mmydict[\u001b[39m'\u001b[39;49m\u001b[39mmmr\u001b[39;49m\u001b[39m'\u001b[39;49m],\n\u001b[0;32m     79\u001b[0m     pct_chg\u001b[39m=\u001b[39;49mmydict[\u001b[39m'\u001b[39;49m\u001b[39mpct_chg\u001b[39;49m\u001b[39m'\u001b[39;49m],\n\u001b[0;32m     80\u001b[0m     position\u001b[39m=\u001b[39;49mmydict[\u001b[39m'\u001b[39;49m\u001b[39mposition\u001b[39;49m\u001b[39m'\u001b[39;49m],\n\u001b[0;32m     81\u001b[0m     raise_reject\u001b[39m=\u001b[39;49mmydict[\u001b[39m'\u001b[39;49m\u001b[39mraise_reject\u001b[39;49m\u001b[39m'\u001b[39;49m],\n\u001b[0;32m     82\u001b[0m     realized_pnl\u001b[39m=\u001b[39;49mmydict[\u001b[39m'\u001b[39;49m\u001b[39mrealized_pnl\u001b[39;49m\u001b[39m'\u001b[39;49m],\n\u001b[0;32m     83\u001b[0m     reject_prob\u001b[39m=\u001b[39;49mmydict[\u001b[39m'\u001b[39;49m\u001b[39mreject_prob\u001b[39;49m\u001b[39m'\u001b[39;49m],\n\u001b[0;32m     84\u001b[0m     risk_rewards\u001b[39m=\u001b[39;49mmydict[\u001b[39m'\u001b[39;49m\u001b[39mrisk_rewards\u001b[39;49m\u001b[39m'\u001b[39;49m],\n\u001b[0;32m     85\u001b[0m     size\u001b[39m=\u001b[39;49mmydict[\u001b[39m'\u001b[39;49m\u001b[39msize\u001b[39;49m\u001b[39m'\u001b[39;49m],\n\u001b[0;32m     86\u001b[0m     size_pct\u001b[39m=\u001b[39;49mmydict[\u001b[39m'\u001b[39;49m\u001b[39msize_pct\u001b[39;49m\u001b[39m'\u001b[39;49m],\n\u001b[0;32m     87\u001b[0m     sl_be_trail\u001b[39m=\u001b[39;49mmydict[\u001b[39m'\u001b[39;49m\u001b[39msl_be_trail\u001b[39;49m\u001b[39m'\u001b[39;49m],\n\u001b[0;32m     88\u001b[0m     sl_to_be\u001b[39m=\u001b[39;49mmydict[\u001b[39m'\u001b[39;49m\u001b[39msl_to_be\u001b[39;49m\u001b[39m'\u001b[39;49m],\n\u001b[0;32m     89\u001b[0m     sl_pcts\u001b[39m=\u001b[39;49mmydict[\u001b[39m'\u001b[39;49m\u001b[39msl_pcts\u001b[39;49m\u001b[39m'\u001b[39;49m],\n\u001b[0;32m     90\u001b[0m     sl_prices\u001b[39m=\u001b[39;49mmydict[\u001b[39m'\u001b[39;49m\u001b[39msl_prices\u001b[39;49m\u001b[39m'\u001b[39;49m],\n\u001b[0;32m     91\u001b[0m     slippage_pct\u001b[39m=\u001b[39;49mmydict[\u001b[39m'\u001b[39;49m\u001b[39mslippage_pct\u001b[39;49m\u001b[39m'\u001b[39;49m],\n\u001b[0;32m     92\u001b[0m     status\u001b[39m=\u001b[39;49mmydict[\u001b[39m'\u001b[39;49m\u001b[39mstatus\u001b[39;49m\u001b[39m'\u001b[39;49m],\n\u001b[0;32m     93\u001b[0m     status_info\u001b[39m=\u001b[39;49mmydict[\u001b[39m'\u001b[39;49m\u001b[39mstatus_info\u001b[39;49m\u001b[39m'\u001b[39;49m],\n\u001b[0;32m     94\u001b[0m     tp_pcts\u001b[39m=\u001b[39;49mmydict[\u001b[39m'\u001b[39;49m\u001b[39mtp_pcts\u001b[39;49m\u001b[39m'\u001b[39;49m],\n\u001b[0;32m     95\u001b[0m     tp_prices\u001b[39m=\u001b[39;49mmydict[\u001b[39m'\u001b[39;49m\u001b[39mtp_prices\u001b[39;49m\u001b[39m'\u001b[39;49m],\n\u001b[0;32m     96\u001b[0m     tsl_pcts\u001b[39m=\u001b[39;49mmydict[\u001b[39m'\u001b[39;49m\u001b[39mtsl_pcts\u001b[39;49m\u001b[39m'\u001b[39;49m],\n\u001b[0;32m     97\u001b[0m     tsl_prices\u001b[39m=\u001b[39;49mmydict[\u001b[39m'\u001b[39;49m\u001b[39mtsl_prices\u001b[39;49m\u001b[39m'\u001b[39;49m],\n\u001b[0;32m     98\u001b[0m )\n",
      "File \u001b[1;32me:\\Coding\\virtual environments\\qfVBT\\lib\\site-packages\\numba\\core\\dispatcher.py:468\u001b[0m, in \u001b[0;36m_DispatcherBase._compile_for_args\u001b[1;34m(self, *args, **kws)\u001b[0m\n\u001b[0;32m    464\u001b[0m         msg \u001b[39m=\u001b[39m (\u001b[39mf\u001b[39m\u001b[39m\"\u001b[39m\u001b[39m{\u001b[39;00m\u001b[39mstr\u001b[39m(e)\u001b[39m.\u001b[39mrstrip()\u001b[39m}\u001b[39;00m\u001b[39m \u001b[39m\u001b[39m\\n\u001b[39;00m\u001b[39m\\n\u001b[39;00m\u001b[39mThis error may have been caused \u001b[39m\u001b[39m\"\u001b[39m\n\u001b[0;32m    465\u001b[0m                \u001b[39mf\u001b[39m\u001b[39m\"\u001b[39m\u001b[39mby the following argument(s):\u001b[39m\u001b[39m\\n\u001b[39;00m\u001b[39m{\u001b[39;00margs_str\u001b[39m}\u001b[39;00m\u001b[39m\\n\u001b[39;00m\u001b[39m\"\u001b[39m)\n\u001b[0;32m    466\u001b[0m         e\u001b[39m.\u001b[39mpatch_message(msg)\n\u001b[1;32m--> 468\u001b[0m     error_rewrite(e, \u001b[39m'\u001b[39;49m\u001b[39mtyping\u001b[39;49m\u001b[39m'\u001b[39;49m)\n\u001b[0;32m    469\u001b[0m \u001b[39mexcept\u001b[39;00m errors\u001b[39m.\u001b[39mUnsupportedError \u001b[39mas\u001b[39;00m e:\n\u001b[0;32m    470\u001b[0m     \u001b[39m# Something unsupported is present in the user code, add help info\u001b[39;00m\n\u001b[0;32m    471\u001b[0m     error_rewrite(e, \u001b[39m'\u001b[39m\u001b[39munsupported_error\u001b[39m\u001b[39m'\u001b[39m)\n",
      "File \u001b[1;32me:\\Coding\\virtual environments\\qfVBT\\lib\\site-packages\\numba\\core\\dispatcher.py:409\u001b[0m, in \u001b[0;36m_DispatcherBase._compile_for_args.<locals>.error_rewrite\u001b[1;34m(e, issue_type)\u001b[0m\n\u001b[0;32m    407\u001b[0m     \u001b[39mraise\u001b[39;00m e\n\u001b[0;32m    408\u001b[0m \u001b[39melse\u001b[39;00m:\n\u001b[1;32m--> 409\u001b[0m     \u001b[39mraise\u001b[39;00m e\u001b[39m.\u001b[39mwith_traceback(\u001b[39mNone\u001b[39;00m)\n",
      "\u001b[1;31mTypingError\u001b[0m: Failed in nopython mode pipeline (step: nopython frontend)\n\u001b[1m\u001b[1m\u001b[1m\u001b[1m\u001b[1m\u001b[1m\u001b[1m\u001b[1m\u001b[1m\u001b[1mFailed in nopython mode pipeline (step: nopython frontend)\n\u001b[1m\u001b[1m\u001b[1m\u001b[1mFailed in nopython mode pipeline (step: nopython frontend)\n\u001b[1m\u001b[1m\u001b[1m\u001b[1mFailed in nopython mode pipeline (step: nopython frontend)\n\u001b[1m\u001b[1m\u001b[1m\u001b[1m\u001b[1m\u001b[1m\u001b[1m\u001b[1m\u001b[1m\u001b[1mFailed in nopython mode pipeline (step: nopython frontend)\n\u001b[1m\u001b[1m\u001b[1mNo implementation of function Function(<class 'numba.core.types.functions.NamedTupleClass'>) found for signature:\n \n >>> NamedTupleClass(lev_mode=float64, order_type=float64, price=float64, size_type=float64, allow_partial=float64, available_balance=float64, average_entry=float64, cash_borrowed=float64, cash_used=float64, equity=float64, fee=float64, fees_paid=float64, leverage=float64, liq_price=float64, log=float64, max_equity_risk=float64, max_equity_risk_pct=float64, max_lev=float64, max_order_pct_size=float64, max_order_size=float64, min_order_pct_size=float64, min_order_size=float64, mmr=float64, pct_chg=float64, position=float64, raise_reject=float64, realized_pnl=float64, reject_prob=float64, risk_rewards=float64, size=float64, size_pct=float64, sl_pcts=float64, sl_prices=float64, slippage_pct=float64, status=float64, status_info=float64, tp_pcts=float64, tp_prices=float64, tsl_pcts=float64, tsl_prices=float64)\n \nThere are 2 candidate implementations:\n\u001b[1m - Of which 2 did not match due to:\n Overload in function 'NamedTupleClass': File: numba\\core\\typing\\templates.py: Line 174.\n   With argument(s): '(lev_mode=float64, order_type=float64, price=float64, size_type=float64, allow_partial=float64, available_balance=float64, average_entry=float64, cash_borrowed=float64, cash_used=float64, equity=float64, fee=float64, fees_paid=float64, leverage=float64, liq_price=float64, log=float64, max_equity_risk=float64, max_equity_risk_pct=float64, max_lev=float64, max_order_pct_size=float64, max_order_size=float64, min_order_pct_size=float64, min_order_size=float64, mmr=float64, pct_chg=float64, position=float64, raise_reject=float64, realized_pnl=float64, reject_prob=float64, risk_rewards=float64, size=float64, size_pct=float64, sl_pcts=float64, sl_prices=float64, slippage_pct=float64, status=float64, status_info=float64, tp_pcts=float64, tp_prices=float64, tsl_pcts=float64, tsl_prices=float64)':\u001b[0m\n\u001b[1m  Rejected as the implementation raised a specific error:\n    TypeError: In '<class 'vectorbt.qf.portfolio.enums.enums_qf.ResultEverything_QF'>': got an unexpected keyword argument 'risk_rewards'\u001b[0m\n  raised from C:\\Users\\User\\AppData\\Local\\Programs\\Python\\Python39\\lib\\inspect.py:3034\n\u001b[0m\n\u001b[0m\u001b[1mDuring: resolving callee type: class(<class 'vectorbt.qf.portfolio.enums.enums_qf.ResultEverything_QF'>)\u001b[0m\n\u001b[0m\u001b[1mDuring: typing of call at e:\\vbt\\quantfreedomvbt\\vectorbt\\qf\\portfolio\\nb\\helper_funcs.py (159)\n\u001b[0m\n\u001b[1m\nFile \"..\\..\\..\\vbt\\quantfreedomvbt\\vectorbt\\qf\\portfolio\\nb\\helper_funcs.py\", line 159:\u001b[0m\n\u001b[1mdef order_not_filled_nb_qf(\n    <source elided>\n\n\u001b[1m    order = ResultEverything_QF(\n\u001b[0m    \u001b[1m^\u001b[0m\u001b[0m\n\n\u001b[0m\u001b[1mDuring: resolving callee type: type(CPUDispatcher(<function order_not_filled_nb_qf at 0x000001DF6CDEC1F0>))\u001b[0m\n\u001b[0m\u001b[1mDuring: typing of call at e:\\vbt\\quantfreedomvbt\\vectorbt\\qf\\portfolio\\nb\\buy_funcs.py (113)\n\u001b[0m\n\u001b[0m\u001b[1mDuring: resolving callee type: type(CPUDispatcher(<function order_not_filled_nb_qf at 0x000001DF6CDEC1F0>))\u001b[0m\n\u001b[0m\u001b[1mDuring: typing of call at e:\\vbt\\quantfreedomvbt\\vectorbt\\qf\\portfolio\\nb\\buy_funcs.py (156)\n\u001b[0m\n\u001b[0m\u001b[1mDuring: resolving callee type: type(CPUDispatcher(<function order_not_filled_nb_qf at 0x000001DF6CDEC1F0>))\u001b[0m\n\u001b[0m\u001b[1mDuring: typing of call at e:\\vbt\\quantfreedomvbt\\vectorbt\\qf\\portfolio\\nb\\buy_funcs.py (167)\n\u001b[0m\n\u001b[0m\u001b[1mDuring: resolving callee type: type(CPUDispatcher(<function order_not_filled_nb_qf at 0x000001DF6CDEC1F0>))\u001b[0m\n\u001b[0m\u001b[1mDuring: typing of call at e:\\vbt\\quantfreedomvbt\\vectorbt\\qf\\portfolio\\nb\\buy_funcs.py (221)\n\u001b[0m\n\u001b[0m\u001b[1mDuring: resolving callee type: type(CPUDispatcher(<function order_not_filled_nb_qf at 0x000001DF6CDEC1F0>))\u001b[0m\n\u001b[0m\u001b[1mDuring: typing of call at e:\\vbt\\quantfreedomvbt\\vectorbt\\qf\\portfolio\\nb\\buy_funcs.py (113)\n\u001b[0m\n\u001b[1m\nFile \"..\\..\\..\\vbt\\quantfreedomvbt\\vectorbt\\qf\\portfolio\\nb\\buy_funcs.py\", line 113:\u001b[0m\n\u001b[1mdef long_increase_nb_qf(\n    <source elided>\n        if 0 < possible_loss > account_risk_amount:\n\u001b[1m            return account_state, order_not_filled_nb_qf(\n\u001b[0m            \u001b[1m^\u001b[0m\u001b[0m\n\n\u001b[0m\u001b[1mDuring: resolving callee type: type(CPUDispatcher(<function long_increase_nb_qf at 0x000001DF6CDEC040>))\u001b[0m\n\u001b[0m\u001b[1mDuring: typing of call at e:\\vbt\\quantfreedomvbt\\vectorbt\\qf\\portfolio\\nb\\execute_funcs.py (1252)\n\u001b[0m\n\u001b[0m\u001b[1mDuring: resolving callee type: type(CPUDispatcher(<function long_increase_nb_qf at 0x000001DF6CDEC040>))\u001b[0m\n\u001b[0m\u001b[1mDuring: typing of call at e:\\vbt\\quantfreedomvbt\\vectorbt\\qf\\portfolio\\nb\\execute_funcs.py (1252)\n\u001b[0m\n\u001b[1m\nFile \"..\\..\\..\\vbt\\quantfreedomvbt\\vectorbt\\qf\\portfolio\\nb\\execute_funcs.py\", line 1252:\u001b[0m\n\u001b[1mdef execute_order_nb_qf(\n    <source elided>\n    if order.order_type == OrderType_QF.LongEntry and not np.isnan(order.lev_mode):\n\u001b[1m        new_account_state, order_result, new_all_stops = long_increase_nb_qf(\n\u001b[0m        \u001b[1m^\u001b[0m\u001b[0m\n\n\u001b[0m\u001b[1mDuring: resolving callee type: type(CPUDispatcher(<function execute_order_nb_qf at 0x000001DF6CE09E50>))\u001b[0m\n\u001b[0m\u001b[1mDuring: typing of call at e:\\vbt\\quantfreedomvbt\\vectorbt\\qf\\portfolio\\nb\\execute_funcs.py (1330)\n\u001b[0m\n\u001b[0m\u001b[1mDuring: resolving callee type: type(CPUDispatcher(<function execute_order_nb_qf at 0x000001DF6CE09E50>))\u001b[0m\n\u001b[0m\u001b[1mDuring: typing of call at e:\\vbt\\quantfreedomvbt\\vectorbt\\qf\\portfolio\\nb\\execute_funcs.py (1330)\n\u001b[0m\n\u001b[1m\nFile \"..\\..\\..\\vbt\\quantfreedomvbt\\vectorbt\\qf\\portfolio\\nb\\execute_funcs.py\", line 1330:\u001b[0m\n\u001b[1mdef process_order_nb_qf(\n    <source elided>\n    # Execute the order\n\u001b[1m    new_account_state, order_result, new_all_stops = execute_order_nb_qf(\n\u001b[0m    \u001b[1m^\u001b[0m\u001b[0m\n\n\u001b[0m\u001b[1mDuring: resolving callee type: type(CPUDispatcher(<function process_order_nb_qf at 0x000001DF6CE22040>))\u001b[0m\n\u001b[0m\u001b[1mDuring: typing of call at e:\\vbt\\quantfreedomvbt\\vectorbt\\qf\\portfolio\\nb\\execute_funcs.py (552)\n\u001b[0m\n\u001b[0m\u001b[1mDuring: resolving callee type: type(CPUDispatcher(<function process_order_nb_qf at 0x000001DF6CE22040>))\u001b[0m\n\u001b[0m\u001b[1mDuring: typing of call at e:\\vbt\\quantfreedomvbt\\vectorbt\\qf\\portfolio\\nb\\execute_funcs.py (552)\n\u001b[0m\n\u001b[0m\u001b[1mDuring: resolving callee type: type(CPUDispatcher(<function process_order_nb_qf at 0x000001DF6CE22040>))\u001b[0m\n\u001b[0m\u001b[1mDuring: typing of call at e:\\vbt\\quantfreedomvbt\\vectorbt\\qf\\portfolio\\nb\\execute_funcs.py (552)\n\u001b[0m\n\u001b[0m\u001b[1mDuring: resolving callee type: type(CPUDispatcher(<function process_order_nb_qf at 0x000001DF6CE22040>))\u001b[0m\n\u001b[0m\u001b[1mDuring: typing of call at e:\\vbt\\quantfreedomvbt\\vectorbt\\qf\\portfolio\\nb\\execute_funcs.py (552)\n\u001b[0m\n\u001b[0m\u001b[1mDuring: resolving callee type: type(CPUDispatcher(<function process_order_nb_qf at 0x000001DF6CE22040>))\u001b[0m\n\u001b[0m\u001b[1mDuring: typing of call at e:\\vbt\\quantfreedomvbt\\vectorbt\\qf\\portfolio\\nb\\execute_funcs.py (552)\n\u001b[0m\n\u001b[1m\nFile \"..\\..\\..\\vbt\\quantfreedomvbt\\vectorbt\\qf\\portfolio\\nb\\execute_funcs.py\", line 552:\u001b[0m\n\u001b[1mdef cart_tester(\n    <source elided>\n                if current_indicator_entries[bar]:\n\u001b[1m                    account_state, order_result, all_stops=process_order_nb_qf(\n\u001b[0m                    \u001b[1m^\u001b[0m\u001b[0m\n"
     ]
    }
   ],
   "source": [
    "df_array, order_records, _ = cart_from_signals(\n",
    "    open=open,\n",
    "    high=high,\n",
    "    low=low,\n",
    "    close=close,\n",
    "    entries=entries,\n",
    "    order=order,\n",
    "    account_state=account_state,\n",
    "    all_stops=all_stops,\n",
    ")"
   ]
  },
  {
   "cell_type": "code",
   "execution_count": null,
   "metadata": {},
   "outputs": [],
   "source": [
    "df = pd.DataFrame(df_array)\n",
    "pd.options.display.float_format = '{:,.2f}'.format\n",
    "\n",
    "for idx, name in enumerate(entries.columns.names):\n",
    "    df[name] = df['ind_set']\n",
    "    for jjj in range(df['ind_set'].min(), df['ind_set'].max()+1):\n",
    "        df[name].mask(df['ind_set'] == jjj, entries.columns[jjj][idx], inplace=True)\n",
    "df.sort_values(by=['to_the_upside'], ascending=False).head(30)"
   ]
  },
  {
   "cell_type": "code",
   "execution_count": null,
   "metadata": {},
   "outputs": [],
   "source": [
    "# print(df.sort_values(by=['to_the_upside'], ascending=False).head(10).to_markdown())"
   ]
  }
 ],
 "metadata": {
  "kernelspec": {
   "display_name": "qfVBT",
   "language": "python",
   "name": "python3"
  },
  "language_info": {
   "codemirror_mode": {
    "name": "ipython",
    "version": 3
   },
   "file_extension": ".py",
   "mimetype": "text/x-python",
   "name": "python",
   "nbconvert_exporter": "python",
   "pygments_lexer": "ipython3",
   "version": "3.10.10"
  },
  "orig_nbformat": 4,
  "vscode": {
   "interpreter": {
    "hash": "d03a5f5914d41db73604e557196e04fa21b062a314cb051b64faf513d9f7a3ca"
   }
  }
 },
 "nbformat": 4,
 "nbformat_minor": 2
}
