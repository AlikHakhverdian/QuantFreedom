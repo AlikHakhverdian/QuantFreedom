{
 "cells": [
  {
   "cell_type": "code",
   "execution_count": 1,
   "metadata": {},
   "outputs": [],
   "source": [
    "import os\n",
    "import sys\n",
    "sys.dont_write_bytecode = True\n",
    "os.environ[\"NUMBA_DISABLE_JIT\"] = \"1\"\n",
    "\n",
    "import pandas as pd\n",
    "import numpy as np\n",
    "from quantfreedom.backtester.base.base import rsi_below_entries, plot_trades_all_info\n",
    "from quantfreedom.backtester.nb.simulate import simulate_from_signals\n",
    "from quantfreedom.backtester.enums.enums import (\n",
    "    LeverageMode,\n",
    "    SizeType,\n",
    "    OrderType,\n",
    "    SL_BE_or_Trail_BasedOn,\n",
    ")\n",
    "from quantfreedom.utils.caching import clear_cache\n",
    "\n",
    "pd.options.display.float_format = '{:,.2f}'.format\n",
    "\n",
    "prices = pd.read_csv('30min.csv', index_col='time')\n",
    "entries = rsi_below_entries(\n",
    "    timeperiods=[20],\n",
    "    below_ranges=[40],\n",
    "    prices=prices.close\n",
    ")\n"
   ]
  },
  {
   "cell_type": "code",
   "execution_count": 2,
   "metadata": {},
   "outputs": [
    {
     "ename": "TypeError",
     "evalue": "process_order_nb() missing 2 required positional arguments: 'strat_records' and 'strat_records_filled'",
     "output_type": "error",
     "traceback": [
      "\u001b[1;31m---------------------------------------------------------------------------\u001b[0m",
      "\u001b[1;31mTypeError\u001b[0m                                 Traceback (most recent call last)",
      "Cell \u001b[1;32mIn[2], line 1\u001b[0m\n\u001b[1;32m----> 1\u001b[0m df_array, order_records, df_cart_array \u001b[39m=\u001b[39m simulate_from_signals(\n\u001b[0;32m      2\u001b[0m     open_prices\u001b[39m=\u001b[39;49mprices\u001b[39m.\u001b[39;49mopen\u001b[39m.\u001b[39;49mvalues,\n\u001b[0;32m      3\u001b[0m     high_prices\u001b[39m=\u001b[39;49mprices\u001b[39m.\u001b[39;49mhigh\u001b[39m.\u001b[39;49mvalues,\n\u001b[0;32m      4\u001b[0m     low_prices\u001b[39m=\u001b[39;49mprices\u001b[39m.\u001b[39;49mlow\u001b[39m.\u001b[39;49mvalues,\n\u001b[0;32m      5\u001b[0m     close_prices\u001b[39m=\u001b[39;49mprices\u001b[39m.\u001b[39;49mclose\u001b[39m.\u001b[39;49mvalues,\n\u001b[0;32m      6\u001b[0m     entries\u001b[39m=\u001b[39;49mentries\u001b[39m.\u001b[39;49mvalues,\n\u001b[0;32m      7\u001b[0m     equity\u001b[39m=\u001b[39;49m\u001b[39m1000.\u001b[39;49m,\n\u001b[0;32m      8\u001b[0m     fee_pct\u001b[39m=\u001b[39;49m\u001b[39m.06\u001b[39;49m,\n\u001b[0;32m      9\u001b[0m     mmr\u001b[39m=\u001b[39;49m\u001b[39m.5\u001b[39;49m,\n\u001b[0;32m     10\u001b[0m     lev_mode\u001b[39m=\u001b[39;49mLeverageMode\u001b[39m.\u001b[39;49mLeastFreeCashUsed,\n\u001b[0;32m     11\u001b[0m     size_type\u001b[39m=\u001b[39;49mSizeType\u001b[39m.\u001b[39;49mRiskPercentOfAccount,\n\u001b[0;32m     12\u001b[0m     order_type\u001b[39m=\u001b[39;49mOrderType\u001b[39m.\u001b[39;49mLongEntry,\n\u001b[0;32m     13\u001b[0m     max_equity_risk_pct\u001b[39m=\u001b[39;49mnp\u001b[39m.\u001b[39;49marange(\u001b[39m3\u001b[39;49m,\u001b[39m6\u001b[39;49m,\u001b[39m1\u001b[39;49m),\n\u001b[0;32m     14\u001b[0m     risk_rewards\u001b[39m=\u001b[39;49mnp\u001b[39m.\u001b[39;49marange(\u001b[39m3\u001b[39;49m,\u001b[39m5\u001b[39;49m,\u001b[39m1\u001b[39;49m),\n\u001b[0;32m     15\u001b[0m     size_pct\u001b[39m=\u001b[39;49m\u001b[39m1.\u001b[39;49m,\n\u001b[0;32m     16\u001b[0m     gains_pct_filter\u001b[39m=\u001b[39;49m\u001b[39m40\u001b[39;49m,\n\u001b[0;32m     17\u001b[0m     \u001b[39m# sl_pcts=np.arange(1,6,1),\u001b[39;49;00m\n\u001b[0;32m     18\u001b[0m     tsl_true_or_false\u001b[39m=\u001b[39;49m\u001b[39mTrue\u001b[39;49;00m,\n\u001b[0;32m     19\u001b[0m     tsl_pcts_init\u001b[39m=\u001b[39;49mnp\u001b[39m.\u001b[39;49marange(\u001b[39m2\u001b[39;49m,\u001b[39m5\u001b[39;49m,\u001b[39m1\u001b[39;49m),\n\u001b[0;32m     20\u001b[0m     tsl_based_on\u001b[39m=\u001b[39;49mSL_BE_or_Trail_BasedOn\u001b[39m.\u001b[39;49mlow_price,\n\u001b[0;32m     21\u001b[0m     tsl_trail_by_pct\u001b[39m=\u001b[39;49mnp\u001b[39m.\u001b[39;49marange(\u001b[39m1\u001b[39;49m,\u001b[39m4\u001b[39;49m,\u001b[39m1\u001b[39;49m),\n\u001b[0;32m     22\u001b[0m     tsl_when_pct_from_avg_entry\u001b[39m=\u001b[39;49mnp\u001b[39m.\u001b[39;49marange(\u001b[39m1\u001b[39;49m,\u001b[39m4\u001b[39;49m,\u001b[39m1\u001b[39;49m),\n\u001b[0;32m     23\u001b[0m )\n",
      "File \u001b[1;32me:\\coding\\backtesters\\quantfreedom\\quantfreedom\\backtester\\nb\\simulate.py:1352\u001b[0m, in \u001b[0;36msimulate_from_signals\u001b[1;34m(entries, open_prices, high_prices, low_prices, close_prices, equity, fee_pct, mmr, lev_mode, order_type, size_type, leverage, max_equity_risk_pct, max_equity_risk_value, max_lev, max_order_size_pct, min_order_size_pct, max_order_size_value, min_order_size_value, size_pct, size_value, sl_pcts, sl_to_be, sl_to_be_based_on, sl_to_be_when_pct_from_avg_entry, sl_to_be_zero_or_entry, sl_to_be_then_trail, sl_to_be_trail_by_when_pct_from_avg_entry, tsl_pcts_init, tsl_true_or_false, tsl_based_on, tsl_trail_by_pct, tsl_when_pct_from_avg_entry, risk_rewards, tp_pcts, gains_pct_filter, total_trade_filter)\u001b[0m\n\u001b[0;32m   1347\u001b[0m     \u001b[39mbreak\u001b[39;00m\n\u001b[0;32m   1349\u001b[0m \u001b[39mif\u001b[39;00m current_indicator_entries[bar]:\n\u001b[0;32m   1350\u001b[0m \n\u001b[0;32m   1351\u001b[0m     \u001b[39m# Process Order nb\u001b[39;00m\n\u001b[1;32m-> 1352\u001b[0m     account_state, order_result \u001b[39m=\u001b[39m process_order_nb(\n\u001b[0;32m   1353\u001b[0m         price\u001b[39m=\u001b[39;49mopen_prices[bar],\n\u001b[0;32m   1354\u001b[0m         order_type\u001b[39m=\u001b[39;49mentry_order\u001b[39m.\u001b[39;49morder_type,\n\u001b[0;32m   1355\u001b[0m \n\u001b[0;32m   1356\u001b[0m         account_state\u001b[39m=\u001b[39;49maccount_state,\n\u001b[0;32m   1357\u001b[0m         entry_order\u001b[39m=\u001b[39;49mentry_order,\n\u001b[0;32m   1358\u001b[0m         order_result\u001b[39m=\u001b[39;49morder_result,\n\u001b[0;32m   1359\u001b[0m         static_variables\u001b[39m=\u001b[39;49mstatic_variables,\n\u001b[0;32m   1360\u001b[0m \n\u001b[0;32m   1361\u001b[0m         bar\u001b[39m=\u001b[39;49mbar,\n\u001b[0;32m   1362\u001b[0m         indicator_settings_counter\u001b[39m=\u001b[39;49mindicator_settings_counter,\n\u001b[0;32m   1363\u001b[0m         order_settings_counter\u001b[39m=\u001b[39;49morder_settings_counter,\n\u001b[0;32m   1364\u001b[0m \n\u001b[0;32m   1365\u001b[0m         order_records\u001b[39m=\u001b[39;49morder_records[order_count_id[\u001b[39m0\u001b[39;49m]],\n\u001b[0;32m   1366\u001b[0m         order_count_id\u001b[39m=\u001b[39;49morder_count_id,\n\u001b[0;32m   1367\u001b[0m         or_filled_temp\u001b[39m=\u001b[39;49mor_filled_temp,\n\u001b[0;32m   1368\u001b[0m     )\n\u001b[0;32m   1369\u001b[0m \u001b[39mif\u001b[39;00m order_result\u001b[39m.\u001b[39mposition \u001b[39m>\u001b[39m \u001b[39m0\u001b[39m:\n\u001b[0;32m   1370\u001b[0m     \u001b[39m# Check Stops\u001b[39;00m\n\u001b[0;32m   1371\u001b[0m     order_result \u001b[39m=\u001b[39m check_sl_tp_nb(\n\u001b[0;32m   1372\u001b[0m         open_price\u001b[39m=\u001b[39mopen_prices[bar],\n\u001b[0;32m   1373\u001b[0m         high_price\u001b[39m=\u001b[39mhigh_prices[bar],\n\u001b[1;32m   (...)\u001b[0m\n\u001b[0;32m   1390\u001b[0m         order_settings_counter\u001b[39m=\u001b[39morder_settings_counter,\n\u001b[0;32m   1391\u001b[0m     )\n",
      "\u001b[1;31mTypeError\u001b[0m: process_order_nb() missing 2 required positional arguments: 'strat_records' and 'strat_records_filled'"
     ]
    }
   ],
   "source": [
    "df_array, order_records, df_cart_array = simulate_from_signals(\n",
    "    open_prices=prices.open.values,\n",
    "    high_prices=prices.high.values,\n",
    "    low_prices=prices.low.values,\n",
    "    close_prices=prices.close.values,\n",
    "    entries=entries.values,\n",
    "    equity=1000.,\n",
    "    fee_pct=.06,\n",
    "    mmr=.5,\n",
    "    lev_mode=LeverageMode.LeastFreeCashUsed,\n",
    "    size_type=SizeType.RiskPercentOfAccount,\n",
    "    order_type=OrderType.LongEntry,\n",
    "    max_equity_risk_pct=np.arange(3,6,1),\n",
    "    risk_rewards=np.arange(3,5,1),\n",
    "    size_pct=1.,\n",
    "    gains_pct_filter=40,\n",
    "    # sl_pcts=np.arange(1,6,1),\n",
    "    tsl_true_or_false=True,\n",
    "    tsl_pcts_init=np.arange(2,5,1),\n",
    "    tsl_based_on=SL_BE_or_Trail_BasedOn.low_price,\n",
    "    tsl_trail_by_pct=np.arange(1,4,1),\n",
    "    tsl_when_pct_from_avg_entry=np.arange(1,4,1),\n",
    ")\n"
   ]
  },
  {
   "cell_type": "code",
   "execution_count": null,
   "metadata": {},
   "outputs": [],
   "source": [
    "df_or = pd.DataFrame(order_records)\n",
    "for i in range(len(OrderType._fields)):\n",
    "    df_or.replace({'order_type': {i: OrderType._fields[i]}}, inplace=True)\n",
    "df_or.head(10)    "
   ]
  },
  {
   "cell_type": "code",
   "execution_count": null,
   "metadata": {},
   "outputs": [],
   "source": [
    "pd.DataFrame(df_array).sort_values(by='gains_pct', ascending=False)\n"
   ]
  },
  {
   "cell_type": "code",
   "execution_count": null,
   "metadata": {},
   "outputs": [],
   "source": [
    "df_cart = pd.DataFrame(df_cart_array).dropna(axis='columns', thresh=1)\n",
    "for i in range(len(SL_BE_or_Trail_BasedOn._fields)):\n",
    "    df_cart.replace({'tsl_based_on': {i: SL_BE_or_Trail_BasedOn._fields[i]}}, inplace=True)\n",
    "    df_cart.replace({'sl_to_be_based_on': {i: SL_BE_or_Trail_BasedOn._fields[i]}}, inplace=True)\n",
    "df_cart.T"
   ]
  },
  {
   "cell_type": "code",
   "execution_count": null,
   "metadata": {},
   "outputs": [],
   "source": [
    "plot_trades_all_info(\n",
    "    open_prices=prices.open,\n",
    "    high_prices=prices.high,\n",
    "    low_prices=prices.low,\n",
    "    close_prices=prices.close,\n",
    "    order_records=order_records[:30],\n",
    ")"
   ]
  },
  {
   "cell_type": "code",
   "execution_count": null,
   "metadata": {},
   "outputs": [],
   "source": [
    "clear_cache()"
   ]
  }
 ],
 "metadata": {
  "kernelspec": {
   "display_name": "qfFree",
   "language": "python",
   "name": "python3"
  },
  "language_info": {
   "codemirror_mode": {
    "name": "ipython",
    "version": 3
   },
   "file_extension": ".py",
   "mimetype": "text/x-python",
   "name": "python",
   "nbconvert_exporter": "python",
   "pygments_lexer": "ipython3",
   "version": "3.10.10"
  },
  "orig_nbformat": 4
 },
 "nbformat": 4,
 "nbformat_minor": 2
}
