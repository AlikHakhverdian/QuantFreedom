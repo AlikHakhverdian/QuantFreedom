{
 "cells": [
  {
   "cell_type": "code",
   "execution_count": 1,
   "metadata": {},
   "outputs": [],
   "source": [
    "import numpy as np\n",
    "broad_array = np.array([np.array([1]), np.array([np.nan]), np.array(\n",
    "    [3, 5, 4]), np.array([1]), np.array([6]), np.array([np.inf]), np.array([np.nan])])\n"
   ]
  },
  {
   "cell_type": "code",
   "execution_count": 2,
   "metadata": {},
   "outputs": [
    {
     "data": {
      "text/plain": [
       "3"
      ]
     },
     "execution_count": 2,
     "metadata": {},
     "output_type": "execute_result"
    }
   ],
   "source": [
    "np.array(\n",
    "    [3, 5, 4]).size"
   ]
  },
  {
   "cell_type": "code",
   "execution_count": 9,
   "metadata": {},
   "outputs": [],
   "source": [
    "x = 0\n",
    "while x < 7:\n",
    "    if broad_array[x].size > 1:\n",
    "        biggest = broad_array[x].size\n",
    "        break\n",
    "    x+=1\n",
    "\n",
    "while x < 7:\n",
    "    if broad_array[x].size > 1 and broad_array[x].size != biggest:\n",
    "        raise ValueError(\"Size mismatch\")\n",
    "    x+=1\n",
    "if biggest >= 5:\n",
    "    raise ValueError(\"Total amount of tests must be <= 5\")"
   ]
  },
  {
   "cell_type": "code",
   "execution_count": 11,
   "metadata": {},
   "outputs": [],
   "source": [
    "leverage_cart_array = np.broadcast_to(broad_array[0], biggest)\n",
    "max_equity_risk_pct_cart_array = np.broadcast_to(broad_array[1], biggest)\n",
    "max_equity_risk_value_cart_array = np.broadcast_to(broad_array[2], biggest)\n",
    "risk_rewards_cart_array = np.broadcast_to(broad_array[3], biggest)\n",
    "size_pct_cart_array = np.broadcast_to(broad_array[4], biggest)\n",
    "size_value_cart_array = np.broadcast_to(broad_array[5], biggest)\n",
    "sl_pcts_cart_array = np.broadcast_to(broad_array[6], biggest)"
   ]
  },
  {
   "cell_type": "code",
   "execution_count": 12,
   "metadata": {},
   "outputs": [
    {
     "data": {
      "text/plain": [
       "array([1, 1, 1])"
      ]
     },
     "execution_count": 12,
     "metadata": {},
     "output_type": "execute_result"
    }
   ],
   "source": [
    "risk_rewards_cart_array"
   ]
  },
  {
   "cell_type": "code",
   "execution_count": null,
   "metadata": {},
   "outputs": [],
   "source": [
    "# leverage_cart_array = np.broadcast_to(broad_array[0], biggest)\n",
    "# max_equity_risk_pct_cart_array = np.broadcast_to(broad_array[1], biggest)\n",
    "# max_equity_risk_value_cart_array = np.broadcast_to(broad_array[2], biggest)\n",
    "# risk_rewards_cart_array = np.broadcast_to(broad_array[3], biggest)\n",
    "# size_pct_cart_array = np.broadcast_to(broad_array[4], biggest)\n",
    "# size_value_cart_array = np.broadcast_to(broad_array[5], biggest)\n",
    "# sl_pcts_cart_array = np.broadcast_to(broad_array[6], biggest)\n",
    "# sl_to_be_based_on_cart_array = np.broadcast_to(broad_array[7], biggest)\n",
    "# sl_to_be_trail_by_when_pct_from_avg_entry_cart_array = np.broadcast_to(broad_array[8], biggest)\n",
    "# sl_to_be_when_pct_from_avg_entry_cart_array = np.broadcast_to(broad_array[9], biggest)\n",
    "# sl_to_be_zero_or_entry_cart_array = np.broadcast_to(broad_array[10], biggest)\n",
    "# tp_pcts_cart_array = np.broadcast_to(broad_array[11], biggest)\n",
    "# tsl_based_on_cart_array = np.broadcast_to(broad_array[12], biggest)\n",
    "# tsl_pcts_init_cart_array = np.broadcast_to(broad_array[13], biggest)\n",
    "# tsl_trail_by_cart_array = np.broadcast_to(broad_array[14], biggest)\n",
    "# tsl_when_pct_from_avg_entry_cart_array = np.broadcast_to(broad_array[15], biggest)"
   ]
  }
 ],
 "metadata": {
  "kernelspec": {
   "display_name": "qfFree",
   "language": "python",
   "name": "python3"
  },
  "language_info": {
   "codemirror_mode": {
    "name": "ipython",
    "version": 3
   },
   "file_extension": ".py",
   "mimetype": "text/x-python",
   "name": "python",
   "nbconvert_exporter": "python",
   "pygments_lexer": "ipython3",
   "version": "3.10.10"
  },
  "orig_nbformat": 4
 },
 "nbformat": 4,
 "nbformat_minor": 2
}
