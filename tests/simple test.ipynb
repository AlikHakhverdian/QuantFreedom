{
 "cells": [
  {
   "cell_type": "code",
   "execution_count": 1,
   "metadata": {},
   "outputs": [],
   "source": [
    "# Disable Cache\n",
    "import os, sys\n",
    "sys.dont_write_bytecode = True\n",
    "os.environ[\"NUMBA_DISABLE_JIT\"] = \"1\"\n",
    "os.environ[\"NUMBA_DEBUG_CACHE\"] = \"1\"\n",
    "os.environ[\"NUMBA_DEBUGINFO\"] = \"1\""
   ]
  },
  {
   "cell_type": "code",
   "execution_count": 11,
   "metadata": {},
   "outputs": [],
   "source": [
    "import quantfreedom as qf\n",
    "from quantfreedom.backtester.nb.buy_funcs import *\n",
    "from quantfreedom.backtester.nb.simulate import *\n",
    "from quantfreedom.backtester.enums.enums import *"
   ]
  },
  {
   "cell_type": "code",
   "execution_count": 5,
   "metadata": {},
   "outputs": [],
   "source": [
    "account_state = AccountState(\n",
    "    available_balance=1000.,\n",
    "    equity=1000.,\n",
    ")\n",
    "entry_order = EntryOrder(\n",
    "    max_equity_risk_pct=1.,\n",
    "    risk_rewards=2,\n",
    "    size_pct=.01,\n",
    "    sl_pcts=.01,\n",
    ")\n",
    "order_result = OrderResult(\n",
    "    \n",
    ")\n",
    "static_variables = StaticVariables(\n",
    "    lev_mode=LeverageMode.LeastFreeCashUsed,\n",
    "    size_type=SizeType.RiskPercentOfAccount,\n",
    ")"
   ]
  },
  {
   "cell_type": "code",
   "execution_count": 15,
   "metadata": {},
   "outputs": [
    {
     "ename": "TypeError",
     "evalue": "simulate_from_signals() got an unexpected keyword argument 'account_state'",
     "output_type": "error",
     "traceback": [
      "\u001b[1;31m---------------------------------------------------------------------------\u001b[0m",
      "\u001b[1;31mTypeError\u001b[0m                                 Traceback (most recent call last)",
      "Cell \u001b[1;32mIn[15], line 1\u001b[0m\n\u001b[1;32m----> 1\u001b[0m simulate_from_signals(\n\u001b[0;32m      2\u001b[0m     account_state\u001b[39m=\u001b[39;49maccount_state,\n\u001b[0;32m      3\u001b[0m     entry_order\u001b[39m=\u001b[39;49mentry_order,\n\u001b[0;32m      4\u001b[0m     order_result\u001b[39m=\u001b[39;49morder_result,\n\u001b[0;32m      5\u001b[0m     static_variables\u001b[39m=\u001b[39;49mstatic_variables,\n\u001b[0;32m      6\u001b[0m     price\u001b[39m=\u001b[39;49m\u001b[39m1000.\u001b[39;49m,\n\u001b[0;32m      7\u001b[0m )\n\u001b[0;32m      8\u001b[0m qf\u001b[39m.\u001b[39mpretty(account_state)\n\u001b[0;32m      9\u001b[0m qf\u001b[39m.\u001b[39mpretty(order_result)\n",
      "\u001b[1;31mTypeError\u001b[0m: simulate_from_signals() got an unexpected keyword argument 'account_state'"
     ]
    }
   ],
   "source": [
    "simulate_from_signals(\n",
    "    entries\n",
    ")\n",
    "qf.pretty(account_state)\n",
    "qf.pretty(order_result)"
   ]
  }
 ],
 "metadata": {
  "kernelspec": {
   "display_name": "qfFree",
   "language": "python",
   "name": "python3"
  },
  "language_info": {
   "codemirror_mode": {
    "name": "ipython",
    "version": 3
   },
   "file_extension": ".py",
   "mimetype": "text/x-python",
   "name": "python",
   "nbconvert_exporter": "python",
   "pygments_lexer": "ipython3",
   "version": "3.10.10"
  },
  "orig_nbformat": 4
 },
 "nbformat": 4,
 "nbformat_minor": 2
}
