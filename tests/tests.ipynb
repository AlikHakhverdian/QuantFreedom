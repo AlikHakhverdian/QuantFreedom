{
 "cells": [
  {
   "cell_type": "code",
   "execution_count": 1,
   "metadata": {},
   "outputs": [],
   "source": [
    "import quantfreedom as qf\n",
    "from quantfreedom import _typing as tp\n",
    "import polars as pl\n",
    "import pandas as pd\n",
    "import pyarrow\n",
    "import numpy as np\n",
    "import talib\n"
   ]
  },
  {
   "cell_type": "code",
   "execution_count": 2,
   "metadata": {},
   "outputs": [
    {
     "ename": "NameError",
     "evalue": "name 'leverage_iso' is not defined",
     "output_type": "error",
     "traceback": [
      "\u001b[1;31m---------------------------------------------------------------------------\u001b[0m",
      "\u001b[1;31mNameError\u001b[0m                                 Traceback (most recent call last)",
      "Cell \u001b[1;32mIn[2], line 1\u001b[0m\n\u001b[1;32m----> 1\u001b[0m np\u001b[39m.\u001b[39mbool_(leverage_iso)\n",
      "\u001b[1;31mNameError\u001b[0m: name 'leverage_iso' is not defined"
     ]
    }
   ],
   "source": [
    "np.bool_(leverage_iso)"
   ]
  },
  {
   "cell_type": "code",
   "execution_count": null,
   "metadata": {},
   "outputs": [],
   "source": [
    "leverage_iso = np.array([\n",
    "    [1, 4, 5, 99, 2, 4],\n",
    "    [0, 5, 3, 2, 5, np.nan]\n",
    "])\n"
   ]
  },
  {
   "cell_type": "code",
   "execution_count": null,
   "metadata": {},
   "outputs": [],
   "source": [
    "leverage_iso = np.array([\n",
    "    [1, 4, 5, 100.1, 2, 4],\n",
    "    [0, 5, 3, 2, 5, np.nan]\n",
    "])\n",
    "\n",
    "leverage_iso.any() > max_lev or leverage_iso.any() < 0\n",
    "# (max_lev < leverage_iso).any() or (leverage_iso < 0 ).any"
   ]
  },
  {
   "cell_type": "code",
   "execution_count": null,
   "metadata": {},
   "outputs": [],
   "source": [
    "not np.isnan(leverage_iso).any()"
   ]
  },
  {
   "cell_type": "code",
   "execution_count": null,
   "metadata": {},
   "outputs": [],
   "source": [
    "leverage_iso = np.array([\n",
    "    [1, 4, 5, 100.1, 2, 4],\n",
    "    [0, 5, 3, 2, 5, np.nan]\n",
    "])\n",
    "leverage_iso.all() == False"
   ]
  }
 ],
 "metadata": {
  "kernelspec": {
   "display_name": "qfFree",
   "language": "python",
   "name": "python3"
  },
  "language_info": {
   "codemirror_mode": {
    "name": "ipython",
    "version": 3
   },
   "file_extension": ".py",
   "mimetype": "text/x-python",
   "name": "python",
   "nbconvert_exporter": "python",
   "pygments_lexer": "ipython3",
   "version": "3.10.10"
  },
  "orig_nbformat": 4
 },
 "nbformat": 4,
 "nbformat_minor": 2
}
