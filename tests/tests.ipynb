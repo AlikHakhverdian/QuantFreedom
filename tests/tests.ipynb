{
 "cells": [
  {
   "cell_type": "code",
   "execution_count": 4,
   "metadata": {},
   "outputs": [],
   "source": [
    "import os, sys\n",
    "os.environ[\"NUMBA_DISABLE_JIT\"] = \"1\"\n",
    "# os.environ[\"NUMBA_DEBUGINFO\"] = \"1\"\n",
    "# os.environ[\"NUMBA_DEBUG_CACHE\"] = \"1\"\n",
    "# sys.dont_write_bytecode = True\n",
    "\n",
    "import quantfreedom as qf\n",
    "from quantfreedom.backtester.nb.buy_funcs import long_increase_nb\n",
    "from quantfreedom.backtester.enums.enums import *\n",
    "qf.clear_cache()\n"
   ]
  },
  {
   "cell_type": "code",
   "execution_count": 5,
   "metadata": {},
   "outputs": [],
   "source": [
    "account_state = AccountState(\n",
    "    available_balance=1000.,\n",
    "    equity=1000.,\n",
    ")\n",
    "entry_order = EntryOrder(\n",
    "    max_equity_risk_pct=1.,\n",
    "    risk_rewards=2,\n",
    "    size_pct=.01,\n",
    "    sl_pcts=.01,\n",
    ")\n",
    "order_result = OrderResult(\n",
    "    \n",
    ")\n",
    "static_variables = StaticVariables(\n",
    "    lev_mode=LeverageMode.LeastFreeCashUsed,\n",
    "    size_type=SizeType.RiskPercentOfAccount,\n",
    ")"
   ]
  },
  {
   "cell_type": "code",
   "execution_count": 6,
   "metadata": {},
   "outputs": [
    {
     "name": "stdout",
     "output_type": "stream",
     "text": [
      "AccountState(\n",
      "    available_balance = 992.7320751999999,\n",
      "    cash_borrowed = 392.7320752,\n",
      "    cash_used = 7.267924800000008,\n",
      "    equity = 1000.0,\n",
      ")\n",
      "OrderResult(\n",
      "    average_entry = 1000.0,\n",
      "    fees_paid = 0.0,\n",
      "    leverage_auto = 58.892815076560595,\n",
      "    liq_price = 988.02,\n",
      "    moved_sl_to_be = False,\n",
      "    moved_tsl = False,\n",
      "    order_status = 0,\n",
      "    order_status_info = 0,\n",
      "    order_type = 0,\n",
      "    pct_chg = 0.0,\n",
      "    position = 400.0,\n",
      "    realized_pnl = nan,\n",
      "    size_value = 400.0,\n",
      "    sl_pcts = 0.01,\n",
      "    sl_prices = 990.0,\n",
      "    tp_pcts = 0.023602161296778036,\n",
      "    tp_prices = 1023.602161296778,\n",
      "    tsl_pcts = nan,\n",
      "    tsl_prices = nan,\n",
      ")\n"
     ]
    }
   ],
   "source": [
    "account_state, order_result = long_increase_nb(\n",
    "    account_state=account_state,\n",
    "    entry_order=entry_order,\n",
    "    order_result=order_result,\n",
    "    static_variables=static_variables,\n",
    "    size_value=400.,\n",
    "    price=1000.,\n",
    ")\n",
    "qf.pretty(account_state)\n",
    "qf.pretty(order_result)"
   ]
  }
 ],
 "metadata": {
  "kernelspec": {
   "display_name": "qfFree",
   "language": "python",
   "name": "python3"
  },
  "language_info": {
   "codemirror_mode": {
    "name": "ipython",
    "version": 3
   },
   "file_extension": ".py",
   "mimetype": "text/x-python",
   "name": "python",
   "nbconvert_exporter": "python",
   "pygments_lexer": "ipython3",
   "version": "3.10.10"
  },
  "orig_nbformat": 4
 },
 "nbformat": 4,
 "nbformat_minor": 2
}
