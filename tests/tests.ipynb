{
 "cells": [
  {
   "cell_type": "code",
   "execution_count": 2,
   "metadata": {},
   "outputs": [],
   "source": [
    "from quantfreedom.backtester.nb.buy_funcs import long_increase_nb\n",
    "from quantfreedom.backtester.enums.enums import *\n"
   ]
  },
  {
   "cell_type": "code",
   "execution_count": null,
   "metadata": {},
   "outputs": [],
   "source": [
    "account_state = AccountState(\n",
    "    available_balance=1000.,\n",
    "    equity=1000.\n",
    ")\n",
    "entry_order = EntryOrder(\n",
    "    max_equity_risk_pct=1.\n",
    "    risk_rewards=2,\n",
    "    size_pct=.01,\n",
    "    sl_pcts=.01\n",
    ")\n",
    "order_results = OrderResult(\n",
    "    \n",
    ")\n",
    "static_variables = StaticVariables(\n",
    "    \n",
    ")"
   ]
  },
  {
   "cell_type": "code",
   "execution_count": null,
   "metadata": {},
   "outputs": [],
   "source": [
    "long_increase_nb(\n",
    "    \n",
    ")"
   ]
  }
 ],
 "metadata": {
  "kernelspec": {
   "display_name": "qfFree",
   "language": "python",
   "name": "python3"
  },
  "language_info": {
   "codemirror_mode": {
    "name": "ipython",
    "version": 3
   },
   "file_extension": ".py",
   "mimetype": "text/x-python",
   "name": "python",
   "nbconvert_exporter": "python",
   "pygments_lexer": "ipython3",
   "version": "3.10.10"
  },
  "orig_nbformat": 4
 },
 "nbformat": 4,
 "nbformat_minor": 2
}
